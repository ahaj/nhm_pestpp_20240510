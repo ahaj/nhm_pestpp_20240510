{
 "cells": [
  {
   "cell_type": "markdown",
   "id": "80947fdb",
   "metadata": {},
   "source": [
    "### ... in which we read in the consolidate NC files of observations (run `consolidate_observations_0` to make them) and assign obs names and smack them into a single columnar file"
   ]
  },
  {
   "cell_type": "code",
   "execution_count": null,
   "id": "3cf95cdb",
   "metadata": {},
   "outputs": [],
   "source": [
    "import xarray as xr\n",
    "import pathlib as pl\n",
    "import numpy as np\n",
    "import pandas as pd\n",
    "import pywatershed"
   ]
  },
  {
   "cell_type": "markdown",
   "id": "9461b850",
   "metadata": {},
   "source": [
    "### define the model "
   ]
  },
  {
   "cell_type": "code",
   "execution_count": null,
   "id": "759528db",
   "metadata": {},
   "outputs": [],
   "source": [
    "all_models = ['01473000', '05431486','09112500','14015000']"
   ]
  },
  {
   "cell_type": "code",
   "execution_count": null,
   "id": "2d6f5aa1",
   "metadata": {},
   "outputs": [],
   "source": [
    "rootdir = pl.Path('../NHM_extractions/20230110_pois_haj/')"
   ]
  },
  {
   "cell_type": "markdown",
   "id": "5d1b0b6e",
   "metadata": {},
   "source": [
    "### working for now in a single cutout dir"
   ]
  },
  {
   "cell_type": "code",
   "execution_count": null,
   "id": "13700147",
   "metadata": {},
   "outputs": [],
   "source": [
    "cm = all_models[0]\n",
    "obsdir = rootdir/ cm / 'observation_data'"
   ]
  },
  {
   "cell_type": "code",
   "execution_count": null,
   "id": "a22f18cb",
   "metadata": {},
   "outputs": [],
   "source": [
    "all_nc_files = sorted([i for i in (rootdir/ cm / 'observation_data').glob('*.nc')])"
   ]
  },
  {
   "cell_type": "code",
   "execution_count": null,
   "id": "bac33304",
   "metadata": {},
   "outputs": [],
   "source": [
    "all_nc_files"
   ]
  },
  {
   "cell_type": "code",
   "execution_count": null,
   "id": "472bb640",
   "metadata": {},
   "outputs": [],
   "source": [
    "# make a file to hold the consolidated results\n",
    "ofp = open(rootdir / cm / 'allobs.dat', 'w')"
   ]
  },
  {
   "cell_type": "code",
   "execution_count": null,
   "id": "74c5b105",
   "metadata": {},
   "outputs": [],
   "source": [
    "##  AET  monthly\n",
    "cdat  = xr.open_dataset(obsdir / 'AET_monthly.nc')\n",
    "# set up the indices in sequence\n",
    "inds = [f'{i.year}_{i.month}:{j}' for i in cdat.indexes['time'] for j in cdat.indexes['nhru']]\n",
    "\n",
    "# get the variable names\n",
    "dvs = list(cdat.keys())\n",
    "for cvar in dvs:\n",
    "    if 'nhm_id' not in cvar.lower():\n",
    "        varvals = cdat[cvar].to_numpy().ravel()\n",
    "        [ofp.write(f'{cvar}_mon:{i}  {j}\\n') for i,j in zip(inds,varvals)]"
   ]
  },
  {
   "cell_type": "code",
   "execution_count": null,
   "id": "2146b340",
   "metadata": {},
   "outputs": [],
   "source": [
    "##  AET mean monthly\n",
    "cdat  = xr.open_dataset(obsdir / 'AET_mean_monthly.nc')\n",
    "# set up the indices in sequence\n",
    "inds = [f'{i}:{j}' for i in cdat.indexes['month'] for j in cdat.indexes['nhru']]\n",
    "\n",
    "# get the variable names\n",
    "dvs = list(cdat.keys())\n",
    "for cvar in dvs:\n",
    "    if 'nhm_id' not in cvar.lower():\n",
    "        varvals = cdat[cvar].to_numpy().ravel()\n",
    "        [ofp.write(f'{cvar}_mean_mon:{i}  {j}\\n') for i,j in zip(inds,varvals)]"
   ]
  },
  {
   "cell_type": "code",
   "execution_count": null,
   "id": "f55b5807",
   "metadata": {},
   "outputs": [],
   "source": [
    "##  RCH  annual\n",
    "cdat  = xr.open_dataset(obsdir / 'RCH_annual.nc')\n",
    "# set up the indices in sequence\n",
    "inds = [f'{i.year}:{j}' for i in cdat.indexes['time'] for j in cdat.indexes['nhru']]\n",
    "\n",
    "# get the variable names\n",
    "dvs = list(cdat.keys())\n",
    "for cvar in dvs:\n",
    "    if 'nhm_id' not in cvar.lower():\n",
    "        varvals = cdat[cvar].to_numpy().ravel()\n",
    "        [ofp.write(f'{cvar}_ann:{i}  {j}\\n') for i,j in zip(inds,varvals)]"
   ]
  },
  {
   "cell_type": "code",
   "execution_count": null,
   "id": "0d87f231",
   "metadata": {},
   "outputs": [],
   "source": [
    "##  RUN  monthly\n",
    "cdat  = xr.open_dataset(obsdir / 'RUN_monthly.nc')\n",
    "# set up the indices in sequence\n",
    "inds = [f'{i.year}_{i.month}:{j}' for i in cdat.indexes['time'] for j in cdat.indexes['nhru']]\n",
    "\n",
    "# get the variable names\n",
    "dvs = list(cdat.keys())\n",
    "for cvar in dvs:\n",
    "    if 'nhm_id' not in cvar.lower():\n",
    "        varvals = cdat[cvar].to_numpy().ravel()\n",
    "        [ofp.write(f'{cvar}_mon:{i}  {j}\\n') for i,j in zip(inds,varvals)]"
   ]
  },
  {
   "cell_type": "code",
   "execution_count": null,
   "id": "fabefe3c",
   "metadata": {},
   "outputs": [],
   "source": [
    "##  Soil_Moisture annual\n",
    "cdat  = xr.open_dataset(obsdir / 'Soil_Moisture_annual.nc')\n",
    "# set up the indices in sequence\n",
    "inds = [f'{i.year}:{j}' for i in cdat.indexes['time'] for j in cdat.indexes['nhru']]\n",
    "\n",
    "# get the variable names\n",
    "dvs = list(cdat.keys())\n",
    "for cvar in dvs:\n",
    "    if 'nhm_id' not in cvar.lower():\n",
    "        varvals = cdat[cvar].to_numpy().ravel()\n",
    "        [ofp.write(f'{cvar}_ann:{i}  {j}\\n') for i,j in zip(inds,varvals)]"
   ]
  },
  {
   "cell_type": "code",
   "execution_count": null,
   "id": "e2a2a9e4",
   "metadata": {},
   "outputs": [],
   "source": [
    "##  Soil Moisture  monthly\n",
    "cdat  = xr.open_dataset(obsdir / 'Soil_Moisture_monthly.nc')\n",
    "# set up the indices in sequence\n",
    "inds = [f'{i.year}_{i.month}:{j}' for i in cdat.indexes['time'] for j in cdat.indexes['nhru']]\n",
    "\n",
    "# get the variable names\n",
    "dvs = list(cdat.keys())\n",
    "for cvar in dvs:\n",
    "    if 'nhm_id' not in cvar.lower():\n",
    "        varvals = cdat[cvar].to_numpy().ravel()\n",
    "        [ofp.write(f'{cvar}_mon:{i}  {j}\\n') for i,j in zip(inds,varvals)]"
   ]
  },
  {
   "cell_type": "markdown",
   "id": "58051a68",
   "metadata": {},
   "source": [
    "## the following has NaNs for SCA daily that got rejected by the filter. Need to decide if totally drop, or give a dummary value (-999) or whatnot"
   ]
  },
  {
   "cell_type": "code",
   "execution_count": null,
   "id": "564e0be4",
   "metadata": {},
   "outputs": [],
   "source": [
    "##  Snow_covered_area daily\n",
    "cdat  = xr.open_dataset(obsdir / 'SCA_daily.nc')\n",
    "cdat = cdat.fillna(-9999)\n",
    "# set up the indices in sequence\n",
    "inds = [f'{i.year}_{i.month}_{i.day}:{j}' for i in cdat.indexes['time'] for j in cdat.indexes['nhru']]\n",
    "\n",
    "# get the variable names\n",
    "dvs = list(cdat.keys())\n",
    "for cvar in dvs:\n",
    "    if 'nhm_id' not in cvar.lower():\n",
    "        varvals = cdat[cvar].to_numpy().ravel()\n",
    "        [ofp.write(f'{cvar}_daily:{i}  {j}\\n') for i,j in zip(inds,varvals)]"
   ]
  },
  {
   "cell_type": "code",
   "execution_count": null,
   "id": "2b1c2f95",
   "metadata": {},
   "outputs": [],
   "source": [
    "ofp.close()"
   ]
  },
  {
   "cell_type": "code",
   "execution_count": null,
   "id": "23895dfb",
   "metadata": {},
   "outputs": [],
   "source": [
    "actet_output = xr.open_mfdataset(obsdir / 'AET_mean_monthly.nc')"
   ]
  },
  {
   "cell_type": "code",
   "execution_count": null,
   "id": "e98f05c5",
   "metadata": {},
   "outputs": [],
   "source": [
    "actet_output"
   ]
  },
  {
   "cell_type": "code",
   "execution_count": null,
   "id": "c4b9c386",
   "metadata": {},
   "outputs": [],
   "source": []
  }
 ],
 "metadata": {
  "kernelspec": {
   "display_name": "Python 3 (ipykernel)",
   "language": "python",
   "name": "python3"
  },
  "language_info": {
   "codemirror_mode": {
    "name": "ipython",
    "version": 3
   },
   "file_extension": ".py",
   "mimetype": "text/x-python",
   "name": "python",
   "nbconvert_exporter": "python",
   "pygments_lexer": "ipython3",
   "version": "3.10.10"
  }
 },
 "nbformat": 4,
 "nbformat_minor": 5
}
