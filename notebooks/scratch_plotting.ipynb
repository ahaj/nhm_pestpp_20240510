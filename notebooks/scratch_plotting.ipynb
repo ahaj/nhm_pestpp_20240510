{
 "cells": [
  {
   "cell_type": "code",
   "execution_count": null,
   "id": "c3c958f2-76b9-456e-a09e-2443ad580cf7",
   "metadata": {},
   "outputs": [],
   "source": [
    "import pywatershed\n",
    "import pandas as pd\n",
    "from pathlib import Path as pl\n",
    "import json\n",
    "import numpy as np\n",
    "from pywatershed.parameters.prms_parameters import JSONParameterEncoder\n",
    "import matplotlib.pyplot as plt\n",
    "import sys\n",
    "sys.path.append('../scripts/')\n",
    "from pest_utils import pars_to_tpl_entries\n",
    "sys.path.append('../dependencies/')\n",
    "import pyemu\n",
    "import datetime as dt"
   ]
  },
  {
   "cell_type": "code",
   "execution_count": null,
   "id": "4016cd28-c569-4c11-aa3a-0d70cbdb85be",
   "metadata": {},
   "outputs": [],
   "source": [
    "pst = pyemu.Pst('../NHM_extractions/20230110_pois_haj/05431486/prior_mc_reweight.pst')"
   ]
  },
  {
   "cell_type": "code",
   "execution_count": null,
   "id": "1dcf7187-ceb7-4435-ae3e-e2e54fea5993",
   "metadata": {},
   "outputs": [],
   "source": [
    "obs = pst.observation_data.copy()"
   ]
  },
  {
   "cell_type": "code",
   "execution_count": null,
   "id": "422ab960-d814-42f8-bca8-e6d91010aba1",
   "metadata": {},
   "outputs": [],
   "source": [
    "obs=obs.loc[obs.obgnme=='sca_daily']\n",
    "obs.head()"
   ]
  },
  {
   "cell_type": "code",
   "execution_count": null,
   "id": "80a6268c-cd18-45ea-8f2f-b18fe636e1fa",
   "metadata": {},
   "outputs": [],
   "source": [
    "obs['month'] = [i.split(':')[1].split('_')[1] for i in obs.index]\n",
    "obs['date'] = pd.to_datetime([i.split(':')[1].replace('_','-') for i in obs.index])\n",
    "obs.date"
   ]
  },
  {
   "cell_type": "code",
   "execution_count": null,
   "id": "201f2d78-0288-41a0-bc89-c5216afb2eaf",
   "metadata": {},
   "outputs": [],
   "source": [
    "obs.month.unique()"
   ]
  },
  {
   "cell_type": "code",
   "execution_count": null,
   "id": "849c09f5-1523-4dc5-ae33-96563e335852",
   "metadata": {},
   "outputs": [],
   "source": [
    "obs['hru'] =  [i.split(':')[-1] for i in obs.index]"
   ]
  },
  {
   "cell_type": "code",
   "execution_count": null,
   "id": "4ced3d6e-3a1e-440a-a58e-b99d9f8c6333",
   "metadata": {},
   "outputs": [],
   "source": [
    "obs.hru.unique()"
   ]
  },
  {
   "cell_type": "code",
   "execution_count": null,
   "id": "ce73df2f-e0e5-482b-9467-8fd9f8a4404c",
   "metadata": {},
   "outputs": [],
   "source": [
    "obs"
   ]
  },
  {
   "cell_type": "code",
   "execution_count": null,
   "id": "f49bb314-7405-4106-ba82-8e360a8293ba",
   "metadata": {},
   "outputs": [],
   "source": [
    "for cn, cg in obs.groupby('hru'):\n",
    "    plt.figure()\n",
    "    cgplot = cg.loc[cg.month.isin(['4','5','6','9','10'])].copy()\n",
    "    # cgplot = cg.copy()\n",
    "    \n",
    "    cgplot.loc[cgplot.obsval<0, 'obsval'] = np.nan\n",
    "    cgplot.set_index(cgplot.date).iloc[:122250].obsval.plot()\n",
    "    plt.grid()\n",
    "    plt.title(cn)"
   ]
  },
  {
   "cell_type": "code",
   "execution_count": null,
   "id": "9468e11f-f7ae-43f3-a04d-89017a3c5c60",
   "metadata": {},
   "outputs": [],
   "source": [
    "cgplot"
   ]
  },
  {
   "cell_type": "code",
   "execution_count": null,
   "id": "06e60219-c6c3-4c8c-abc6-be57c2873ff7",
   "metadata": {},
   "outputs": [],
   "source": []
  },
  {
   "cell_type": "code",
   "execution_count": null,
   "id": "b3aa7f10-beba-4f12-99e5-aa482094fc8b",
   "metadata": {},
   "outputs": [],
   "source": []
  },
  {
   "cell_type": "code",
   "execution_count": null,
   "id": "e4f87757-e701-4196-83a3-d01f1d01c7e3",
   "metadata": {},
   "outputs": [],
   "source": [
    "pst.obs_groups"
   ]
  },
  {
   "cell_type": "code",
   "execution_count": null,
   "id": "b71d9443-f022-42ca-b793-d1b2a1187a9b",
   "metadata": {},
   "outputs": [],
   "source": []
  }
 ],
 "metadata": {
  "kernelspec": {
   "display_name": "Python 3 (ipykernel)",
   "language": "python",
   "name": "python3"
  },
  "language_info": {
   "codemirror_mode": {
    "name": "ipython",
    "version": 3
   },
   "file_extension": ".py",
   "mimetype": "text/x-python",
   "name": "python",
   "nbconvert_exporter": "python",
   "pygments_lexer": "ipython3",
   "version": "3.10.12"
  }
 },
 "nbformat": 4,
 "nbformat_minor": 5
}
