{
 "cells": [
  {
   "cell_type": "code",
   "execution_count": null,
   "id": "3ca702b5-8cb8-432e-9130-91a66857f378",
   "metadata": {},
   "outputs": [],
   "source": [
    "import pandas as pd\n",
    "import sys\n",
    "import numpy as np\n",
    "import pathlib as pl\n",
    "import zipfile\n",
    "sys.path.append('../dependencies/')\n",
    "sys.path.append('../scripts/')\n",
    "import pyemu\n",
    "from datetime import datetime as dt\n",
    "import matplotlib.pyplot as plt\n",
    "from matplotlib.backends.backend_pdf import PdfPages\n",
    "from matplotlib.lines import Line2D\n",
    "from matplotlib.patches import Patch\n",
    "import calendar\n",
    "from postprocessing import plot_single_real"
   ]
  },
  {
   "cell_type": "code",
   "execution_count": null,
   "id": "bafeb1d4-1eaf-4c7a-b97f-93789a621270",
   "metadata": {},
   "outputs": [],
   "source": [
    "# curr_model = '05431486'\n",
    "# curr_model = '01473000'\n",
    "# curr_model = '05431486'\n",
    "curr_model = '09112500'\n",
    "curr_run_root = 'prior_mc_loc'\n",
    "#tmp_res_path = pl.Path(f'..//{curr_model}.{C:/Users/ahaj/nhm_pestpp/postprocessing/figures/single_reals/01473000}')\n",
    "tmp_res_path = pl.Path(f'C:/Users/ahaj/nhm_pestpp/postprocessing/figures/single_reals/{curr_model}')\n",
    "citer = 0"
   ]
  },
  {
   "cell_type": "code",
   "execution_count": null,
   "id": "b6f76f65-574e-43db-8abd-31fbce57d876",
   "metadata": {},
   "outputs": [],
   "source": [
    "fig_dir = pl.Path(f'../postprocessing/figures/single_reals/{curr_model}')\n",
    "if not fig_dir.exists():\n",
    "    fig_dir.mkdir(parents=True)"
   ]
  },
  {
   "cell_type": "code",
   "execution_count": null,
   "id": "cf614da5-f4d3-49e8-a69e-fc7f44526e25",
   "metadata": {},
   "outputs": [],
   "source": [
    "fig_dir.resolve()"
   ]
  },
  {
   "cell_type": "code",
   "execution_count": null,
   "id": "6977e5e3-90d8-44a0-bee1-1b259bc4a962",
   "metadata": {},
   "outputs": [],
   "source": [
    "res = pd.read_csv(f'C:/Users/ahaj/nhm_pestpp/NHM_extractions/20230110_pois_haj/{curr_model}/{curr_run_root}.base.rei', delim_whitespace=True, skiprows=3, index_col=0)\n"
   ]
  },
  {
   "cell_type": "code",
   "execution_count": null,
   "id": "019a4740-1805-4ae2-81eb-eb5ace09c7ec",
   "metadata": {},
   "outputs": [],
   "source": [
    "#res = pd.read_csv(tmp_res_path / f'{curr_run_root}.0.base.rei', delim_whitespace=True, skiprows=3, index_col=0)\n",
    "res.loc[res.Measured<-999, 'Measured'] = np.nan\n",
    "res['NHM_modelled'] = np.nan\n",
    "#res.rename(columns ={'Modelled':'NHM_modelled'}, inplace =True)\n",
    "#res.sample(5)\n",
    "#res.loc[\n"
   ]
  },
  {
   "cell_type": "code",
   "execution_count": null,
   "id": "83d904c3-4b3f-4c67-8a00-753d42469802",
   "metadata": {},
   "outputs": [],
   "source": [
    "res.Group.unique()"
   ]
  },
  {
   "cell_type": "code",
   "execution_count": null,
   "id": "c1bf014e-8e19-4f25-a6a9-9a75ae5974d8",
   "metadata": {},
   "outputs": [],
   "source": [
    "cgroup = 'actet_mean_mon'\n",
    "[plot_single_real(res, cgroup, citer, curr_run_root, fig_dir, curr_model) for cgroup in [\n",
    "    'actet_mean_mon',\n",
    "    'actet_mon',\n",
    "    'recharge_ann',\n",
    "    'soil_moist_mon',\n",
    "    'soil_moist_ann',\n",
    "    'runoff_mon',\n",
    "    'streamflow_daily',\n",
    "    'streamflow_mean_mon',\n",
    "    'streamflow_mon'\n",
    "]]"
   ]
  },
  {
   "cell_type": "code",
   "execution_count": null,
   "id": "7b1dc984-b533-408d-ac75-5387732f969d",
   "metadata": {},
   "outputs": [],
   "source": []
  },
  {
   "cell_type": "code",
   "execution_count": null,
   "id": "7d7b90ad-49bf-482b-99d9-73d451596529",
   "metadata": {},
   "outputs": [],
   "source": []
  },
  {
   "cell_type": "code",
   "execution_count": null,
   "id": "18ef66e7-94aa-4483-9f13-dc7b79836fcc",
   "metadata": {},
   "outputs": [],
   "source": [
    "\n",
    "\n",
    "\n",
    "\n"
   ]
  }
 ],
 "metadata": {
  "kernelspec": {
   "display_name": "Python 3 (ipykernel)",
   "language": "python",
   "name": "python3"
  },
  "language_info": {
   "codemirror_mode": {
    "name": "ipython",
    "version": 3
   },
   "file_extension": ".py",
   "mimetype": "text/x-python",
   "name": "python",
   "nbconvert_exporter": "python",
   "pygments_lexer": "ipython3",
   "version": "3.10.13"
  }
 },
 "nbformat": 4,
 "nbformat_minor": 5
}
