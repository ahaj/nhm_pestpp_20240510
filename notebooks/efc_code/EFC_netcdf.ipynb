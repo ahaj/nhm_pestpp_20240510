{
 "cells": [
  {
   "cell_type": "code",
   "execution_count": null,
   "id": "34883517-06f3-4aa5-8be4-c5102e1b6e85",
   "metadata": {},
   "outputs": [],
   "source": [
    "import datetime\n",
    "import matplotlib.pyplot as plt\n",
    "from matplotlib.colors import ListedColormap\n",
    "import numpy as np\n",
    "import pathlib as pl\n",
    "import xarray as xr\n",
    "\n",
    "import efc"
   ]
  },
  {
   "cell_type": "code",
   "execution_count": null,
   "id": "7b759e81-23a4-4801-af21-238093b83d16",
   "metadata": {},
   "outputs": [],
   "source": [
    "base_dir = pl.Path(r'C:\\Users\\ahaj.GS\\nhm_pestpp\\NHM_extractions\\20230110_pois_haj\\01473000')\n",
    "\n",
    "# Full path to source streamflow netcdf file\n",
    "streamflow_file = base_dir / r'sf_data.nc'\n",
    "\n",
    "# Full path to output netcdf file\n",
    "output_filename = base_dir / r'sf_data_with_EFC.nc'"
   ]
  },
  {
   "cell_type": "code",
   "execution_count": null,
   "id": "e7efef9f-5ac7-4c8e-a699-cf2a1169294a",
   "metadata": {},
   "outputs": [],
   "source": [
    "# Helper functions for plotting, developed by P.A. Norton, USGS Dakota Water Science Center\n",
    "def plot_efc(df, flow_col):\n",
    "    fig, ax = plt.subplots(nrows=1, figsize=(15, 5), layout='tight')\n",
    "    \n",
    "    mkrsize = 9.1\n",
    "    \n",
    "    # cmap = ListedColormap(['#000000', '#cb4335', '#f8c471', '#95a5a6', '#76d7c4', '#154360'])\n",
    "    cmap = ['#000000', '#cb4335', '#f8c471', '#95a5a6', '#76d7c4', '#154360']\n",
    "    labels = ['', 'Large flood', 'Small flood', 'High flow pulse', 'Low flow', 'Extreme low flow']\n",
    "    \n",
    "    ax.plot(df.index, df[flow_col], c='grey', lw=.5, alpha=0.5)\n",
    "    \n",
    "    for xx in range(1,6):\n",
    "        sdf = df[df['efc'] == xx]\n",
    "        \n",
    "        if sdf.shape[0] != 0:\n",
    "            ax.scatter(sdf.index, sdf[flow_col], c=cmap[xx], s=mkrsize, lw=0, alpha=0.7, label=labels[xx])\n",
    "\n",
    "    ax.set_title('Extreme flood classifications', fontsize=10)\n",
    "    ax.legend(loc='upper left', framealpha=0.5)\n",
    "\n",
    "\n",
    "def plot_high_low(df, flow_col):\n",
    "    fig, ax = plt.subplots(nrows=1, figsize=(15, 5), layout='tight')\n",
    "    \n",
    "    mkrsize = 9.1\n",
    "    \n",
    "    cmap = ['', '#00cc66','#ff9933','#9933ff']\n",
    "    labels = ['', 'Low flow', 'Ascending limb', 'Descending limb']\n",
    "    \n",
    "    ax.plot(df.index, df[flow_col], c='grey', lw=.5, alpha=0.5)\n",
    "    \n",
    "    for xx in range(1,4):\n",
    "        sdf = df[df['high_low'] == xx]\n",
    "        \n",
    "        if sdf.shape[0] != 0:\n",
    "            ax.scatter(sdf.index, sdf[flow_col], c=cmap[xx], s=mkrsize, lw=0, alpha=0.7, label=labels[xx])\n",
    "\n",
    "    ax.set_title('High/Low classifications', fontsize=10)\n",
    "    ax.legend(loc='upper left', framealpha=0.5)    "
   ]
  },
  {
   "cell_type": "code",
   "execution_count": null,
   "id": "13ecb8ef-2078-4e64-8149-0a90d71f9946",
   "metadata": {},
   "outputs": [],
   "source": [
    "# Attributes for the EFC-related variables\n",
    "attributes = {'efc': {'dtype': np.int32,\n",
    "                      'attrs': {'long_name': 'Extreme flood classification',\n",
    "                                '_FillValue': -1, \n",
    "                                'valid_range': [1, 5],\n",
    "                                'flag_values': [1, 2, 3, 4, 5],\n",
    "                                'flag_meanings': 'large_flood small_flood high_flow_pulse low_flow extreme_low_flow'}\n",
    "                     },\n",
    "              'ri': {'dtype': np.float32,\n",
    "                     'attrs': {'long_name': 'Recurrence interval',\n",
    "                               '_FillValue': 9.96921e+36,\n",
    "                               'units': 'year'}\n",
    "                    },\n",
    "              'high_low': {'dtype': np.int32,\n",
    "                           'attrs': {'long_name': 'Discharge classification',\n",
    "                                     '_FillValue': -1,\n",
    "                                     'valid_range': [1, 3],\n",
    "                                     'flag_values': [1, 2, 3],\n",
    "                                     'flag_meanings': 'low_flow ascending_limb descending_limb'}\n",
    "                          }\n",
    "             }"
   ]
  },
  {
   "cell_type": "markdown",
   "id": "1e6ecb85-51ad-4702-bc31-f7127ce2d30a",
   "metadata": {},
   "source": [
    "## Open the netcdf streamflow file"
   ]
  },
  {
   "cell_type": "code",
   "execution_count": null,
   "id": "020a00ed-4dcb-4a93-bdfb-1422c3cc0f2a",
   "metadata": {},
   "outputs": [],
   "source": [
    "ds = xr.open_dataset(streamflow_file)\n",
    "ds"
   ]
  },
  {
   "cell_type": "code",
   "execution_count": null,
   "id": "14b9614d-62bb-484d-a546-bea4d471d32d",
   "metadata": {},
   "outputs": [],
   "source": [
    "%%html\n",
    "<style>\n",
    "table {float:left}\n",
    "</style>\n",
    "# this just shifts the table below to the left instead of centering on the screen."
   ]
  },
  {
   "cell_type": "markdown",
   "id": "e823f18a-c7e5-400d-817c-a83e42d459bc",
   "metadata": {},
   "source": [
    "## Add variables and attributes for EFC\n",
    "| variable | Description\n",
    "| -------- | -----------\n",
    "| efc | Extreme flood classification |\n",
    "| ri | Recurrence interval |\n",
    "| high_low | high and low flow classification |"
   ]
  },
  {
   "cell_type": "code",
   "execution_count": null,
   "id": "06251a25-8f0b-4ec7-842c-c1262a5e2167",
   "metadata": {},
   "outputs": [],
   "source": [
    "# Add variables and attributes for EFC-related variables\n",
    "var_enc = {}\n",
    "\n",
    "for var, info in attributes.items():\n",
    "    # Add the variable\n",
    "    ds[var] = xr.zeros_like(ds['discharge'], dtype=info['dtype'])\n",
    "    \n",
    "    var_enc[var] = {'zlib': True, 'complevel': 2}\n",
    "\n",
    "    # Take care of the attributes\n",
    "    del ds[var].attrs['units']\n",
    "    \n",
    "    for kk, vv in info['attrs'].items():\n",
    "        if kk == '_FillValue':\n",
    "            var_enc[var][kk] = vv\n",
    "        else:\n",
    "            ds[var].attrs[kk] = vv\n",
    "\n",
    "# Set _FillValue encoding to None for certain variables\n",
    "rem_fill = ['latitude', 'longitude', 'time']\n",
    "for var in rem_fill:\n",
    "    var_enc[var] = {'_FillValue': None}"
   ]
  },
  {
   "cell_type": "markdown",
   "id": "97a95a1e-664a-4803-9265-4d0169a7ceaa",
   "metadata": {},
   "source": [
    "## Compute EFC for all POIs"
   ]
  },
  {
   "cell_type": "code",
   "execution_count": null,
   "id": "8a3092c2-00f1-4cd3-9671-41806e6eca59",
   "metadata": {},
   "outputs": [],
   "source": [
    "flow_col = 'discharge'\n",
    "\n",
    "for pp in ds.poi_id.data:\n",
    "    df = efc.efc(ds.discharge.sel(poi_id=pp).to_dataframe(), flow_col=flow_col)\n",
    "\n",
    "    # Add EFC values to the xarray dataset for the poi\n",
    "    ds['efc'].sel(poi_id=pp).data[:] = df.efc.values\n",
    "    ds['high_low'].sel(poi_id=pp).data[:] = df.high_low.values\n",
    "    ds['ri'].sel(poi_id=pp).data[:] = df.ri.values"
   ]
  },
  {
   "cell_type": "markdown",
   "id": "c873a896-2ce6-4314-af9a-83a8d767d8f1",
   "metadata": {},
   "source": [
    "## Plot individual POI with EFC highlighted"
   ]
  },
  {
   "cell_type": "code",
   "execution_count": null,
   "id": "2a319ea1-716b-4b40-9b3f-1a7d7e7a1712",
   "metadata": {},
   "outputs": [],
   "source": [
    "# Select POI\n",
    "cpoi_id = '01472198'\n",
    "\n",
    "# Get subset of data to plot\n",
    "ds_sub = ds.sel(poi_id=cpoi_id, time=slice('2000-01-01', '2010-12-31')).to_dataframe()\n",
    "\n",
    "# Or use entire dataset\n",
    "#ds_sub = ds.sel(poi_id=cpoi_id).to_dataframe()\n",
    "\n",
    "# Plot EFC\n",
    "plot_efc(ds_sub, flow_col)"
   ]
  },
  {
   "cell_type": "markdown",
   "id": "2a529052-f6db-44ef-8075-457915f5b642",
   "metadata": {},
   "source": [
    "## Plot High/Low classifications"
   ]
  },
  {
   "cell_type": "code",
   "execution_count": null,
   "id": "1c78090d-68fb-47a1-80d1-fd097cdf87e5",
   "metadata": {},
   "outputs": [],
   "source": [
    "plot_high_low(ds_sub, flow_col)"
   ]
  },
  {
   "cell_type": "markdown",
   "id": "0777546e-96dc-4e34-8dc3-ddc5c1de3001",
   "metadata": {},
   "source": [
    "## Write the xarray to a netcdf file"
   ]
  },
  {
   "cell_type": "code",
   "execution_count": null,
   "id": "d36c59c1-0838-4c12-a67c-d5c3159268f8",
   "metadata": {},
   "outputs": [],
   "source": [
    "%%time\n",
    "ds.to_netcdf(output_filename, encoding=var_enc)"
   ]
  },
  {
   "cell_type": "code",
   "execution_count": null,
   "id": "355ba0d5-243b-441d-bce8-f8e71297be08",
   "metadata": {},
   "outputs": [],
   "source": [
    "ds2 = xr.open_dataset(output_filename)\n",
    "ds2"
   ]
  },
  {
   "cell_type": "code",
   "execution_count": null,
   "id": "74a4eb1d-35e7-4878-b455-1d9eb05c0beb",
   "metadata": {},
   "outputs": [],
   "source": [
    "ds2['efc']"
   ]
  },
  {
   "cell_type": "code",
   "execution_count": null,
   "id": "15f5433b-fe7f-4118-bb2c-7e642076527b",
   "metadata": {},
   "outputs": [],
   "source": [
    "ds2['high_low']"
   ]
  },
  {
   "cell_type": "code",
   "execution_count": null,
   "id": "70439ce5-5fba-41d4-8548-adb0fda6ea7e",
   "metadata": {},
   "outputs": [],
   "source": []
  }
 ],
 "metadata": {
  "kernelspec": {
   "display_name": "Python 3 (ipykernel)",
   "language": "python",
   "name": "python3"
  },
  "language_info": {
   "codemirror_mode": {
    "name": "ipython",
    "version": 3
   },
   "file_extension": ".py",
   "mimetype": "text/x-python",
   "name": "python",
   "nbconvert_exporter": "python",
   "pygments_lexer": "ipython3",
   "version": "3.9.16"
  }
 },
 "nbformat": 4,
 "nbformat_minor": 5
}
