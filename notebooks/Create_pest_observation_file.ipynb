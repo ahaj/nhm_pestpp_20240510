{
 "cells": [
  {
   "cell_type": "markdown",
   "id": "80947fdb",
   "metadata": {},
   "source": [
    "### This notebook will read in the consolidated NC files that were written with notebook  `Subset_NHM_baselines`for each subbasin extraction, assign names for each obs, and write names and observations into a single file with 2 columns for PEST++ to read."
   ]
  },
  {
   "cell_type": "code",
   "execution_count": null,
   "id": "3cf95cdb",
   "metadata": {},
   "outputs": [],
   "source": [
    "import xarray as xr\n",
    "import pathlib as pl\n",
    "import numpy as np\n",
    "import pandas as pd\n",
    "import pywatershed"
   ]
  },
  {
   "cell_type": "markdown",
   "id": "9461b850",
   "metadata": {},
   "source": [
    "### Designate the list on subabsin extractions and the root directory that contains them."
   ]
  },
  {
   "cell_type": "code",
   "execution_count": null,
   "id": "759528db",
   "metadata": {},
   "outputs": [],
   "source": [
    "all_models = ['01473000', '05431486','09112500','14015000']# Used later when automating loop"
   ]
  },
  {
   "cell_type": "code",
   "execution_count": null,
   "id": "2d6f5aa1",
   "metadata": {},
   "outputs": [],
   "source": [
    "rootdir = pl.Path('../NHM_extractions/20230110_pois_haj/')"
   ]
  },
  {
   "cell_type": "markdown",
   "id": "5d1b0b6e",
   "metadata": {},
   "source": [
    "### For now, working for now in a single subasin extraction and will automate later."
   ]
  },
  {
   "cell_type": "code",
   "execution_count": null,
   "id": "13700147",
   "metadata": {},
   "outputs": [],
   "source": [
    "cm = all_models[0]\n",
    "obsdir = rootdir/ cm / 'observation_data'#This is where the observation files for each extraction were written."
   ]
  },
  {
   "cell_type": "code",
   "execution_count": null,
   "id": "a22f18cb",
   "metadata": {},
   "outputs": [],
   "source": [
    "all_nc_files = sorted([i for i in (rootdir/ cm / 'observation_data').glob('*.nc')])#Read in the files to check"
   ]
  },
  {
   "cell_type": "code",
   "execution_count": null,
   "id": "bac33304",
   "metadata": {},
   "outputs": [],
   "source": [
    "#all_nc_files #Checks all the subset observation files from the CONUS NHM outputs"
   ]
  },
  {
   "cell_type": "code",
   "execution_count": null,
   "id": "472bb640",
   "metadata": {},
   "outputs": [],
   "source": [
    "# make a file to hold the consolidated results\n",
    "ofp = open(rootdir / cm / 'allobs.dat', 'w') # the 'w' will delete any existing file here and recreate; 'a' appends"
   ]
  },
  {
   "cell_type": "code",
   "execution_count": null,
   "id": "74c5b105",
   "metadata": {},
   "outputs": [],
   "source": [
    "##  AET  monthly (NOte that these values are in inches/day, and a daily average rate for the month--Jacob verified)\n",
    "cdat  = xr.open_dataset(obsdir / 'AET_monthly.nc')\n",
    "# set up the indices in sequence\n",
    "inds = [f'{i.year}_{i.month}:{j}' for i in cdat.indexes['time'] for j in cdat.indexes['nhru']]\n",
    "\n",
    "aet_mean_obs = (cdat.aet_max + cdat.aet_min)/2#calculates mean value using aet_max and aet_min\n",
    "\n",
    "varvals =  np.ravel(aet_mean_obs, order = 'C')# flattens the 2D array to a 1D array \n",
    "\n",
    "with open(rootdir / cm / 'allobs.dat', encoding=\"utf-8\", mode='a') as ofp:\n",
    "    ofp.write('obsname    obsval\\n') # writing a header for the file\n",
    "    [ofp.write(f'actet_mon:{i}          {j}\\n') for i,j in zip(inds,varvals)]\n"
   ]
  },
  {
   "cell_type": "code",
   "execution_count": null,
   "id": "2146b340",
   "metadata": {},
   "outputs": [],
   "source": [
    "##  AET mean monthly\n",
    "cdat  = xr.open_dataset(obsdir / 'AET_mean_monthly.nc')\n",
    "# set up the indices in sequence\n",
    "inds = [f'{i}:{j}' for i in cdat.indexes['month'] for j in cdat.indexes['nhru']]\n",
    "\n",
    "aet_mean_obs = (cdat.aet_min + cdat.aet_max)/2#calculates mean value using aet_max and aet_min\n",
    "\n",
    "varvals =  np.ravel(aet_mean_obs, order = 'C')# flattens the 2D array to a 1D array \n",
    "\n",
    "with open(rootdir / cm / 'allobs.dat', encoding=\"utf-8\", mode='a') as ofp:\n",
    "    [ofp.write(f'actet_mean_mon:{i}          {j}\\n') for i,j in zip(inds,varvals)]"
   ]
  },
  {
   "cell_type": "code",
   "execution_count": null,
   "id": "f55b5807",
   "metadata": {},
   "outputs": [],
   "source": [
    "##  RCH  annual\n",
    "cdat  = xr.open_dataset(obsdir / 'RCH_annual.nc')\n",
    "# set up the indices in sequence\n",
    "inds = [f'{i.year}:{j}' for i in cdat.indexes['time'] for j in cdat.indexes['nhru']]\n",
    "\n",
    "# get the variable names\n",
    "#dvs = list(cdat.keys())\n",
    "recharge_mean_obs = (cdat.recharge_max_norm + cdat.recharge_min_norm)/2#calculates mean value using aet_max and aet_min\n",
    "\n",
    "varvals =  np.ravel(recharge_mean_obs, order = 'C')# flattens the 2D array to a 1D array \n",
    "with open(rootdir / cm / 'allobs.dat', encoding=\"utf-8\", mode='a') as ofp:\n",
    "    [ofp.write(f'recharge_ann:{i}          {j}\\n') for i,j in zip(inds,varvals)]"
   ]
  },
  {
   "cell_type": "code",
   "execution_count": null,
   "id": "e2a2a9e4",
   "metadata": {},
   "outputs": [],
   "source": [
    "##  Soil Moisture  monthly\n",
    "cdat  = xr.open_dataset(obsdir / 'Soil_Moisture_monthly.nc')\n",
    "# set up the indices in sequence\n",
    "inds = [f'{i.year}_{i.month}:{j}' for i in cdat.indexes['time'] for j in cdat.indexes['nhru']]\n",
    "\n",
    "# get the variable names\n",
    "#dvs = list(cdat.keys())\n",
    "soil_moist_mean_obs = (cdat.soil_moist_max_norm + cdat.soil_moist_min_norm)/2#calculates mean value using aet_max and aet_min\n",
    "\n",
    "varvals =  np.ravel(soil_moist_mean_obs, order = 'C')# flattens the 2D array to a 1D array\n",
    "with open(rootdir / cm / 'allobs.dat', encoding=\"utf-8\", mode='a') as ofp:\n",
    "    [ofp.write(f'soil_moist_mon:{i}          {j}\\n') for i,j in zip(inds,varvals)]"
   ]
  },
  {
   "cell_type": "code",
   "execution_count": null,
   "id": "fabefe3c",
   "metadata": {},
   "outputs": [],
   "source": [
    "##  Soil_Moisture annual\n",
    "cdat  = xr.open_dataset(obsdir / 'Soil_Moisture_annual.nc')\n",
    "# set up the indices in sequence\n",
    "inds = [f'{i.year}:{j}' for i in cdat.indexes['time'] for j in cdat.indexes['nhru']]\n",
    "\n",
    "# get the variable names\n",
    "#dvs = list(cdat.keys())\n",
    "\n",
    "soil_moist_mean_obs = (cdat.soil_moist_max_norm + cdat.soil_moist_min_norm)/2#calculates mean value using aet_max and aet_min\n",
    "\n",
    "varvals =  np.ravel(soil_moist_mean_obs, order = 'C')# flattens the 2D array to a 1D array\n",
    "with open(rootdir / cm / 'allobs.dat', encoding=\"utf-8\", mode='a') as ofp:\n",
    "    [ofp.write(f'soil_moist_ann:{i}          {j}\\n') for i,j in zip(inds,varvals)]"
   ]
  },
  {
   "cell_type": "code",
   "execution_count": null,
   "id": "0d87f231",
   "metadata": {},
   "outputs": [],
   "source": [
    "##  RUN  monthly (This is an average daily rate in cfs for the month)\n",
    "cdat  = xr.open_dataset(obsdir / 'hru_streamflow_monthly.nc')\n",
    "# set up the indices in sequence\n",
    "inds = [f'{i.year}_{i.month}:{j}' for i in cdat.indexes['time'] for j in cdat.indexes['nhru']]\n",
    "\n",
    "# get the variable names\n",
    "varvals =  np.ravel(cdat.runoff_mwbm, order = 'C')# flattens the 2D array to a 1D array\n",
    "with open(rootdir / cm / 'allobs.dat', encoding=\"utf-8\", mode='a') as ofp:\n",
    "    [ofp.write(f'runoff_mon:{i}          {j}\\n') for i,j in zip(inds,varvals)]"
   ]
  },
  {
   "cell_type": "markdown",
   "id": "58051a68",
   "metadata": {},
   "source": [
    "## the following has NaNs for SCA daily that got rejected by the filter. Need to decide if totally drop, or give a dummary value (-999) or whatnot"
   ]
  },
  {
   "cell_type": "code",
   "execution_count": null,
   "id": "564e0be4",
   "metadata": {},
   "outputs": [],
   "source": [
    "##  Snow_covered_area daily\n",
    "cdat  = xr.open_dataset(obsdir / 'SCA_daily.nc')\n",
    "cdat = cdat.fillna(-9999)\n",
    "# set up the indices in sequence\n",
    "inds = [f'{i.year}_{i.month}_{i.day}:{j}' for i in cdat.indexes['time'] for j in cdat.indexes['nhru']]\n",
    "\n",
    "# get the variable names\n",
    "#dvs = list(cdat.keys())\n",
    "\n",
    "SCA_mean_obs = (cdat.SCA_max + cdat.SCA_min)/2#calculates mean value using aet_max and aet_min\n",
    "varvals =  np.ravel(SCA_mean_obs, order = 'C')# flattens the 2D array to a 1D array\n",
    "\n",
    "with open(rootdir / cm / 'allobs.dat', encoding=\"utf-8\", mode='a') as ofp:\n",
    "            [ofp.write(f'sca_daily:{i}          {j}\\n') for i,j in zip(inds,varvals)]"
   ]
  },
  {
   "cell_type": "code",
   "execution_count": null,
   "id": "6773e337",
   "metadata": {},
   "outputs": [],
   "source": [
    "##  Streamflow daily\n",
    "seg_outflow_start = '2000-01-01'\n",
    "seg_outflow_end = '2010-12-31'\n",
    "\n",
    "cdat  = xr.open_dataset(rootdir/ cm / 'sf_data.nc').sel(time=slice(seg_outflow_start, seg_outflow_end))\n",
    "cdat = cdat.fillna(-9999)\n",
    "cdat = cdat[['discharge']]"
   ]
  },
  {
   "cell_type": "code",
   "execution_count": null,
   "id": "a7949932",
   "metadata": {},
   "outputs": [],
   "source": [
    "cdat"
   ]
  },
  {
   "cell_type": "code",
   "execution_count": null,
   "id": "a5e89dfd",
   "metadata": {},
   "outputs": [],
   "source": [
    "# set up the indices in sequence\n",
    "inds = [f'{i.year}_{i.month}_{i.day}:{j}' for i in cdat.indexes['time'] for j in cdat.indexes['poi_id']]\n",
    "\n",
    "# get the variable names\n",
    "#dvs = list(cdat.keys())\n",
    "\n",
    "varvals =  np.ravel(cdat.to_array(), order = 'C')# flattens the 2D array to a 1D array\n",
    "\n",
    "with open(rootdir / cm / 'allobs.dat', encoding=\"utf-8\", mode='a') as ofp:\n",
    "            [ofp.write(f'streamflow_daily:{i}          {j}\\n') for i,j in zip(inds,varvals)]"
   ]
  },
  {
   "cell_type": "code",
   "execution_count": null,
   "id": "a1b4ac89",
   "metadata": {},
   "outputs": [],
   "source": []
  }
 ],
 "metadata": {
  "kernelspec": {
   "display_name": "Python 3 (ipykernel)",
   "language": "python",
   "name": "python3"
  },
  "language_info": {
   "codemirror_mode": {
    "name": "ipython",
    "version": 3
   },
   "file_extension": ".py",
   "mimetype": "text/x-python",
   "name": "python",
   "nbconvert_exporter": "python",
   "pygments_lexer": "ipython3",
   "version": "3.10.10"
  }
 },
 "nbformat": 4,
 "nbformat_minor": 5
}
