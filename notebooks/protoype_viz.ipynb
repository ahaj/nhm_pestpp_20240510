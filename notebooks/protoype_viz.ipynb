{
 "cells": [
  {
   "cell_type": "code",
   "execution_count": null,
   "id": "96f1acc5-1c2b-450b-b44e-4a0423870b0e",
   "metadata": {},
   "outputs": [],
   "source": [
    "import pandas as pd\n",
    "import sys\n",
    "import numpy as np\n",
    "import pathlib as pl\n",
    "sys.path.append('../dependencies/')\n",
    "import pyemu\n",
    "from datetime import datetime as dt\n",
    "import matplotlib.pyplot as plt\n",
    "from matplotlib.backends.backend_pdf import PdfPages"
   ]
  },
  {
   "cell_type": "code",
   "execution_count": null,
   "id": "1a7106e9-e7d6-4eaf-bbe9-6ca43913f701",
   "metadata": {},
   "outputs": [],
   "source": [
    "curr_model = '01473000'\n",
    "wkdir = pl.Path(f'../NHM_extractions/20230110_pois_haj/{curr_model}/')\n",
    "results_dir = pl.Path('../example_data/')"
   ]
  },
  {
   "cell_type": "code",
   "execution_count": null,
   "id": "eba5c07b-95b7-4b3d-a745-b9e296872a9f",
   "metadata": {},
   "outputs": [],
   "source": [
    "fig_dir = pl.Path(wkdir / 'figures' / 'prior')\n",
    "if not fig_dir.exists():\n",
    "    fig_dir.mkdir(parents=True)"
   ]
  },
  {
   "cell_type": "code",
   "execution_count": null,
   "id": "9b71dd5c-75ab-473e-93ad-0fbe388a51ad",
   "metadata": {},
   "outputs": [],
   "source": [
    "datfmtmon = '%Y_%m'\n",
    "datfmtdaily = '%Y_%m_%d'"
   ]
  },
  {
   "cell_type": "markdown",
   "id": "3b0228a4-16d3-46a0-a3ef-ae290a84e03f",
   "metadata": {},
   "source": [
    "## need pst file to get observation data"
   ]
  },
  {
   "cell_type": "code",
   "execution_count": null,
   "id": "9aa11948-86d0-4d62-95bf-a43d8c06365a",
   "metadata": {},
   "outputs": [],
   "source": [
    "pst = pyemu.Pst(str(wkdir / 'prior_mc_better.pst'))"
   ]
  },
  {
   "cell_type": "code",
   "execution_count": null,
   "id": "8ebdd71c-a707-4fc3-aa46-c8fd76330620",
   "metadata": {},
   "outputs": [],
   "source": [
    "obs = pst.observation_data"
   ]
  },
  {
   "cell_type": "code",
   "execution_count": null,
   "id": "1c3a2182-35aa-4d08-8efa-1f1e0a873d2c",
   "metadata": {},
   "outputs": [],
   "source": [
    "obs.loc[obs.obsval==-9999,'obsval']=np.nan"
   ]
  },
  {
   "cell_type": "markdown",
   "id": "ad94f402-31ab-45ea-a847-99595945201d",
   "metadata": {},
   "source": [
    "## look at a histogram of PHI"
   ]
  },
  {
   "cell_type": "code",
   "execution_count": null,
   "id": "ac50003d-8026-414f-9536-81b42e086343",
   "metadata": {},
   "outputs": [],
   "source": [
    "phi = pd.read_csv(results_dir / 'prior_mc_better.phi.meas.csv').T.iloc[6:]"
   ]
  },
  {
   "cell_type": "code",
   "execution_count": null,
   "id": "501a5b28-d86b-42fe-8949-2db9f2821d84",
   "metadata": {},
   "outputs": [],
   "source": [
    "phi.hist(bins=50)"
   ]
  },
  {
   "cell_type": "code",
   "execution_count": null,
   "id": "d6f9ee11-9002-4493-86a6-894902080252",
   "metadata": {},
   "outputs": [],
   "source": [
    "'actet_mean_mon'.endswith"
   ]
  },
  {
   "cell_type": "code",
   "execution_count": null,
   "id": "3dfbfd98-5bd7-41ec-9cea-fdf4ee329e83",
   "metadata": {},
   "outputs": [],
   "source": [
    "pst.obs_groups"
   ]
  },
  {
   "cell_type": "markdown",
   "id": "f4d0b496-efcf-418a-a6b9-87b5a17c2518",
   "metadata": {},
   "source": [
    "## read in the observations ensemble from the Prior MC"
   ]
  },
  {
   "cell_type": "code",
   "execution_count": null,
   "id": "62ba0d37-9fcb-4579-af09-b3cfe9701c34",
   "metadata": {},
   "outputs": [],
   "source": [
    "obens = pd.read_csv(results_dir  / 'prior_mc_better.0.obs.csv', low_memory=False, index_col=0)"
   ]
  },
  {
   "cell_type": "code",
   "execution_count": null,
   "id": "dd8adb3c-7e2c-4df1-8197-31f627cab0c2",
   "metadata": {},
   "outputs": [],
   "source": [
    "obens.T"
   ]
  },
  {
   "cell_type": "code",
   "execution_count": null,
   "id": "87c64d20-8518-4aac-af8c-5655f205cc55",
   "metadata": {},
   "outputs": [],
   "source": [
    "def plot_o_matic(obs_df, obens_df, curr_group, fig_dir):\n",
    "    # some metdata\n",
    "    plot_lw = 0.01\n",
    "    plot_alpha = 0.15\n",
    "    \n",
    "    ### TODO: purge the zero padding garbage once we put it in the original construction code!!!!\n",
    "    print(f'postprocessing group: {curr_group}')\n",
    "    # get a list of all the obs names in the group\n",
    "    curr_obs = obs.loc[obs.obgnme==curr_group,'obsnme'].to_list()\n",
    "    # truncate the ensemble data\n",
    "    curr_obs_df = obens[curr_obs].T.copy()\n",
    "    # parse the obs names for useful metadata\n",
    "    curr_obs_df['obs_location'] = [i.split(':')[-1] for i in curr_obs_df.index]\n",
    "    curr_obs_df['datestring'] = [i.split(':')[1] for i in curr_obs_df.index]\n",
    "    # get the obsval for plotting\n",
    "    curr_obs_df = curr_obs_df.merge(obs['obsval'], left_index=True, right_index=True)\n",
    "    # parse based on the meas freq\n",
    "    if ('mon' in curr_group) & ('mean' not in curr_group):\n",
    "        curr_obs_df['datestring'] = [f'{int(i.split(\"_\")[0]):4d}_{int(i.split(\"_\")[1]):02d}' \n",
    "                     for i in curr_obs_df['datestring']]   \n",
    "        curr_obs_df['datetime'] = [dt.strptime(i, datfmtmon) for i in curr_obs_df['datestring']]\n",
    "        with PdfPages(fig_dir / f'{curr_group}.pdf') as outpdf:\n",
    "            for cn, cg in curr_obs_df.groupby('obs_location'):\n",
    "                plt.figure()\n",
    "                cgplot = cg.set_index(cg.datetime)\n",
    "                cgplot = cgplot[cgplot.columns[:-4]]\n",
    "                ax = cgplot.plot(legend=None, linewidth=plot_lw, color='grey', alpha = plot_alpha)\n",
    "                cg.set_index(cg.datetime).obsval.plot(ax=ax, color='orange')\n",
    "                ax.set_title(f'location = {cn}')\n",
    "                outpdf.savefig()\n",
    "                plt.close('all')\n",
    "            \n",
    "    elif 'mean_mon' in curr_group:\n",
    "        curr_obs_df['month'] = [int(i.split(':')[1]) for i in curr_obs_df.index]\n",
    "        with PdfPages(fig_dir / f'{curr_group}.pdf') as outpdf:\n",
    "            for cn, cg in curr_obs_df.groupby('obs_location'):\n",
    "                plt.figure()\n",
    "                cgplot = cg.sort_values(by='month')\n",
    "                cgplot = cgplot.set_index('month')\n",
    "                ax = cgplot.plot(legend=None, linewidth=plot_lw, color='grey', alpha = plot_alpha)\n",
    "                cg.sort_values(by='month').set_index('month').obsval.plot(ax=ax, color='orange')\n",
    "                ax.set_title(f'location = {cn}')\n",
    "                outpdf.savefig()\n",
    "                plt.close('all')\n",
    "            \n",
    "    elif 'ann' in curr_group:\n",
    "        curr_obs_df['year'] = [int(i.split(':')[1]) for i in curr_obs_df.index]\n",
    "        with PdfPages(fig_dir / f'{curr_group}.pdf') as outpdf:\n",
    "            for cn, cg in curr_obs_df.groupby('obs_location'):\n",
    "                plt.figure()\n",
    "                cgplot = cg.sort_values(by='year')\n",
    "                cgplot = cgplot.set_index('year')\n",
    "                ax = cgplot.plot(legend=None, linewidth=plot_lw, color='grey', alpha = plot_alpha)\n",
    "                cg.sort_values(by='year').set_index('year').obsval.plot(ax=ax, color='orange')\n",
    "                ax.set_title(f'location = {cn}')\n",
    "                outpdf.savefig()\n",
    "                plt.close('all')\n",
    "    elif 'daily' in curr_group:\n",
    "        curr_obs_df['datestring'] = [f'{int(i.split(\"_\")[0]):4d}_{int(i.split(\"_\")[1]):02d}_{int(i.split(\"_\")[2]):02d}' \n",
    "                             for i in curr_obs_df['datestring']]\n",
    "        curr_obs_df['datetime'] = [dt.strptime(i, datfmtdaily) for i in curr_obs_df['datestring']]\n",
    "        curr_obs_df['year'] = [ int(i.split(\"_\")[0])  for i in curr_obs_df.datestring]\n",
    "        group_root = curr_group.replace('_daily','')\n",
    "        for cn, cg in curr_obs_df.groupby('obs_location'):\n",
    "            print(f'subpostprocessing location: {cn}')\n",
    "            with PdfPages(fig_dir / f'{group_root}_{cn}.pdf') as outpdf:\n",
    "                cg = cg.sort_values(by='year')\n",
    "                for cn2, cg2 in cg.groupby('year'):\n",
    "                    plt.figure()\n",
    "                    cgplot = cg2.set_index('datetime')[cg2.columns[:-5]]\n",
    "                    ax = cgplot.plot(legend=None, linewidth=plot_lw, color='grey', alpha = plot_alpha)\n",
    "                    cg2.set_index('datetime').obsval.plot(ax=ax, color='orange')\n",
    "                    ax.set_title(f'year = {cn2}')\n",
    "                    outpdf.savefig()\n",
    "                    plt.close('all')"
   ]
  },
  {
   "cell_type": "code",
   "execution_count": null,
   "id": "122cc37c-4c06-4fc8-b0ce-6bf745b28ab0",
   "metadata": {},
   "outputs": [],
   "source": [
    "# run them all at once\n",
    "[plot_o_matic(obs, obens, curr_group, fig_dir) for curr_group in pst.obs_groups];"
   ]
  },
  {
   "cell_type": "code",
   "execution_count": null,
   "id": "f05b6c7e-2761-4519-9f70-f55dcdb24241",
   "metadata": {},
   "outputs": [],
   "source": []
  }
 ],
 "metadata": {
  "kernelspec": {
   "display_name": "Python 3 (ipykernel)",
   "language": "python",
   "name": "python3"
  },
  "language_info": {
   "codemirror_mode": {
    "name": "ipython",
    "version": 3
   },
   "file_extension": ".py",
   "mimetype": "text/x-python",
   "name": "python",
   "nbconvert_exporter": "python",
   "pygments_lexer": "ipython3",
   "version": "3.10.12"
  }
 },
 "nbformat": 4,
 "nbformat_minor": 5
}
