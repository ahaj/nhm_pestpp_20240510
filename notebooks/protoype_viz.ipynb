{
 "cells": [
  {
   "cell_type": "code",
   "execution_count": null,
   "id": "96f1acc5-1c2b-450b-b44e-4a0423870b0e",
   "metadata": {},
   "outputs": [],
   "source": [
    "import pandas as pd\n",
    "import sys\n",
    "import numpy as np\n",
    "import pathlib as pl\n",
    "import zipfile\n",
    "sys.path.append('../dependencies/')\n",
    "import pyemu\n",
    "from datetime import datetime as dt\n",
    "import matplotlib.pyplot as plt\n",
    "from matplotlib.backends.backend_pdf import PdfPages"
   ]
  },
  {
   "cell_type": "code",
   "execution_count": null,
   "id": "1a7106e9-e7d6-4eaf-bbe9-6ca43913f701",
   "metadata": {},
   "outputs": [],
   "source": [
    "curr_model = '01473000'\n",
    "curr_run_root = 'prior_mc_reweight'\n",
    "pstdir = pl.Path(f'../NHM_extractions/20230110_pois_haj/{curr_model}/')\n",
    "results_file = pl.Path(f'../results/{curr_run_root}.{curr_model}.zip/')\n",
    "tmp_res_path = pl.Path(f'../results/{curr_model}.{curr_run_root}')"
   ]
  },
  {
   "cell_type": "code",
   "execution_count": null,
   "id": "eba5c07b-95b7-4b3d-a745-b9e296872a9f",
   "metadata": {},
   "outputs": [],
   "source": [
    "fig_dir = pl.Path( f'../postprocessing/figures/{curr_model}/{curr_run_root}.{curr_model}')\n",
    "if not fig_dir.exists():\n",
    "    fig_dir.mkdir(parents=True)"
   ]
  },
  {
   "cell_type": "code",
   "execution_count": null,
   "id": "9b71dd5c-75ab-473e-93ad-0fbe388a51ad",
   "metadata": {},
   "outputs": [],
   "source": [
    "datfmtmon = '%Y_%m'\n",
    "datfmtdaily = '%Y_%m_%d'"
   ]
  },
  {
   "cell_type": "markdown",
   "id": "3b0228a4-16d3-46a0-a3ef-ae290a84e03f",
   "metadata": {},
   "source": [
    "## need pst file to get observation data"
   ]
  },
  {
   "cell_type": "code",
   "execution_count": null,
   "id": "9aa11948-86d0-4d62-95bf-a43d8c06365a",
   "metadata": {},
   "outputs": [],
   "source": [
    "pst = pyemu.Pst(str(pstdir / f'{curr_run_root}.pst'))\n",
    "obs = pst.observation_data\n",
    "obs"
   ]
  },
  {
   "cell_type": "code",
   "execution_count": null,
   "id": "e731acc6-cb80-45f6-b300-db4fe4b0595d",
   "metadata": {},
   "outputs": [],
   "source": [
    "pst.nnz_obs"
   ]
  },
  {
   "cell_type": "markdown",
   "id": "3cbfc0d8-e454-4182-a0fd-597654be3fff",
   "metadata": {},
   "source": [
    "## all engineering is reengineering --- let's make 0 weights.....again"
   ]
  },
  {
   "cell_type": "code",
   "execution_count": null,
   "id": "bf924a5f-b9f5-4bb6-b4b5-a43add03e7f8",
   "metadata": {},
   "outputs": [],
   "source": [
    "obs.loc['sca_daily:2000_10_10:5621']"
   ]
  },
  {
   "cell_type": "code",
   "execution_count": null,
   "id": "d1610737-f9c0-4e67-ab5a-b1b5970e4ef3",
   "metadata": {},
   "outputs": [],
   "source": [
    "obs.loc[obs.obsval==-9999, 'weight'] = 0\n",
    "obs.loc[obs.obsval==-9999,'obsval']=np.nan\n"
   ]
  },
  {
   "cell_type": "code",
   "execution_count": null,
   "id": "db5d41be-0ea4-4726-96d9-ecd04c14f551",
   "metadata": {},
   "outputs": [],
   "source": [
    "pst.nnz_obs"
   ]
  },
  {
   "cell_type": "code",
   "execution_count": null,
   "id": "5576ee3b-f0f8-4058-8e76-3333a6c05b2a",
   "metadata": {},
   "outputs": [],
   "source": []
  },
  {
   "cell_type": "markdown",
   "id": "be352d1f-abac-4389-97d1-46fe27137766",
   "metadata": {},
   "source": [
    "## extract the model results"
   ]
  },
  {
   "cell_type": "code",
   "execution_count": null,
   "id": "ec0b83ae-5f12-47da-8e8a-758db0e8cddc",
   "metadata": {},
   "outputs": [],
   "source": [
    "with zipfile.ZipFile(results_file, 'r') as zf:\n",
    "    zf.extractall(tmp_res_path)"
   ]
  },
  {
   "cell_type": "code",
   "execution_count": null,
   "id": "5153a006-b50a-4e89-8036-79067a2e9fad",
   "metadata": {},
   "outputs": [],
   "source": [
    "pdc = pd.read_csv(tmp_res_path / f'{curr_run_root}.pdc.csv', index_col=0)"
   ]
  },
  {
   "cell_type": "code",
   "execution_count": null,
   "id": "0b8600f7-30e0-4342-bfa7-3327556dd200",
   "metadata": {},
   "outputs": [],
   "source": [
    "pdc "
   ]
  },
  {
   "cell_type": "markdown",
   "id": "4e80b21b-ba39-4323-a57c-a86c0d151047",
   "metadata": {},
   "source": [
    "## bring in weights and groups to pdc"
   ]
  },
  {
   "cell_type": "code",
   "execution_count": null,
   "id": "127c1474-6ec4-4f40-b827-5ce1cf8d7f18",
   "metadata": {},
   "outputs": [],
   "source": [
    "pdc = pdc.merge(obs[['weight', 'obgnme']], left_index=True, right_index=True)"
   ]
  },
  {
   "cell_type": "markdown",
   "id": "713994fb-0bc3-4d42-88c5-fe9e82829b62",
   "metadata": {},
   "source": [
    "### drop all zero weighted obs"
   ]
  },
  {
   "cell_type": "code",
   "execution_count": null,
   "id": "15a72dcd-96f1-4f95-b5d3-48fcbb07a95d",
   "metadata": {},
   "outputs": [],
   "source": [
    "pdc = pdc.loc[pdc.weight!=0]\n",
    "pdc"
   ]
  },
  {
   "cell_type": "code",
   "execution_count": null,
   "id": "e8272aee-ffc4-4ffb-b8a8-4fa42c3f2615",
   "metadata": {},
   "outputs": [],
   "source": [
    "pdc.obgnme.unique()"
   ]
  },
  {
   "cell_type": "code",
   "execution_count": null,
   "id": "f73aae81-cd19-4d97-94e3-cfb9dc759d9c",
   "metadata": {},
   "outputs": [],
   "source": [
    "obs.obgnme.unique()"
   ]
  },
  {
   "cell_type": "markdown",
   "id": "502eb1f5-bb0f-4e97-89d2-dbc3e3934d1a",
   "metadata": {},
   "source": [
    "### we notice some SCA values are simulated as 0 when obsval != 0. is that alot?"
   ]
  },
  {
   "cell_type": "code",
   "execution_count": null,
   "id": "b36f1374-7287-4cc8-9764-32fd175b42ac",
   "metadata": {},
   "outputs": [],
   "source": [
    "pdc.loc[pdc.sim_mean<=1e-3].obgnme.unique()"
   ]
  },
  {
   "cell_type": "code",
   "execution_count": null,
   "id": "4e2c1304-9d91-4cd0-840d-d49ac1403846",
   "metadata": {},
   "outputs": [],
   "source": [
    "pdc_sca = pdc.loc[pdc.sim_mean<=1e-3]\n",
    "pdc_sca.obs_mean.hist(bins=50)"
   ]
  },
  {
   "cell_type": "code",
   "execution_count": null,
   "id": "2648ec17-bc8f-40d0-b221-eccce4243dbf",
   "metadata": {},
   "outputs": [],
   "source": [
    "len(pdc_sca)"
   ]
  },
  {
   "cell_type": "markdown",
   "id": "0b3f0bfd-f262-4c2e-b190-4d65c38251e7",
   "metadata": {},
   "source": [
    "### yeah - hella. like half"
   ]
  },
  {
   "cell_type": "code",
   "execution_count": null,
   "id": "33ce4f3f-f536-44ff-b16e-de0a91ca54bc",
   "metadata": {},
   "outputs": [],
   "source": [
    "pdc.loc[pdc.sim_mean==0].obs_mean.describe()"
   ]
  },
  {
   "cell_type": "markdown",
   "id": "c334c76e-4d3a-4c02-b5f9-8a6d593889b0",
   "metadata": {},
   "source": [
    "### trim the remaining PDC and look for clues 🧐"
   ]
  },
  {
   "cell_type": "code",
   "execution_count": null,
   "id": "b36b0bfe-4817-4f2d-9d5b-026504b0f11d",
   "metadata": {},
   "outputs": [],
   "source": [
    "pdc = pdc.loc[pdc.sim_mean>1e-3]"
   ]
  },
  {
   "cell_type": "code",
   "execution_count": null,
   "id": "a266e7fc-c067-4451-ae66-3922b034a1de",
   "metadata": {},
   "outputs": [],
   "source": [
    "pdc.obgnme.unique()"
   ]
  },
  {
   "cell_type": "markdown",
   "id": "4a29f45d-20ac-4034-9089-aea6a501f623",
   "metadata": {},
   "source": [
    "### seems like still a few sca_daily issues to sort out. Noise obs will likely solve ALL of these"
   ]
  },
  {
   "cell_type": "code",
   "execution_count": null,
   "id": "3b779c25-e083-4cca-9803-57caa82b8204",
   "metadata": {},
   "outputs": [],
   "source": [
    "pdc_therest = pdc.loc[pdc.obgnme != 'sca_daily']"
   ]
  },
  {
   "cell_type": "markdown",
   "id": "7781fa6e-1521-444a-9da5-1f27d0e00a8e",
   "metadata": {},
   "source": [
    "### one of these kids is not like the other ----> let's check out soil moisture"
   ]
  },
  {
   "cell_type": "code",
   "execution_count": null,
   "id": "f0176ff6-123a-4418-8862-d94042a448d6",
   "metadata": {},
   "outputs": [],
   "source": [
    "pdc_sm = pdc.loc[pdc.obgnme == 'soil_moist_mon']\n",
    "# is it more tilted toward an earlier timeframe?\n",
    "pdc_sm.loc[:,'year'] = [int(i.split(':')[1].split('_')[0]) for i in pdc_sm.index ]"
   ]
  },
  {
   "cell_type": "code",
   "execution_count": null,
   "id": "a097ba82-42cd-4e56-afbe-21c8079f8d58",
   "metadata": {},
   "outputs": [],
   "source": [
    "pdc_sm.year.hist(bins=10)"
   ]
  },
  {
   "cell_type": "markdown",
   "id": "a0ed5af2-3f75-4bba-b6b2-5ab856c9f3af",
   "metadata": {},
   "source": [
    "#### nope"
   ]
  },
  {
   "cell_type": "code",
   "execution_count": null,
   "id": "5f365b77-5cff-43bc-bddf-f16263a7db06",
   "metadata": {},
   "outputs": [],
   "source": [
    "pdc_sm[['obs_mean','sim_mean', 'sim_min',\t'sim_max']].plot()"
   ]
  },
  {
   "cell_type": "code",
   "execution_count": null,
   "id": "434a7489-67ef-40a2-bf29-8b1cb3b3011e",
   "metadata": {},
   "outputs": [],
   "source": [
    "obs.loc[obs.obgnme=='soil_moist_mon'].obsval.plot()"
   ]
  },
  {
   "cell_type": "code",
   "execution_count": null,
   "id": "f7cd2fad-a904-4f48-bad5-eb763b01c9f4",
   "metadata": {},
   "outputs": [],
   "source": [
    "len(pdc_sm.loc[pdc_sm.obgnme=='soil_moist_mon']), len(obs.loc[obs.obgnme=='soil_moist_mon'])"
   ]
  },
  {
   "cell_type": "markdown",
   "id": "5b5eedaf-26e5-40a2-8a0a-fb02945192e8",
   "metadata": {},
   "source": [
    "### for the PDC `soil_moist_mon` obs they are consistently simulated way too low"
   ]
  },
  {
   "cell_type": "markdown",
   "id": "42967fd8-94a1-465a-8b39-7a1b81352f05",
   "metadata": {},
   "source": [
    "### what's left? Streamflow?"
   ]
  },
  {
   "cell_type": "code",
   "execution_count": null,
   "id": "85ac6596-4145-491d-978d-4fd281271b12",
   "metadata": {},
   "outputs": [],
   "source": [
    "pdc_streamflow = pdc.loc[(pdc.obgnme != 'sca_daily') & (pdc.obgnme != 'soil_moist_mon')].copy()"
   ]
  },
  {
   "cell_type": "code",
   "execution_count": null,
   "id": "505b220f-8fae-44af-87e6-5e887e1f6082",
   "metadata": {},
   "outputs": [],
   "source": [
    "len(pdc_streamflow)"
   ]
  },
  {
   "cell_type": "code",
   "execution_count": null,
   "id": "ce67842c-0b47-4e65-b03d-ce5016a13af6",
   "metadata": {},
   "outputs": [],
   "source": [
    "for cn, cg in pdc_streamflow.groupby('obgnme'):\n",
    "    plt.figure()\n",
    "    cg[['obs_mean','sim_mean', 'sim_min',\t'sim_max']].plot()\n",
    "    plt.title(cn)\n",
    "    plt.yscale('log')"
   ]
  },
  {
   "cell_type": "code",
   "execution_count": null,
   "id": "1054ab69-251e-455e-b997-dac70b51a3c0",
   "metadata": {},
   "outputs": [],
   "source": [
    "pdc_streamflow.loc[:,'diff_bias'] = pdc_streamflow.obs_mean - pdc_streamflow.sim_mean"
   ]
  },
  {
   "cell_type": "code",
   "execution_count": null,
   "id": "57e707d6-a003-4113-8f56-bf7d134c9e03",
   "metadata": {},
   "outputs": [],
   "source": [
    "for cn, cg in pdc_streamflow.groupby('obgnme'):\n",
    "    plt.figure()\n",
    "    cg['diff_bias'].hist(bins=50)\n",
    "    plt.title(cn)\n"
   ]
  },
  {
   "cell_type": "code",
   "execution_count": null,
   "id": "a17f6e0d-e261-4fed-82fa-ef550faa42a9",
   "metadata": {},
   "outputs": [],
   "source": []
  },
  {
   "cell_type": "code",
   "execution_count": null,
   "id": "3ab99f13-7e1d-48c9-a5c2-a4c3d8765cb4",
   "metadata": {},
   "outputs": [],
   "source": []
  },
  {
   "cell_type": "markdown",
   "id": "ad94f402-31ab-45ea-a847-99595945201d",
   "metadata": {},
   "source": [
    "## look at a histogram of PHI"
   ]
  },
  {
   "cell_type": "code",
   "execution_count": null,
   "id": "ac50003d-8026-414f-9536-81b42e086343",
   "metadata": {},
   "outputs": [],
   "source": [
    "phi = pd.read_csv(tmp_res_path / f'{curr_run_root}.phi.meas.csv').T.iloc[6:]"
   ]
  },
  {
   "cell_type": "code",
   "execution_count": null,
   "id": "501a5b28-d86b-42fe-8949-2db9f2821d84",
   "metadata": {},
   "outputs": [],
   "source": [
    "phi.hist(bins=50)"
   ]
  },
  {
   "cell_type": "markdown",
   "id": "f4d0b496-efcf-418a-a6b9-87b5a17c2518",
   "metadata": {},
   "source": [
    "## read in the observations ensemble from the Prior MC"
   ]
  },
  {
   "cell_type": "code",
   "execution_count": null,
   "id": "62ba0d37-9fcb-4579-af09-b3cfe9701c34",
   "metadata": {},
   "outputs": [],
   "source": [
    "obens = pd.read_csv(tmp_res_path / f'{curr_run_root}.0.obs.csv', low_memory=False, index_col=0)"
   ]
  },
  {
   "cell_type": "code",
   "execution_count": null,
   "id": "dd8adb3c-7e2c-4df1-8197-31f627cab0c2",
   "metadata": {},
   "outputs": [],
   "source": [
    "obens.T"
   ]
  },
  {
   "cell_type": "code",
   "execution_count": null,
   "id": "87c64d20-8518-4aac-af8c-5655f205cc55",
   "metadata": {},
   "outputs": [],
   "source": [
    "def plot_o_matic(obs_df, obens_df, curr_group, fig_dir):\n",
    "    # some metdata\n",
    "    plot_lw = 0.01\n",
    "    plot_alpha = 0.15\n",
    "    \n",
    "    ### TODO: purge the zero padding garbage once we put it in the original construction code!!!!\n",
    "    print(f'postprocessing group: {curr_group}')\n",
    "    # get a list of all the obs names in the group\n",
    "    curr_obs = obs.loc[obs.obgnme==curr_group,'obsnme'].to_list()\n",
    "    # truncate the ensemble data\n",
    "    curr_obs_df = obens[curr_obs].T.copy()\n",
    "    # parse the obs names for useful metadata\n",
    "    curr_obs_df['obs_location'] = [i.split(':')[-1] for i in curr_obs_df.index]\n",
    "    curr_obs_df['datestring'] = [i.split(':')[1] for i in curr_obs_df.index]\n",
    "    # get the obsval for plotting\n",
    "    curr_obs_df = curr_obs_df.merge(obs['obsval'], left_index=True, right_index=True)\n",
    "    # parse based on the meas freq\n",
    "    if ('mon' in curr_group) & ('mean' not in curr_group):\n",
    "        curr_obs_df['datestring'] = [f'{int(i.split(\"_\")[0]):4d}_{int(i.split(\"_\")[1]):02d}' \n",
    "                     for i in curr_obs_df['datestring']]   \n",
    "        curr_obs_df['datetime'] = [dt.strptime(i, datfmtmon) for i in curr_obs_df['datestring']]\n",
    "        with PdfPages(fig_dir / f'{curr_group}.pdf') as outpdf:\n",
    "            for cn, cg in curr_obs_df.groupby('obs_location'):\n",
    "                plt.figure()\n",
    "                cgplot = cg.set_index(cg.datetime)\n",
    "                cgplot = cgplot[cgplot.columns[:-4]]\n",
    "                ax = cgplot.plot(legend=None, linewidth=plot_lw, color='grey', alpha = plot_alpha)\n",
    "                cg.set_index(cg.datetime).obsval.plot(ax=ax, color='orange')\n",
    "                ax.set_title(f'location = {cn}')\n",
    "                outpdf.savefig()\n",
    "                plt.close('all')\n",
    "            \n",
    "    elif 'mean_mon' in curr_group:\n",
    "        curr_obs_df['month'] = [int(i.split(':')[1]) for i in curr_obs_df.index]\n",
    "        with PdfPages(fig_dir / f'{curr_group}.pdf') as outpdf:\n",
    "            for cn, cg in curr_obs_df.groupby('obs_location'):\n",
    "                plt.figure()\n",
    "                cgplot = cg.sort_values(by='month')\n",
    "                cgplot = cgplot.set_index('month')\n",
    "                ax = cgplot.plot(legend=None, linewidth=plot_lw, color='grey', alpha = plot_alpha)\n",
    "                cg.sort_values(by='month').set_index('month').obsval.plot(ax=ax, color='orange')\n",
    "                ax.set_title(f'location = {cn}')\n",
    "                outpdf.savefig()\n",
    "                plt.close('all')\n",
    "            \n",
    "    elif 'ann' in curr_group:\n",
    "        curr_obs_df['year'] = [int(i.split(':')[1]) for i in curr_obs_df.index]\n",
    "        with PdfPages(fig_dir / f'{curr_group}.pdf') as outpdf:\n",
    "            for cn, cg in curr_obs_df.groupby('obs_location'):\n",
    "                plt.figure()\n",
    "                cgplot = cg.sort_values(by='year')\n",
    "                cgplot = cgplot.set_index('year')\n",
    "                ax = cgplot.plot(legend=None, linewidth=plot_lw, color='grey', alpha = plot_alpha)\n",
    "                cg.sort_values(by='year').set_index('year').obsval.plot(ax=ax, color='orange')\n",
    "                ax.set_title(f'location = {cn}')\n",
    "                outpdf.savefig()\n",
    "                plt.close('all')\n",
    "    elif 'daily' in curr_group:\n",
    "        curr_obs_df['datestring'] = [f'{int(i.split(\"_\")[0]):4d}_{int(i.split(\"_\")[1]):02d}_{int(i.split(\"_\")[2]):02d}' \n",
    "                             for i in curr_obs_df['datestring']]\n",
    "        curr_obs_df['datetime'] = [dt.strptime(i, datfmtdaily) for i in curr_obs_df['datestring']]\n",
    "        curr_obs_df['year'] = [ int(i.split(\"_\")[0])  for i in curr_obs_df.datestring]\n",
    "        group_root = curr_group.replace('_daily','')\n",
    "        for cn, cg in curr_obs_df.groupby('obs_location'):\n",
    "            print(f'subpostprocessing location: {cn}')\n",
    "            with PdfPages(fig_dir / f'{group_root}_{cn}.pdf') as outpdf:\n",
    "                cg = cg.sort_values(by='year')\n",
    "                for cn2, cg2 in cg.groupby('year'):\n",
    "                    plt.figure()\n",
    "                    cgplot = cg2.set_index('datetime')[cg2.columns[:-5]]\n",
    "                    ax = cgplot.plot(legend=None, linewidth=plot_lw, color='grey', alpha = plot_alpha)\n",
    "                    cg2.set_index('datetime').obsval.plot(ax=ax, color='orange')\n",
    "                    ax.set_title(f'year = {cn2}')\n",
    "                    outpdf.savefig()\n",
    "                    plt.close('all')"
   ]
  },
  {
   "cell_type": "code",
   "execution_count": null,
   "id": "122cc37c-4c06-4fc8-b0ce-6bf745b28ab0",
   "metadata": {},
   "outputs": [],
   "source": [
    "# run them all at once\n",
    "[plot_o_matic(obs, obens, curr_group, fig_dir) for curr_group in pst.obs_groups];"
   ]
  },
  {
   "cell_type": "code",
   "execution_count": null,
   "id": "f05b6c7e-2761-4519-9f70-f55dcdb24241",
   "metadata": {},
   "outputs": [],
   "source": [
    "pst.adjust_weights()"
   ]
  }
 ],
 "metadata": {
  "kernelspec": {
   "display_name": "Python 3 (ipykernel)",
   "language": "python",
   "name": "python3"
  },
  "language_info": {
   "codemirror_mode": {
    "name": "ipython",
    "version": 3
   },
   "file_extension": ".py",
   "mimetype": "text/x-python",
   "name": "python",
   "nbconvert_exporter": "python",
   "pygments_lexer": "ipython3",
   "version": "3.10.12"
  }
 },
 "nbformat": 4,
 "nbformat_minor": 5
}
