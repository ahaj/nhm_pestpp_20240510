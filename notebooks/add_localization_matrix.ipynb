{
 "cells": [
  {
   "cell_type": "code",
   "execution_count": null,
   "id": "0b2fc59d-01d0-48c4-9543-8a5b320bdb69",
   "metadata": {},
   "outputs": [],
   "source": [
    "import sys\n",
    "sys.path.append('../dependencies/')\n",
    "import pandas as pd\n",
    "import pyemu\n",
    "import numpy as np\n",
    "import pathlib as pl"
   ]
  },
  {
   "cell_type": "markdown",
   "id": "ff5c8e19-4737-40b3-bb36-4050705ab464",
   "metadata": {},
   "source": [
    "### choose a cutout from {01473000, 05431486, 09112500}"
   ]
  },
  {
   "cell_type": "code",
   "execution_count": null,
   "id": "8e469348-83e1-43b0-822a-4d0c95d314ac",
   "metadata": {},
   "outputs": [],
   "source": [
    "wkdir = pl.Path('../NHM_extractions/20230110_pois_haj/09112500/')"
   ]
  },
  {
   "cell_type": "markdown",
   "id": "5c6f966e-974b-4a64-8791-430c3b1bf872",
   "metadata": {},
   "source": [
    "### get the PST object "
   ]
  },
  {
   "cell_type": "code",
   "execution_count": null,
   "id": "1f11bfc9-3c77-460d-80d4-1f8d34f9cf3c",
   "metadata": {},
   "outputs": [],
   "source": [
    "pst = pyemu.Pst(str(wkdir / 'prior_mc.pst'))"
   ]
  },
  {
   "cell_type": "code",
   "execution_count": null,
   "id": "3416da61-6d2f-4321-9935-6dabcb9f2664",
   "metadata": {},
   "outputs": [],
   "source": [
    "pars = pst.parameter_data\n",
    "obs = pst.observation_data"
   ]
  },
  {
   "cell_type": "code",
   "execution_count": null,
   "id": "cddb9b07-eb6c-4542-8be6-8ac1c634a10d",
   "metadata": {},
   "outputs": [],
   "source": [
    "pst.obs_groups"
   ]
  },
  {
   "cell_type": "markdown",
   "id": "1a4c8517-c287-498a-9a98-b0054bfb8cc9",
   "metadata": {},
   "source": [
    "### Read in the base localization matrix"
   ]
  },
  {
   "cell_type": "code",
   "execution_count": null,
   "id": "3a289f74-6647-49f5-9c90-ab7465b9963c",
   "metadata": {},
   "outputs": [],
   "source": [
    "base_loc = pd.read_csv('../Supporting_information/localization_groups.csv', index_col=0)"
   ]
  },
  {
   "cell_type": "code",
   "execution_count": null,
   "id": "bb0f03e6-4bb8-4e8e-88aa-8dc00c3cd94f",
   "metadata": {},
   "outputs": [],
   "source": [
    "# Trim out obs groups that aren't present in the PST file nut are in the base localization matrix"
   ]
  },
  {
   "cell_type": "code",
   "execution_count": null,
   "id": "481defeb-d607-4926-b374-d70b0254f56f",
   "metadata": {},
   "outputs": [],
   "source": [
    "base_loc"
   ]
  },
  {
   "cell_type": "code",
   "execution_count": null,
   "id": "0d26353a-c8de-442d-afb7-0db186a21b17",
   "metadata": {},
   "outputs": [],
   "source": [
    "base_loc = base_loc.loc[pst.obs_groups]\n",
    "base_loc"
   ]
  },
  {
   "cell_type": "markdown",
   "id": "570ec973-14c3-48dc-831f-166b4a5b7a23",
   "metadata": {},
   "source": [
    "### find the unique combinations of observations"
   ]
  },
  {
   "cell_type": "code",
   "execution_count": null,
   "id": "f4608de7-02aa-47e9-a8e0-d785bc28819e",
   "metadata": {},
   "outputs": [],
   "source": [
    "# get a little squirrelly with transposes and add a row with the combos of obs"
   ]
  },
  {
   "cell_type": "code",
   "execution_count": null,
   "id": "69571700-e25b-4541-a1cb-cb10fb5aa120",
   "metadata": {},
   "outputs": [],
   "source": [
    "base_loc=base_loc.T\n",
    "base_loc['par_obs_combo'] = [set(base_loc.T.loc[base_loc.T[i]==1].index) for i in base_loc.T.columns]\n",
    "# serious shenanigans below - sets aren't mutable, so use forzensets to get unique values, then cast back to sets\n",
    "# horrible! bottom line is, all_combos had to be a unique list of sets. got it now (!)\n",
    "all_combos = list(map(set,set(map(frozenset,base_loc['par_obs_combo'].to_list()))))\n",
    "all_combos"
   ]
  },
  {
   "cell_type": "markdown",
   "id": "c96b282a-389a-4246-9c45-7e60f931f5d7",
   "metadata": {},
   "source": [
    "### now just make par group names according to combinations of obs"
   ]
  },
  {
   "cell_type": "code",
   "execution_count": null,
   "id": "6946d9b6-a1e0-4e24-8266-fb790a05687f",
   "metadata": {},
   "outputs": [],
   "source": [
    "group_lookup = {f'obs_combo_{i+1}':j for i,j in enumerate(all_combos)}"
   ]
  },
  {
   "cell_type": "code",
   "execution_count": null,
   "id": "44907ca3-b976-4384-b5ce-4f2dc5c1e104",
   "metadata": {},
   "outputs": [],
   "source": [
    "group_lookup"
   ]
  },
  {
   "cell_type": "markdown",
   "id": "82090de4-6fe4-4339-80ab-80adeebb9145",
   "metadata": {},
   "source": [
    "### assign the grouop names to the parameter base types according to the cols of the base localization matrix"
   ]
  },
  {
   "cell_type": "code",
   "execution_count": null,
   "id": "6ccafe45-3943-41cb-a796-a96ba0ac0672",
   "metadata": {},
   "outputs": [],
   "source": [
    "base_loc['par_obs_group'] = [[k for k,v in group_lookup.items() if v==i][0] for i in base_loc.par_obs_combo]"
   ]
  },
  {
   "cell_type": "markdown",
   "id": "4e886fb3-48c5-4c4e-978c-6870b57eaeef",
   "metadata": {},
   "source": [
    "### now we have a list of groups for parameters"
   ]
  },
  {
   "cell_type": "code",
   "execution_count": null,
   "id": "746b121f-9dd3-4408-a8ed-9901d2f5a428",
   "metadata": {},
   "outputs": [],
   "source": [
    "new_par_groups = dict(zip(base_loc.index,base_loc.par_obs_group))# mapping a new group name for each par type."
   ]
  },
  {
   "cell_type": "markdown",
   "id": "27af3a29-b783-43ca-b9f0-570bb1907b82",
   "metadata": {},
   "source": [
    "### and we can cast the base_loc matrix back to original orientation and drop these names"
   ]
  },
  {
   "cell_type": "code",
   "execution_count": null,
   "id": "eb7fe48d-1c06-4134-900b-a6927215f44f",
   "metadata": {},
   "outputs": [],
   "source": [
    "base_loc = base_loc.drop(columns=['par_obs_combo', 'par_obs_group']).T"
   ]
  },
  {
   "cell_type": "markdown",
   "id": "eebc7d62-3aa4-4cca-ad2b-5c6ab4f5737a",
   "metadata": {},
   "source": [
    "### so, update the parameter groupnames"
   ]
  },
  {
   "cell_type": "code",
   "execution_count": null,
   "id": "f5e0ce44-30b1-4fb2-8746-b998012461db",
   "metadata": {},
   "outputs": [],
   "source": [
    "for k,v in new_par_groups.items():\n",
    "    pars.loc[pars.parnme.str.startswith(k), 'pargp'] = v"
   ]
  },
  {
   "cell_type": "code",
   "execution_count": null,
   "id": "84cad8f9-cd1a-4cba-acb7-c85e3258b37d",
   "metadata": {},
   "outputs": [],
   "source": [
    "pars.pargp.unique()\n"
   ]
  },
  {
   "cell_type": "markdown",
   "id": "bc2f3b82-0105-4cca-96cb-79ab16931a6c",
   "metadata": {},
   "source": [
    "### make sure we didn't miss any parameters in the groupings"
   ]
  },
  {
   "cell_type": "code",
   "execution_count": null,
   "id": "8d9c118c-afae-4bce-840e-fb191780369d",
   "metadata": {},
   "outputs": [],
   "source": [
    "assert 'pargp' not in pars.pargp.unique()"
   ]
  },
  {
   "cell_type": "code",
   "execution_count": null,
   "id": "1d1c24b7-36a6-410d-aeb8-fa6198adad75",
   "metadata": {},
   "outputs": [],
   "source": [
    "base_loc.columns"
   ]
  },
  {
   "cell_type": "markdown",
   "id": "58055989-37c0-4eb7-baf6-23a22ed700bd",
   "metadata": {},
   "source": [
    "### make the final localization matrix"
   ]
  },
  {
   "cell_type": "code",
   "execution_count": null,
   "id": "ae49097a-c4b0-4d93-8235-34b9a23641b8",
   "metadata": {},
   "outputs": [],
   "source": [
    "locmat = pd.DataFrame(0, base_loc.index, group_lookup.keys())"
   ]
  },
  {
   "cell_type": "markdown",
   "id": "b496e28d-96ce-4da0-b233-172507cad694",
   "metadata": {},
   "source": [
    "### loop over the groups and assign 1s where obs line up with par groups"
   ]
  },
  {
   "cell_type": "code",
   "execution_count": null,
   "id": "506e6de7-0974-4cf2-8f83-f14a759b9bda",
   "metadata": {},
   "outputs": [],
   "source": [
    "for k,v in group_lookup.items():\n",
    "    for cob in v:\n",
    "        locmat.loc[cob,k] = 1.0"
   ]
  },
  {
   "cell_type": "code",
   "execution_count": null,
   "id": "cd723ae8-b497-4045-93a4-fdf6cf10069c",
   "metadata": {},
   "outputs": [],
   "source": [
    "locmat"
   ]
  },
  {
   "cell_type": "markdown",
   "id": "61ab6ecd-3c73-46c6-8b45-199366bafcf6",
   "metadata": {},
   "source": [
    "### finally save it out to a text format"
   ]
  },
  {
   "cell_type": "code",
   "execution_count": null,
   "id": "03afa8b6-0f97-4127-bc4e-400d26fd645f",
   "metadata": {},
   "outputs": [],
   "source": [
    "pyemu.Matrix.from_dataframe(locmat).to_ascii(str(wkdir / 'loc.mat'))"
   ]
  },
  {
   "cell_type": "markdown",
   "id": "e698ef0a-7c12-4d3c-8214-a8d9facdc854",
   "metadata": {},
   "source": [
    "### and refer to it in the PST file (TODO: add writing out the PST file)"
   ]
  },
  {
   "cell_type": "code",
   "execution_count": null,
   "id": "fb4d9ef8-897a-4b02-9d24-c6fb26f53a50",
   "metadata": {},
   "outputs": [],
   "source": [
    "pst.pestpp_options[\"ies_localizer\"] = \"loc.mat\"\n"
   ]
  },
  {
   "cell_type": "code",
   "execution_count": null,
   "id": "e557a6e3-dddd-46cc-b41c-22495bdd4ac3",
   "metadata": {},
   "outputs": [],
   "source": [
    "#Write a new version of the PEST++ control file (.pst)\n",
    "pst.write(str(wkdir / 'prior_mc_loc.pst'), version=2)\n",
    "\n",
    "#will have to track this file and may need to add a bunch of files to be tracked"
   ]
  },
  {
   "cell_type": "code",
   "execution_count": null,
   "id": "be95310b-7a3c-46ae-9170-3cb3ecc71562",
   "metadata": {},
   "outputs": [],
   "source": []
  }
 ],
 "metadata": {
  "kernelspec": {
   "display_name": "Python 3 (ipykernel)",
   "language": "python",
   "name": "python3"
  },
  "language_info": {
   "codemirror_mode": {
    "name": "ipython",
    "version": 3
   },
   "file_extension": ".py",
   "mimetype": "text/x-python",
   "name": "python",
   "nbconvert_exporter": "python",
   "pygments_lexer": "ipython3",
   "version": "3.10.13"
  }
 },
 "nbformat": 4,
 "nbformat_minor": 5
}
