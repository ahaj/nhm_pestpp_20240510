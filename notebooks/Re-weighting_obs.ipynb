{
 "cells": [
  {
   "cell_type": "code",
   "execution_count": null,
   "id": "3d067554-e676-453f-b2b2-ae3f501e6498",
   "metadata": {},
   "outputs": [],
   "source": [
    "import pywatershed\n",
    "import pandas as pd\n",
    "import pathlib as pl\n",
    "import json\n",
    "import numpy as np\n",
    "from pywatershed.parameters.prms_parameters import JSONParameterEncoder\n",
    "\n",
    "import sys\n",
    "sys.path.append('../scripts/')\n",
    "from pest_utils import pars_to_tpl_entries\n",
    "sys.path.append('../dependencies/')\n",
    "import pyemu\n",
    "\n",
    "interrupt_notebook = False"
   ]
  },
  {
   "cell_type": "code",
   "execution_count": null,
   "id": "8842ba09-ae6b-4d67-afd7-05280cc4e07b",
   "metadata": {},
   "outputs": [],
   "source": [
    "all_models = ['01473000','05431486','09112500','14015000']# Create a list of all cutouts"
   ]
  },
  {
   "cell_type": "code",
   "execution_count": null,
   "id": "5ec2ee3b-1978-4642-8b3e-182bce8de3e2",
   "metadata": {},
   "outputs": [],
   "source": [
    "rootdir = pl.Path('../NHM_extractions/20230110_pois_haj/')# Path to location of cutouts"
   ]
  },
  {
   "cell_type": "code",
   "execution_count": null,
   "id": "a0e35c5c-8f56-4306-a77f-fd09885cfe90",
   "metadata": {},
   "outputs": [],
   "source": [
    "cm = all_models[2] # sets cutout from list\n",
    "pestdir = rootdir/ cm # stes path to location of NHM output folder where output files are."
   ]
  },
  {
   "cell_type": "code",
   "execution_count": null,
   "id": "78594e65-2ac0-4e90-85f2-9757f61a9c51",
   "metadata": {},
   "outputs": [],
   "source": [
    "pst = pyemu.Pst(str(pestdir / 'prior_mc.pst'))"
   ]
  },
  {
   "cell_type": "code",
   "execution_count": null,
   "id": "819a6fee-71f2-4116-b308-48463c4cac05",
   "metadata": {},
   "outputs": [],
   "source": [
    "pst.plot(kind='phi_pie')"
   ]
  },
  {
   "cell_type": "code",
   "execution_count": null,
   "id": "d2ea5b5e-06a1-4ec3-85cc-b145c222fc67",
   "metadata": {},
   "outputs": [],
   "source": [
    "pst.phi_components"
   ]
  },
  {
   "cell_type": "code",
   "execution_count": null,
   "id": "21385a54-7265-4985-8078-0fb262f09ef3",
   "metadata": {},
   "outputs": [],
   "source": []
  },
  {
   "cell_type": "code",
   "execution_count": null,
   "id": "953b4220-b3f0-4f05-a58b-e0487991e241",
   "metadata": {},
   "outputs": [],
   "source": [
    "phi = pst.phi\n",
    "phi"
   ]
  },
  {
   "cell_type": "code",
   "execution_count": null,
   "id": "b406e96b-7711-4dc4-8ae4-33d1001ce54e",
   "metadata": {},
   "outputs": [],
   "source": [
    "#stop"
   ]
  },
  {
   "cell_type": "code",
   "execution_count": null,
   "id": "e37254a8-cbd1-41d6-b576-6dee59beeeed",
   "metadata": {},
   "outputs": [],
   "source": [
    "phi_new_comps = {'actet_mean_mon':0.05 * phi,\n",
    " 'actet_mon':  .10 * phi,\n",
    " 'streamflow_nodata': 0 * phi ,\n",
    " 'recharge_ann': 0.05 * phi,\n",
    " 'runoff_mon': .15 * phi ,\n",
    " 'sca_daily':0 * phi ,\n",
    " 'soil_moist_ann': 0.05 * phi,\n",
    " 'soil_moist_mon': 0.05 * phi ,\n",
    " 'streamflow_mean_mon': .10 * phi ,\n",
    " 'streamflow_mon': .10 * phi }"
   ]
  },
  {
   "cell_type": "code",
   "execution_count": null,
   "id": "73252ab8-2d8c-4d87-b54a-bed7c34df114",
   "metadata": {},
   "outputs": [],
   "source": [
    "# add streamflow_daily components\n",
    "stream_comps_perc = 0.35\n",
    "stream_comps = len([i for i,_ in pst.phi_components.items() if i.lower().startswith('streamflow_daily')])\n",
    "stream_comps_each_perc = stream_comps_perc / stream_comps\n",
    "\n",
    "for i in pst.phi_components.keys():\n",
    "    if i.lower().startswith('streamflow_daily'):\n",
    "        phi_new_comps[i] = stream_comps_each_perc * phi"
   ]
  },
  {
   "cell_type": "code",
   "execution_count": null,
   "id": "8d7723d2-1eb9-4f74-bbe9-0d08bbbec761",
   "metadata": {},
   "outputs": [],
   "source": [
    "try:\n",
    "    assert np.isclose(sum([i for _,i in phi_new_comps.items()])/phi, 1.0)\n",
    "    print('Very very close to 1.0. Carry on!')\n",
    "except:\n",
    "    print('Not close to 1.0. Stop and recheck your weight for catagory.')"
   ]
  },
  {
   "cell_type": "code",
   "execution_count": null,
   "id": "db4e1745-0083-4959-938b-6a6300dcea82",
   "metadata": {},
   "outputs": [],
   "source": [
    "sum([i for _,i in phi_new_comps.items()])/phi"
   ]
  },
  {
   "cell_type": "code",
   "execution_count": null,
   "id": "f9e07163-ca21-48d4-8c5a-58874c3eb350",
   "metadata": {},
   "outputs": [],
   "source": [
    "assert np.isclose(sum([i for _,i in phi_new_comps.items()])/phi, 1.0)"
   ]
  },
  {
   "cell_type": "code",
   "execution_count": null,
   "id": "e170ee53-14f2-4eaa-b65e-434c153151a8",
   "metadata": {},
   "outputs": [],
   "source": [
    "pst.obs_groups"
   ]
  },
  {
   "cell_type": "code",
   "execution_count": null,
   "id": "6e6a3030-da98-4973-aff7-42faa0d07791",
   "metadata": {},
   "outputs": [],
   "source": [
    "pst.adjust_weights(obsgrp_dict=phi_new_comps)"
   ]
  },
  {
   "cell_type": "code",
   "execution_count": null,
   "id": "1b0ec43b-56c5-4c17-9352-6132f96bac7b",
   "metadata": {},
   "outputs": [],
   "source": [
    "pst.plot(kind='phi_pie')"
   ]
  },
  {
   "cell_type": "code",
   "execution_count": null,
   "id": "8889e34f-365b-481d-882b-845dcd84db8e",
   "metadata": {},
   "outputs": [],
   "source": [
    "pst.observation_data.loc[pst.observation_data.obgnme=='streamflow_nodata']"
   ]
  },
  {
   "cell_type": "code",
   "execution_count": null,
   "id": "7e4a23c7-2db8-45d9-b001-8daa5948bdba",
   "metadata": {},
   "outputs": [],
   "source": [
    "#Write a new version of the PEST++ control file (.pst)\n",
    "pst.write(str(rootdir/cm/ 'prior_mc_reweight.pst'), version=2)\n"
   ]
  },
  {
   "cell_type": "code",
   "execution_count": null,
   "id": "099b42ab-0a2c-4b68-a3e3-8bab3e49753b",
   "metadata": {},
   "outputs": [],
   "source": [
    "print(pst.adjust_weights(obsgrp_dict=phi_new_comps))\n"
   ]
  },
  {
   "cell_type": "code",
   "execution_count": null,
   "id": "138ffb42-84c7-4d92-9f9b-efbeae27d93b",
   "metadata": {},
   "outputs": [],
   "source": [
    "#Write this to a dataframe (.csv) and save it somewhere so that we have a record of it. with time date and append to .csv every notebook run.\n",
    "print(pst.phi_components_normalized)\n"
   ]
  },
  {
   "cell_type": "code",
   "execution_count": null,
   "id": "ca34bd02-d12f-4d9f-b75c-8c900f4e14d9",
   "metadata": {},
   "outputs": [],
   "source": []
  }
 ],
 "metadata": {
  "kernelspec": {
   "display_name": "Python 3 (ipykernel)",
   "language": "python",
   "name": "python3"
  },
  "language_info": {
   "codemirror_mode": {
    "name": "ipython",
    "version": 3
   },
   "file_extension": ".py",
   "mimetype": "text/x-python",
   "name": "python",
   "nbconvert_exporter": "python",
   "pygments_lexer": "ipython3",
   "version": "3.10.13"
  }
 },
 "nbformat": 4,
 "nbformat_minor": 5
}
