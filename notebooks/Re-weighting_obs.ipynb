{
 "cells": [
  {
   "cell_type": "code",
   "execution_count": null,
   "id": "3d067554-e676-453f-b2b2-ae3f501e6498",
   "metadata": {},
   "outputs": [],
   "source": [
    "import pywatershed\n",
    "import pandas as pd\n",
    "import pathlib as pl\n",
    "import numpy as np\n",
    "import sys\n",
    "sys.path.append('../scripts/')\n",
    "from pest_utils import pars_to_tpl_entries\n",
    "sys.path.append('../dependencies/')\n",
    "import pyemu\n",
    "interrupt_notebook = False"
   ]
  },
  {
   "cell_type": "code",
   "execution_count": null,
   "id": "8842ba09-ae6b-4d67-afd7-05280cc4e07b",
   "metadata": {},
   "outputs": [],
   "source": [
    "all_models = ['01473000','05431486','09112500','14015000']# Create a list of all cutouts"
   ]
  },
  {
   "cell_type": "code",
   "execution_count": null,
   "id": "5ec2ee3b-1978-4642-8b3e-182bce8de3e2",
   "metadata": {},
   "outputs": [],
   "source": [
    "rootdir = pl.Path('../NHM_extractions/20230110_pois_haj/')# Path to location of cutouts"
   ]
  },
  {
   "cell_type": "code",
   "execution_count": null,
   "id": "a0e35c5c-8f56-4306-a77f-fd09885cfe90",
   "metadata": {},
   "outputs": [],
   "source": [
    "cm = all_models[1] # sets cutout from list\n",
    "pestdir = rootdir/ cm # stes path to location of NHM output folder where output files are."
   ]
  },
  {
   "cell_type": "code",
   "execution_count": null,
   "id": "78594e65-2ac0-4e90-85f2-9757f61a9c51",
   "metadata": {},
   "outputs": [],
   "source": [
    "pst = pyemu.Pst(str(pestdir / 'prior_mc_loc.pst'))"
   ]
  },
  {
   "cell_type": "code",
   "execution_count": null,
   "id": "819a6fee-71f2-4116-b308-48463c4cac05",
   "metadata": {},
   "outputs": [],
   "source": [
    "pst.plot(kind='phi_pie')"
   ]
  },
  {
   "cell_type": "code",
   "execution_count": null,
   "id": "d2ea5b5e-06a1-4ec3-85cc-b145c222fc67",
   "metadata": {},
   "outputs": [],
   "source": [
    "pst.phi_components"
   ]
  },
  {
   "cell_type": "markdown",
   "id": "a62ae86a-726d-4bf3-8fd3-4a95cc756cd4",
   "metadata": {},
   "source": [
    "#### read in the zero-weighting information"
   ]
  },
  {
   "cell_type": "code",
   "execution_count": null,
   "id": "deeaa800-9a07-41a8-952c-529477876c4b",
   "metadata": {},
   "outputs": [],
   "source": [
    "zw_df = pd.read_csv('../Supporting_information/zero_weighting.csv', dtype={'cutout':str,'location':str})"
   ]
  },
  {
   "cell_type": "code",
   "execution_count": null,
   "id": "9052f1fc-a920-4f7c-bfed-36ab1b00018b",
   "metadata": {},
   "outputs": [],
   "source": [
    "if isinstance(zw_df,pd.Series):\n",
    "    zw_df = zw_df.to_frame().T\n",
    "zw_df"
   ]
  },
  {
   "cell_type": "code",
   "execution_count": null,
   "id": "2e22bd6e-9074-44ce-9a8c-0b8cf1e7bf33",
   "metadata": {},
   "outputs": [],
   "source": [
    "zw_df = zw_df.loc[zw_df.cutout==cm]\n",
    "zw_df"
   ]
  },
  {
   "cell_type": "markdown",
   "id": "d7909f31-d044-48d8-83c3-d0b1cc921b56",
   "metadata": {},
   "source": [
    "### need to work in a copy of the observations dataframe to set various values properly to weight of 0"
   ]
  },
  {
   "cell_type": "code",
   "execution_count": null,
   "id": "1728cd62-6a2c-4587-a87f-b48da04b4711",
   "metadata": {},
   "outputs": [],
   "source": [
    "obs_sf = pst.observation_data.loc[pst.observation_data.obgnme.str.contains('streamflow')].copy()\n"
   ]
  },
  {
   "cell_type": "code",
   "execution_count": null,
   "id": "ee692894-8eaf-409b-870f-9c9f0afac5fd",
   "metadata": {},
   "outputs": [],
   "source": [
    "obs_sf['month'] = 'mt'\n",
    "obs_sf['location'] = [i.split(':')[-1] for i in obs_sf.index]\n",
    "daily_index = obs_sf.loc[obs_sf.index.str.contains('daily'), 'obsnme'].to_list()\n",
    "mean_mon_index = obs_sf.loc[obs_sf.index.str.contains('mean_mon'), 'obsnme'].to_list()\n",
    "mon_index = obs_sf.loc[obs_sf.index.str.contains('streamflow_mon'), 'obsnme'].to_list()"
   ]
  },
  {
   "cell_type": "code",
   "execution_count": null,
   "id": "1d9b03cc-cdf5-4dfd-9ec2-ec9041c40d40",
   "metadata": {},
   "outputs": [],
   "source": [
    "obs_sf.loc[daily_index, 'month'] = [i.split(':')[-2].split('_')[1] for i in daily_index]\n",
    "obs_sf.loc[mean_mon_index, 'month'] = [i.split(':')[-2] for i in mean_mon_index]\n",
    "obs_sf.loc[mon_index, 'month'] = [i.split(':')[-2].split('_')[1] for i in mon_index]\n"
   ]
  },
  {
   "cell_type": "code",
   "execution_count": null,
   "id": "490e6cea-8303-4d3f-af5d-e7a0c6dc2713",
   "metadata": {},
   "outputs": [],
   "source": [
    "for _,i in zw_df.iterrows():\n",
    "    print(i.location, i.stmonth, i.endmonth)\n",
    "    monthrange = [str(i) for i in range(i.stmonth, i.endmonth+1)]\n",
    "    for cmonth in monthrange:\n",
    "        obs_sf.loc[(obs_sf.location==i.location) & (obs_sf.month==cmonth),'weight'] = 0"
   ]
  },
  {
   "cell_type": "code",
   "execution_count": null,
   "id": "456ce555-7e45-48d4-93ab-26188d841a04",
   "metadata": {},
   "outputs": [],
   "source": [
    "pst.observation_data.loc[obs_sf.index,'weight'] = obs_sf.weight"
   ]
  },
  {
   "cell_type": "markdown",
   "id": "e6811b74-ddee-4935-b5a2-5889d4570e2d",
   "metadata": {},
   "source": [
    "### now get on with reweighting"
   ]
  },
  {
   "cell_type": "code",
   "execution_count": null,
   "id": "953b4220-b3f0-4f05-a58b-e0487991e241",
   "metadata": {},
   "outputs": [],
   "source": [
    "phi = pst.phi\n",
    "phi"
   ]
  },
  {
   "cell_type": "code",
   "execution_count": null,
   "id": "b406e96b-7711-4dc4-8ae4-33d1001ce54e",
   "metadata": {},
   "outputs": [],
   "source": [
    "#stop"
   ]
  },
  {
   "cell_type": "code",
   "execution_count": null,
   "id": "e37254a8-cbd1-41d6-b576-6dee59beeeed",
   "metadata": {},
   "outputs": [],
   "source": [
    "# Assign relative contributions to the objective function\n",
    "phi_new_comps = {'l_max_actet_mean_mon':0.04 * phi,\n",
    "                 'g_min_actet_mean_mon':0.04 * phi,\n",
    "                 'l_max_actet_mon':  .02 * phi,\n",
    "                 'g_min_actet_mon':  .02 * phi,\n",
    "                 'streamflow_nodata': 0 * phi,\n",
    "                 'l_max_recharge_ann': 0.04 * phi,\n",
    "                 'g_min_recharge_ann': 0.04 * phi,\n",
    "                 'l_max_runoff_mon': .07 * phi,\n",
    "                 'g_min_runoff_mon': .07 * phi,\n",
    "                 'l_max_sca_daily':.05 * phi,\n",
    "                 'g_min_sca_daily':.05 * phi,\n",
    "                 'l_max_soil_moist_ann': 0.04 * phi,\n",
    "                 'g_min_soil_moist_ann': 0.04 * phi,\n",
    "                 'l_max_soil_moist_mon': 0.04 * phi,\n",
    "                 'g_min_soil_moist_mon': 0.04 * phi,\n",
    "                 'streamflow_mean_mon': .1 * phi,\n",
    "                 'streamflow_mon': .1 * phi,\n",
    "                }"
   ]
  },
  {
   "cell_type": "code",
   "execution_count": null,
   "id": "73252ab8-2d8c-4d87-b54a-bed7c34df114",
   "metadata": {},
   "outputs": [],
   "source": [
    "# add streamflow_daily components\n",
    "\n",
    "#Changed above to '0' for now, rebalance above accordingly\n",
    "obstmp = pst.observation_data.copy()\n",
    "stream_comps_perc = 0.2 \n",
    "low_comp = 0.6 * stream_comps_perc\n",
    "high_comp = 0.4 * stream_comps_perc\n",
    "low_stream_comps = high_stream_comps = 0\n",
    "low_count = high_count = 0\n",
    "for k,i in pst.phi_components.items():\n",
    "    if k.lower().startswith('streamflow_daily'):\n",
    "        if (('exlow' in k.lower()) | ('daily_low' in k.lower())):\n",
    "            low_count += len(obstmp.loc[obstmp.obgnme==k])\n",
    "            low_stream_comps += i\n",
    "        else:\n",
    "            high_count += len(obstmp.loc[obstmp.obgnme==k])\n",
    "            high_stream_comps += i\n",
    "\n",
    "for i, comp in pst.phi_components.items():\n",
    "    if i.lower().startswith('streamflow_daily'):\n",
    "        if (('exlow' in i.lower()) | ('daily_low' in i.lower())):\n",
    "            phi_new_comps[i] = comp/low_stream_comps * low_comp * phi\n",
    "        else:\n",
    "            phi_new_comps[i] = comp/high_stream_comps * high_comp * phi\n"
   ]
  },
  {
   "cell_type": "code",
   "execution_count": null,
   "id": "50220e2e-6725-436e-819f-a7d0d25b0e9b",
   "metadata": {},
   "outputs": [],
   "source": [
    "\n",
    "low_stream_comps,high_stream_comps\n"
   ]
  },
  {
   "cell_type": "code",
   "execution_count": null,
   "id": "13cacb75-10e5-4d60-ac28-03eabd80ec44",
   "metadata": {},
   "outputs": [],
   "source": [
    "pst.phi_components.items()"
   ]
  },
  {
   "cell_type": "code",
   "execution_count": null,
   "id": "8d7723d2-1eb9-4f74-bbe9-0d08bbbec761",
   "metadata": {},
   "outputs": [],
   "source": [
    "try:\n",
    "    assert np.isclose(sum([i for _,i in phi_new_comps.items()])/phi, 1.0)\n",
    "    print('Very very close to 1.0. Carry on!')\n",
    "except:\n",
    "    print('Not close to 1.0. Stop and recheck your weight for catagory.')"
   ]
  },
  {
   "cell_type": "code",
   "execution_count": null,
   "id": "db4e1745-0083-4959-938b-6a6300dcea82",
   "metadata": {},
   "outputs": [],
   "source": [
    "sum([i for _,i in phi_new_comps.items()])/phi"
   ]
  },
  {
   "cell_type": "code",
   "execution_count": null,
   "id": "f9e07163-ca21-48d4-8c5a-58874c3eb350",
   "metadata": {},
   "outputs": [],
   "source": [
    "assert np.isclose(sum([i for _,i in phi_new_comps.items()])/phi, 1.0)"
   ]
  },
  {
   "cell_type": "code",
   "execution_count": null,
   "id": "e170ee53-14f2-4eaa-b65e-434c153151a8",
   "metadata": {},
   "outputs": [],
   "source": [
    "pst.obs_groups"
   ]
  },
  {
   "cell_type": "code",
   "execution_count": null,
   "id": "6e6a3030-da98-4973-aff7-42faa0d07791",
   "metadata": {},
   "outputs": [],
   "source": [
    "pst.adjust_weights(obsgrp_dict=phi_new_comps)"
   ]
  },
  {
   "cell_type": "code",
   "execution_count": null,
   "id": "1b0ec43b-56c5-4c17-9352-6132f96bac7b",
   "metadata": {},
   "outputs": [],
   "source": [
    "pst.plot(kind='phi_pie')"
   ]
  },
  {
   "cell_type": "code",
   "execution_count": null,
   "id": "8889e34f-365b-481d-882b-845dcd84db8e",
   "metadata": {},
   "outputs": [],
   "source": [
    "pst.observation_data.loc[pst.observation_data.obgnme=='streamflow_nodata']"
   ]
  },
  {
   "cell_type": "code",
   "execution_count": null,
   "id": "7e4a23c7-2db8-45d9-b001-8daa5948bdba",
   "metadata": {},
   "outputs": [],
   "source": [
    "#Write a new version of the PEST++ control file (.pst)\n",
    "pst.control_data.noptmax=-1\n",
    "pst.write(str(rootdir/cm/ 'prior_mc_reweight.pst'), version=2)\n"
   ]
  },
  {
   "cell_type": "code",
   "execution_count": null,
   "id": "099b42ab-0a2c-4b68-a3e3-8bab3e49753b",
   "metadata": {},
   "outputs": [],
   "source": [
    "print(pst.adjust_weights(obsgrp_dict=phi_new_comps))\n"
   ]
  },
  {
   "cell_type": "code",
   "execution_count": null,
   "id": "138ffb42-84c7-4d92-9f9b-efbeae27d93b",
   "metadata": {},
   "outputs": [],
   "source": [
    "#Write this to a dataframe (.csv) and save it somewhere so that we have a record of it. with time date and append to .csv every notebook run.\n",
    "print(pst.phi_components_normalized)\n"
   ]
  },
  {
   "cell_type": "markdown",
   "id": "e3e74ed6-f4d0-4ebd-a8bc-c2fd3acd1f20",
   "metadata": {},
   "source": [
    "### update the localization matrix to remove groups with only 0-weighted obs"
   ]
  },
  {
   "cell_type": "code",
   "execution_count": null,
   "id": "f36cef97-347f-40be-8e1b-1a16490ad9a6",
   "metadata": {},
   "outputs": [],
   "source": [
    "# find zero-weighted groups\n",
    "zero_grps = list(set(pst.obs_groups) - set(pst.nnz_obs_groups))\n",
    "zero_grps"
   ]
  },
  {
   "cell_type": "code",
   "execution_count": null,
   "id": "6c8f9d31-18e9-4d54-8061-d35918db9305",
   "metadata": {},
   "outputs": [],
   "source": [
    "# read in the localization matrix from the run directory\n",
    "locmat = pyemu.Matrix.from_ascii(str(rootdir / cm / 'loc.mat')).to_dataframe()"
   ]
  },
  {
   "cell_type": "code",
   "execution_count": null,
   "id": "3642a8dd-67a4-474b-875a-c346d7260683",
   "metadata": {},
   "outputs": [],
   "source": [
    "# confirm that we can select only the rows that are not in the zero-weighted groups lines\n",
    "locmat.loc[~locmat.index.isin(zero_grps)]"
   ]
  },
  {
   "cell_type": "code",
   "execution_count": null,
   "id": "318ba6d2-5d16-4035-a696-8ed1b17f8f32",
   "metadata": {},
   "outputs": [],
   "source": [
    "len(locmat),len(locmat.loc[~locmat.index.isin(zero_grps)])"
   ]
  },
  {
   "cell_type": "code",
   "execution_count": null,
   "id": "6d28b4ba-ec9c-4c03-a6cb-d55fdc55486f",
   "metadata": {},
   "outputs": [],
   "source": [
    "# write out the new matrix in PEST style\n",
    "pyemu.Matrix.from_dataframe(locmat.loc[~locmat.index.isin(zero_grps)]).to_ascii(str(rootdir/cm/ 'loc.mat'))"
   ]
  },
  {
   "cell_type": "code",
   "execution_count": null,
   "id": "3f938d24-2906-446a-80d0-6477270317ba",
   "metadata": {},
   "outputs": [],
   "source": []
  },
  {
   "cell_type": "code",
   "execution_count": null,
   "id": "d0a9e41b-6838-43be-a8af-233eb4af40bb",
   "metadata": {},
   "outputs": [],
   "source": []
  }
 ],
 "metadata": {
  "kernelspec": {
   "display_name": "Python 3 (ipykernel)",
   "language": "python",
   "name": "python3"
  },
  "language_info": {
   "codemirror_mode": {
    "name": "ipython",
    "version": 3
   },
   "file_extension": ".py",
   "mimetype": "text/x-python",
   "name": "python",
   "nbconvert_exporter": "python",
   "pygments_lexer": "ipython3",
   "version": "3.10.13"
  }
 },
 "nbformat": 4,
 "nbformat_minor": 5
}
