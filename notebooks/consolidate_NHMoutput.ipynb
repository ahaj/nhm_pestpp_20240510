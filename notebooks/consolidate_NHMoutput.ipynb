{
 "cells": [
  {
   "cell_type": "code",
   "execution_count": null,
   "id": "bd5650dc",
   "metadata": {},
   "outputs": [],
   "source": [
    "import xarray as xr\n",
    "import pathlib as pl\n",
    "import pandas as pd\n",
    "import pywatershed\n",
    "import os\n",
    "import dask\n",
    "import numpy as np"
   ]
  },
  {
   "cell_type": "code",
   "execution_count": null,
   "id": "5c8cb0a6",
   "metadata": {},
   "outputs": [],
   "source": [
    "all_models = ['01473000','05431486','09112500','14015000']# Create a list of all cutouts"
   ]
  },
  {
   "cell_type": "code",
   "execution_count": null,
   "id": "c06e90ae",
   "metadata": {},
   "outputs": [],
   "source": [
    "rootdir = pl.Path('../NHM_extractions/20230110_pois_haj/')# Path to location of cutouts"
   ]
  },
  {
   "cell_type": "code",
   "execution_count": null,
   "id": "88c66980",
   "metadata": {},
   "outputs": [],
   "source": [
    "var_output_files = ['hru_actet.nc', 'recharge.nc', 'soil_rechr.nc', 'snowcov_area.nc', 'seg_outflow.nc',]#output files of interest"
   ]
  },
  {
   "cell_type": "markdown",
   "id": "45a7c367",
   "metadata": {},
   "source": [
    "### Working currently from a single cutout directory"
   ]
  },
  {
   "cell_type": "code",
   "execution_count": null,
   "id": "5196f055",
   "metadata": {},
   "outputs": [],
   "source": [
    "cm = all_models[0] # sets cutout from list\n",
    "outvardir = rootdir/ cm / 'output'# stes path to location of NHM output folder where output files are."
   ]
  },
  {
   "cell_type": "code",
   "execution_count": null,
   "id": "916379cc",
   "metadata": {},
   "outputs": [],
   "source": [
    "# set the file name for the postprocessed model output file that PEST will read\n",
    "of_name = 'alloutput.dat'# name of file"
   ]
  },
  {
   "cell_type": "code",
   "execution_count": null,
   "id": "c1512dcc",
   "metadata": {
    "scrolled": true
   },
   "outputs": [],
   "source": [
    "########### Useful code\n",
    "#indat\n",
    "#df.index.dtypes\n",
    "#xr.__version__"
   ]
  },
  {
   "cell_type": "markdown",
   "id": "f52cb82f",
   "metadata": {},
   "source": [
    "### Actual ET\n",
    "#### Get and check the daily data"
   ]
  },
  {
   "cell_type": "code",
   "execution_count": null,
   "id": "67826516",
   "metadata": {},
   "outputs": [],
   "source": [
    "actet_daily = xr.open_mfdataset(outvardir / 'hru_actet.nc')"
   ]
  },
  {
   "cell_type": "markdown",
   "id": "a635f284",
   "metadata": {},
   "source": [
    "#### Post-process daily output to match observation targets of \"monthly\" and \"mean monthly\""
   ]
  },
  {
   "cell_type": "code",
   "execution_count": null,
   "id": "f5428ab6",
   "metadata": {},
   "outputs": [],
   "source": [
    "#Creates a dataframe time series of monthly values (average daily rate for the month)\n",
    "actet_monthly = actet_daily.resample(time = 'm').mean()"
   ]
  },
  {
   "cell_type": "code",
   "execution_count": null,
   "id": "e6285b0b",
   "metadata": {},
   "outputs": [],
   "source": [
    "# Creates a dataframe time series of mean monthly (mean of all jan, feb, mar....)\n",
    "actet_mean_monthly = actet_monthly.groupby('time.month').mean()"
   ]
  },
  {
   "cell_type": "code",
   "execution_count": null,
   "id": "895ce2f5",
   "metadata": {},
   "outputs": [],
   "source": [
    "### Used for plotting/checking\n",
    "#df = actet_monthly.to_dataframe()# makes a dataframe for plotting and writing out\n",
    "#df_r = np.ravel(actet_monthly_df, order = 'C')# flattens the 2D array to a 1D array--just playing\n",
    "#df[8465:8473]\n",
    "#df.xs(5625, level=1).plot()"
   ]
  },
  {
   "cell_type": "markdown",
   "id": "7ef6d3e5",
   "metadata": {},
   "source": [
    "#### Now write values to the template file"
   ]
  },
  {
   "cell_type": "code",
   "execution_count": null,
   "id": "b6306157",
   "metadata": {},
   "outputs": [],
   "source": [
    "inds = [f'{i.year}_{i.month}:{j}' for i in actet_monthly.indexes['time'] for j in actet_monthly.indexes['nhm_id']]# set up the indices in sequence\n",
    "varvals = np.ravel(actet_monthly.to_array(), order = 'C')# flattens the 2D array to a 1D array--just playing \n",
    "\n",
    "with open(rootdir / cm / of_name, encoding=\"utf-8\", mode='w') as ofp:\n",
    "    [ofp.write(f'actet_mon:{i}          {j}\\n') for i,j in zip(inds,varvals)]"
   ]
  },
  {
   "cell_type": "code",
   "execution_count": null,
   "id": "7151d2d6",
   "metadata": {
    "scrolled": false
   },
   "outputs": [],
   "source": [
    "inds = [f'{i}:{j}' for i in actet_mean_monthly.indexes['month'] for j in actet_mean_monthly.indexes['nhm_id']]\n",
    "varvals =  np.ravel(actet_mean_monthly.to_array(), order = 'C')# flattens the 2D array to a 1D array \n",
    "\n",
    "with open(rootdir / cm / of_name, encoding=\"utf-8\", mode='a') as ofp:\n",
    "    [ofp.write(f'actet_mean_mon:{i}          {j}\\n') for i,j in zip(inds,varvals)]"
   ]
  },
  {
   "cell_type": "markdown",
   "id": "5b1608c8",
   "metadata": {},
   "source": [
    "### Post Process recharge for calibration use\n",
    "#### Get daily output file from NHM for recharge"
   ]
  },
  {
   "cell_type": "code",
   "execution_count": null,
   "id": "9e2d5c07",
   "metadata": {},
   "outputs": [],
   "source": [
    "recharge_daily = xr.open_mfdataset(outvardir / 'recharge.nc')"
   ]
  },
  {
   "cell_type": "markdown",
   "id": "64d7d686",
   "metadata": {},
   "source": [
    "#### Post-process daily output to match observation target of \"annual recharge\" as an average daily rate for the year"
   ]
  },
  {
   "cell_type": "code",
   "execution_count": null,
   "id": "cc340b8e",
   "metadata": {},
   "outputs": [],
   "source": [
    "recharge_annual = recharge_daily.resample(time = 'Y').mean()"
   ]
  },
  {
   "cell_type": "markdown",
   "id": "d1b47821",
   "metadata": {},
   "source": [
    "#### Write values to template file"
   ]
  },
  {
   "cell_type": "code",
   "execution_count": null,
   "id": "01d31b80",
   "metadata": {},
   "outputs": [],
   "source": [
    "inds = [f'{i.year}:{j}' for i in recharge_annual.indexes['time'] for j in recharge_annual.indexes['nhm_id']]\n",
    "varvals =  np.ravel(recharge_annual.to_array(), order = 'C')# flattens the 2D array to a 1D array \n",
    "\n",
    "with open(rootdir / cm / of_name, encoding=\"utf-8\",mode='a') as ofp:\n",
    "    [ofp.write(f'recharge_ann:{i}          {j}\\n') for i,j in zip(inds,varvals)]"
   ]
  },
  {
   "cell_type": "markdown",
   "id": "1c78ef6b",
   "metadata": {},
   "source": [
    "### Post Process \"soil_rechr\" to compare to target\n",
    "#### Get daily output file from NHM for soil recharge"
   ]
  },
  {
   "cell_type": "code",
   "execution_count": null,
   "id": "53448b27",
   "metadata": {},
   "outputs": [],
   "source": [
    "soil_rechr_daily = xr.open_mfdataset(outvardir / 'soil_rechr.nc')"
   ]
  },
  {
   "cell_type": "code",
   "execution_count": null,
   "id": "c6079941",
   "metadata": {},
   "outputs": [],
   "source": [
    "#Creates a dataframe time series of monthly values (average daily rate for each month)\n",
    "soil_rechr_monthly = soil_rechr_daily.resample(time = 'm').mean() \n",
    "\n",
    "#Creates a dataframe time series of annual values (average daily value for each year)\n",
    "soil_rechr_annual = soil_rechr_daily.resample(time = 'Y').mean() "
   ]
  },
  {
   "cell_type": "code",
   "execution_count": null,
   "id": "df699796",
   "metadata": {},
   "outputs": [],
   "source": [
    "inds = [f'{i.year}_{i.month}:{j}' for i in soil_rechr_monthly.indexes['time'] for j in soil_rechr_monthly.indexes['nhm_id']]\n",
    "varvals = np.ravel(soil_rechr_monthly.to_array(), order = 'C')# flattens the 2D array to a 1D array\n",
    "\n",
    "with open(rootdir / cm / of_name, encoding=\"utf-8\",mode='a') as ofp:\n",
    "    [ofp.write(f'soil_rechr_mon:{i}          {j}\\n') for i,j in zip(inds,varvals)]"
   ]
  },
  {
   "cell_type": "code",
   "execution_count": null,
   "id": "5fe501ba",
   "metadata": {},
   "outputs": [],
   "source": [
    "inds = [f'{i.year}:{j}' for i in soil_rechr_annual.indexes['time'] for j in soil_rechr_annual.indexes['nhm_id']]\n",
    "varvals =  np.ravel(soil_rechr_annual.to_array(), order = 'C')# flattens the 2D array to a 1D array \n",
    "\n",
    "with open(rootdir / cm / of_name, encoding=\"utf-8\",mode='a') as ofp:\n",
    "    [ofp.write(f'soil_rechr_ann:{i}          {j}\\n') for i,j in zip(inds,varvals)]"
   ]
  },
  {
   "cell_type": "markdown",
   "id": "66635ac3",
   "metadata": {},
   "source": [
    "### Post Process \"snowcov_area\" to compare to target\n",
    "#### Get and check the daily data"
   ]
  },
  {
   "cell_type": "code",
   "execution_count": null,
   "id": "efa1101a",
   "metadata": {},
   "outputs": [],
   "source": [
    "snowcov_area_daily = xr.open_mfdataset(outvardir / 'snowcov_area.nc')"
   ]
  },
  {
   "cell_type": "code",
   "execution_count": null,
   "id": "b5fd1a37",
   "metadata": {},
   "outputs": [],
   "source": [
    "inds = [f'{i.year}_{i.month}_{i.day}:{j}' for i in snowcov_area_daily.indexes['time'] for j in snowcov_area_daily.indexes['nhm_id']]\n",
    "varvals = np.ravel(snowcov_area_daily.to_array(), order = 'C')# flattens the 2D array to a 1D array\n",
    "\n",
    "with open(rootdir / cm / of_name, encoding=\"utf-8\", mode='a') as ofp:\n",
    "    [ofp.write(f'sca_daily:{i}          {j}\\n') for i,j in zip(inds,varvals)]"
   ]
  },
  {
   "cell_type": "markdown",
   "id": "81849df4",
   "metadata": {},
   "source": [
    "### Post Process \"seg_outflow\" to compare to target\n",
    "#### Get and check the daily data"
   ]
  },
  {
   "cell_type": "code",
   "execution_count": null,
   "id": "e229a8af",
   "metadata": {},
   "outputs": [],
   "source": []
  },
  {
   "cell_type": "markdown",
   "id": "4859213c",
   "metadata": {},
   "source": [
    "### Create model output template file"
   ]
  },
  {
   "cell_type": "code",
   "execution_count": null,
   "id": "e4f00871",
   "metadata": {},
   "outputs": [],
   "source": [
    "oftemplate_name = 'alloutput_template.dat'"
   ]
  },
  {
   "cell_type": "markdown",
   "id": "5a22631c",
   "metadata": {},
   "source": [
    "#### AET"
   ]
  },
  {
   "cell_type": "code",
   "execution_count": null,
   "id": "8fe3a4e4",
   "metadata": {},
   "outputs": [],
   "source": [
    "inds = [f'{i.year}_{i.month}:{j}' for i in actet_monthly.indexes['time'] for j in actet_monthly.indexes['nhm_id']]# set up the indices in sequence\n",
    "varvals = np.ravel(actet_monthly.to_array(), order = 'C')# flattens the 2D array to a 1D array--just playing \n",
    "\n",
    "with open(rootdir / cm / oftemplate_name, encoding=\"utf-8\", mode='w') as ofp:\n",
    "    [ofp.write(f'actet_mon:{i}          {j}\\n') for i,j in zip(inds,varvals)]"
   ]
  },
  {
   "cell_type": "code",
   "execution_count": null,
   "id": "ab1949f1",
   "metadata": {
    "scrolled": false
   },
   "outputs": [],
   "source": [
    "inds = [f'{i}:{j}' for i in actet_mean_monthly.indexes['month'] for j in actet_mean_monthly.indexes['nhm_id']]\n",
    "varvals =  np.ravel(actet_mean_monthly.to_array(), order = 'C')# flattens the 2D array to a 1D array \n",
    "\n",
    "with open(rootdir / cm / oftemplate_name, encoding=\"utf-8\", mode='a') as ofp:\n",
    "    [ofp.write(f'actet_mean_mon:{i}          {j}\\n') for i,j in zip(inds,varvals)]"
   ]
  },
  {
   "cell_type": "code",
   "execution_count": null,
   "id": "1beb82a0",
   "metadata": {},
   "outputs": [],
   "source": []
  }
 ],
 "metadata": {
  "kernelspec": {
   "display_name": "Python 3 (ipykernel)",
   "language": "python",
   "name": "python3"
  },
  "language_info": {
   "codemirror_mode": {
    "name": "ipython",
    "version": 3
   },
   "file_extension": ".py",
   "mimetype": "text/x-python",
   "name": "python",
   "nbconvert_exporter": "python",
   "pygments_lexer": "ipython3",
   "version": "3.10.10"
  }
 },
 "nbformat": 4,
 "nbformat_minor": 5
}
