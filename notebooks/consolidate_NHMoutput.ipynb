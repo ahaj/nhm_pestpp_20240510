{
 "cells": [
  {
   "cell_type": "code",
   "execution_count": null,
   "id": "bd5650dc",
   "metadata": {},
   "outputs": [],
   "source": [
    "import xarray as xr\n",
    "import pathlib as pl\n",
    "import pandas as pd\n",
    "import pywatershed\n",
    "import os\n",
    "import dask\n",
    "import numpy as np"
   ]
  },
  {
   "cell_type": "code",
   "execution_count": null,
   "id": "5c8cb0a6",
   "metadata": {},
   "outputs": [],
   "source": [
    "all_models = ['01473000','05431486','09112500','14015000']# Create a list of all cutouts"
   ]
  },
  {
   "cell_type": "code",
   "execution_count": null,
   "id": "c06e90ae",
   "metadata": {},
   "outputs": [],
   "source": [
    "rootdir = pl.Path('../NHM_extractions/20230110_pois_haj/')# Path to location of cutouts"
   ]
  },
  {
   "cell_type": "code",
   "execution_count": null,
   "id": "88c66980",
   "metadata": {},
   "outputs": [],
   "source": [
    "var_output_files = ['hru_actet.nc', 'recharge.nc', 'soil_rechr.nc', 'snowcov_area.nc', 'seg_outflow.nc',]#output files of interest"
   ]
  },
  {
   "cell_type": "markdown",
   "id": "45a7c367",
   "metadata": {},
   "source": [
    "### Working currently from a single cutout directory"
   ]
  },
  {
   "cell_type": "code",
   "execution_count": null,
   "id": "5196f055",
   "metadata": {},
   "outputs": [],
   "source": [
    "cm = all_models[0] # sets cutout from list\n",
    "outvardir = rootdir/ cm / 'output'# stes path to location of NHM output folder where output files are."
   ]
  },
  {
   "cell_type": "code",
   "execution_count": null,
   "id": "916379cc",
   "metadata": {},
   "outputs": [],
   "source": [
    "# set the file name for the postprocessed model output file that PEST will read\n",
    "of_name = 'alloutput.dat'# name of file"
   ]
  },
  {
   "cell_type": "code",
   "execution_count": null,
   "id": "c1512dcc",
   "metadata": {
    "scrolled": true
   },
   "outputs": [],
   "source": [
    "########### Useful code\n",
    "#indat\n",
    "#df.index.dtypes\n",
    "#xr.__version__"
   ]
  },
  {
   "cell_type": "markdown",
   "id": "a8aaf26d",
   "metadata": {},
   "source": [
    "### Slice output to calibration periods for each variable\n",
    "#### These are as follows from table 2 (Hay and others, 2023):\n"
   ]
  },
  {
   "cell_type": "code",
   "execution_count": null,
   "id": "79af12e3",
   "metadata": {},
   "outputs": [],
   "source": [
    "aet_start = '2000-01-01'\n",
    "aet_end = '2010-12-31'\n",
    "recharge_start = '2000-01-01'\n",
    "recharge_end = '2009-12-31'\n",
    "runoff_start = '1982-01-01'\n",
    "runoff_end = '2010-12-31'\n",
    "soil_rechr_start = '1982-01-01'\n",
    "soil_rechr_end = '2010-12-31'\n",
    "sca_start = '2000-01-01'\n",
    "sca_end = '2010-12-31'"
   ]
  },
  {
   "cell_type": "markdown",
   "id": "f52cb82f",
   "metadata": {},
   "source": [
    "### Actual ET\n",
    "#### Get and check the daily data"
   ]
  },
  {
   "cell_type": "code",
   "execution_count": null,
   "id": "67826516",
   "metadata": {},
   "outputs": [],
   "source": [
    "actet_daily = (xr.open_dataset(outvardir / 'hru_actet.nc')['hru_actet']).sel(time=slice(aet_start, aet_end))"
   ]
  },
  {
   "cell_type": "markdown",
   "id": "a635f284",
   "metadata": {},
   "source": [
    "#### Post-process daily output to match observation targets of \"monthly\" and \"mean monthly\""
   ]
  },
  {
   "cell_type": "code",
   "execution_count": null,
   "id": "f5428ab6",
   "metadata": {},
   "outputs": [],
   "source": [
    "#Creates a dataframe time series of monthly values (average daily rate for the month)\n",
    "actet_monthly = actet_daily.resample(time = 'm').mean()"
   ]
  },
  {
   "cell_type": "code",
   "execution_count": null,
   "id": "a1439131",
   "metadata": {},
   "outputs": [],
   "source": [
    "#actet_monthly"
   ]
  },
  {
   "cell_type": "code",
   "execution_count": null,
   "id": "e6285b0b",
   "metadata": {},
   "outputs": [],
   "source": [
    "# Creates a dataframe time series of mean monthly (mean of all jan, feb, mar....)\n",
    "actet_mean_monthly = actet_monthly.groupby('time.month').mean()"
   ]
  },
  {
   "cell_type": "code",
   "execution_count": null,
   "id": "895ce2f5",
   "metadata": {},
   "outputs": [],
   "source": [
    "### Used for plotting/checking\n",
    "#df = actet_monthly.to_dataframe()# makes a dataframe for plotting and writing out\n",
    "#df_r = np.ravel(actet_monthly_df, order = 'C')# flattens the 2D array to a 1D array--just playing\n",
    "#df[8465:8473]\n",
    "#df.xs(5625, level=1).plot()"
   ]
  },
  {
   "cell_type": "markdown",
   "id": "7ef6d3e5",
   "metadata": {},
   "source": [
    "#### Now write values to the template file"
   ]
  },
  {
   "cell_type": "code",
   "execution_count": null,
   "id": "b6306157",
   "metadata": {},
   "outputs": [],
   "source": [
    "inds = [f'{i.year}_{i.month}:{j}' for i in actet_monthly.indexes['time'] for j in actet_monthly.indexes['nhm_id']]# set up the indices in sequence\n",
    "varvals = np.ravel(actet_monthly, order = 'C')# flattens the 2D array to a 1D array--just playing \n",
    "\n",
    "with open(rootdir / cm / of_name, encoding=\"utf-8\", mode='w') as ofp:\n",
    "    [ofp.write(f'actet_mon:{i}          {j}\\n') for i,j in zip(inds,varvals)]"
   ]
  },
  {
   "cell_type": "code",
   "execution_count": null,
   "id": "7151d2d6",
   "metadata": {
    "scrolled": false
   },
   "outputs": [],
   "source": [
    "inds = [f'{i}:{j}' for i in actet_mean_monthly.indexes['month'] for j in actet_mean_monthly.indexes['nhm_id']]\n",
    "varvals =  np.ravel(actet_mean_monthly, order = 'C')# flattens the 2D array to a 1D array \n",
    "\n",
    "with open(rootdir / cm / of_name, encoding=\"utf-8\", mode='a') as ofp:\n",
    "    [ofp.write(f'actet_mean_mon:{i}          {j}\\n') for i,j in zip(inds,varvals)]"
   ]
  },
  {
   "cell_type": "markdown",
   "id": "5b1608c8",
   "metadata": {},
   "source": [
    "### Post Process recharge for calibration use\n",
    "#### Get daily output file from NHM for recharge"
   ]
  },
  {
   "cell_type": "code",
   "execution_count": null,
   "id": "9e2d5c07",
   "metadata": {},
   "outputs": [],
   "source": [
    "recharge_daily = (xr.open_dataset(outvardir / 'recharge.nc')['recharge']).sel(time=slice(recharge_start, recharge_end))"
   ]
  },
  {
   "cell_type": "markdown",
   "id": "64d7d686",
   "metadata": {},
   "source": [
    "#### Post-process daily output to match observation target of \"annual recharge\" as an average daily rate for the year"
   ]
  },
  {
   "cell_type": "code",
   "execution_count": null,
   "id": "cc340b8e",
   "metadata": {},
   "outputs": [],
   "source": [
    "recharge_annual = recharge_daily.resample(time = 'Y').mean()\n",
    "recharge_annual_norm = (recharge_annual - recharge_annual.min())/(recharge_annual.max()-recharge_annual.min())"
   ]
  },
  {
   "cell_type": "markdown",
   "id": "d1b47821",
   "metadata": {},
   "source": [
    "#### Write values to template file"
   ]
  },
  {
   "cell_type": "code",
   "execution_count": null,
   "id": "01d31b80",
   "metadata": {},
   "outputs": [],
   "source": [
    "inds = [f'{i.year}:{j}' for i in recharge_annual_norm.indexes['time'] for j in recharge_annual_norm.indexes['nhm_id']]\n",
    "varvals =  np.ravel(recharge_annual_norm, order = 'C')# flattens the 2D array to a 1D array \n",
    "\n",
    "with open(rootdir / cm / of_name, encoding=\"utf-8\",mode='a') as ofp:\n",
    "    [ofp.write(f'recharge_ann:{i}          {j}\\n') for i,j in zip(inds,varvals)]"
   ]
  },
  {
   "cell_type": "markdown",
   "id": "1c78ef6b",
   "metadata": {},
   "source": [
    "### Post Process \"soil_rechr\" to compare to target\n",
    "#### Get daily output file from NHM for soil recharge and normalize 0-1"
   ]
  },
  {
   "cell_type": "code",
   "execution_count": null,
   "id": "53448b27",
   "metadata": {},
   "outputs": [],
   "source": [
    "soil_rechr_daily = (xr.open_dataset(outvardir / 'soil_rechr.nc')['soil_rechr']).sel(time=slice(soil_rechr_start, soil_rechr_end))"
   ]
  },
  {
   "cell_type": "code",
   "execution_count": null,
   "id": "c6079941",
   "metadata": {},
   "outputs": [],
   "source": [
    "#Creates a dataframe time series of monthly values (average daily rate for each month)\n",
    "soil_rechr_monthly = soil_rechr_daily.resample(time = 'm').mean()\n",
    "soil_rechr_monthly_norm = (soil_rechr_monthly - soil_rechr_monthly.min())/(soil_rechr_monthly.max()-soil_rechr_monthly.min())\n",
    "\n",
    "#Creates a dataframe time series of annual values (average daily value for each year)\n",
    "soil_rechr_annual = soil_rechr_daily.resample(time = 'Y').mean()\n",
    "soil_rechr_annual_norm = (soil_rechr_annual - soil_rechr_annual.min())/(soil_rechr_annual.max()-soil_rechr_annual.min())"
   ]
  },
  {
   "cell_type": "code",
   "execution_count": null,
   "id": "df699796",
   "metadata": {},
   "outputs": [],
   "source": [
    "inds = [f'{i.year}_{i.month}:{j}' for i in soil_rechr_monthly_norm.indexes['time'] for j in soil_rechr_monthly_norm.indexes['nhm_id']]\n",
    "varvals = np.ravel(soil_rechr_monthly_norm, order = 'C')# flattens the 2D array to a 1D array\n",
    "\n",
    "with open(rootdir / cm / of_name, encoding=\"utf-8\",mode='a') as ofp:\n",
    "    [ofp.write(f'soil_moist_mon:{i}          {j}\\n') for i,j in zip(inds,varvals)]"
   ]
  },
  {
   "cell_type": "code",
   "execution_count": null,
   "id": "5fe501ba",
   "metadata": {},
   "outputs": [],
   "source": [
    "inds = [f'{i.year}:{j}' for i in soil_rechr_annual_norm.indexes['time'] for j in soil_rechr_annual_norm.indexes['nhm_id']]\n",
    "varvals =  np.ravel(soil_rechr_annual_norm, order = 'C')# flattens the 2D array to a 1D array \n",
    "\n",
    "with open(rootdir / cm / of_name, encoding=\"utf-8\",mode='a') as ofp:\n",
    "    [ofp.write(f'soil_moist_ann:{i}          {j}\\n') for i,j in zip(inds,varvals)]"
   ]
  },
  {
   "cell_type": "markdown",
   "id": "1b7354e2",
   "metadata": {},
   "source": [
    "### Post Process \"hru_outflow\" to compare to target\n",
    "#### Get and check the daily data"
   ]
  },
  {
   "cell_type": "code",
   "execution_count": null,
   "id": "6889d9ce",
   "metadata": {},
   "outputs": [],
   "source": [
    "# These units are in cubic feet (implied per day)\n",
    "gwres_flow_daily = (xr.open_dataset(outvardir / 'gwres_flow_vol.nc')['gwres_flow_vol']).sel(time=slice(runoff_start, runoff_end))\n",
    "sroff_daily = (xr.open_dataset(outvardir / 'sroff_vol.nc')['sroff_vol']).sel(time=slice(runoff_start, runoff_end))\n",
    "ssres_flow_daily = (xr.open_dataset(outvardir / 'ssres_flow_vol.nc')['ssres_flow_vol']).sel(time=slice(runoff_start, runoff_end)) #should be 'hru_outflow, but using a stand-in for now'"
   ]
  },
  {
   "cell_type": "code",
   "execution_count": null,
   "id": "b872aef9",
   "metadata": {},
   "outputs": [],
   "source": [
    "# This returns an average daily rate for each month\n",
    "gwres_flow_monthly = gwres_flow_daily.resample(time = 'm').mean()\n",
    "sroff_monthly = sroff_daily.resample(time = 'm').mean()\n",
    "ssres_flow_monthly = ssres_flow_daily.resample(time = 'm').mean()"
   ]
  },
  {
   "cell_type": "code",
   "execution_count": null,
   "id": "a6fb10a5",
   "metadata": {},
   "outputs": [],
   "source": [
    "#This converts the average dailt rate to a rate in cubic feet per second to compare to observation\n",
    "hru_outflow_rate = (gwres_flow_monthly + sroff_monthly + ssres_flow_monthly)/(24*60*60)"
   ]
  },
  {
   "cell_type": "code",
   "execution_count": null,
   "id": "e7a3d4c5",
   "metadata": {},
   "outputs": [],
   "source": [
    "inds = [f'{i.year}_{i.month}:{j}' for i in hru_outflow_rate.indexes['time'] for j in hru_outflow_rate.indexes['nhm_id']]\n",
    "varvals = np.ravel(hru_outflow_rate, order = 'C')# flattens the 2D array to a 1D array\n",
    "\n",
    "with open(rootdir / cm / of_name, encoding=\"utf-8\",mode='a') as ofp:\n",
    "    [ofp.write(f'runoff_mon:{i}          {j}\\n') for i,j in zip(inds,varvals)]"
   ]
  },
  {
   "cell_type": "markdown",
   "id": "66635ac3",
   "metadata": {},
   "source": [
    "### Post Process \"snowcov_area\" to compare to target\n",
    "#### Get and check the daily data"
   ]
  },
  {
   "cell_type": "code",
   "execution_count": null,
   "id": "efa1101a",
   "metadata": {},
   "outputs": [],
   "source": [
    "snowcov_area_daily = (xr.open_dataset(outvardir / 'snowcov_area.nc')['snowcov_area']).sel(time=slice(sca_start, sca_end))\n",
    "remove_ja = True #This is used the filter for removing July and August from the dataset"
   ]
  },
  {
   "cell_type": "code",
   "execution_count": null,
   "id": "82dcdc17",
   "metadata": {},
   "outputs": [],
   "source": [
    "#Applying filter to remove months, July and August, from the dataset so same size as obs data.\n",
    "if remove_ja:\n",
    "    snowcov_area_daily_restr = snowcov_area_daily.sel(time=snowcov_area_daily.time.dt.month.isin([1, 2, 3, 4, 5, 6, 9, 10, 11, 12]))\n",
    "else:\n",
    "    snowcov_area_daily_restr = snowcov_area_daily\n",
    "snowcov_area_daily.close()     "
   ]
  },
  {
   "cell_type": "code",
   "execution_count": null,
   "id": "b5fd1a37",
   "metadata": {},
   "outputs": [],
   "source": [
    "inds = [f'{i.year}_{i.month}_{i.day}:{j}' for i in snowcov_area_daily_restr.indexes['time'] for j in snowcov_area_daily_restr.indexes['nhm_id']]\n",
    "varvals = np.ravel(snowcov_area_daily_restr, order = 'C')# flattens the 2D array to a 1D array\n",
    "\n",
    "with open(rootdir / cm / of_name, encoding=\"utf-8\", mode='a') as ofp:\n",
    "    [ofp.write(f'sca_daily:{i}          {j}\\n') for i,j in zip(inds,varvals)]"
   ]
  },
  {
   "cell_type": "code",
   "execution_count": null,
   "id": "1b170cde",
   "metadata": {},
   "outputs": [],
   "source": []
  },
  {
   "cell_type": "code",
   "execution_count": null,
   "id": "e6244d15",
   "metadata": {},
   "outputs": [],
   "source": []
  }
 ],
 "metadata": {
  "kernelspec": {
   "display_name": "Python 3 (ipykernel)",
   "language": "python",
   "name": "python3"
  },
  "language_info": {
   "codemirror_mode": {
    "name": "ipython",
    "version": 3
   },
   "file_extension": ".py",
   "mimetype": "text/x-python",
   "name": "python",
   "nbconvert_exporter": "python",
   "pygments_lexer": "ipython3",
   "version": "3.10.10"
  }
 },
 "nbformat": 4,
 "nbformat_minor": 5
}
