{
 "cells": [
  {
   "cell_type": "code",
   "execution_count": null,
   "id": "bd5650dc",
   "metadata": {},
   "outputs": [],
   "source": [
    "import xarray as xr\n",
    "import pathlib as pl\n",
    "import pandas as pd\n",
    "import pywatershed\n",
    "import os\n",
    "import dask\n",
    "import numpy as np\n"
   ]
  },
  {
   "cell_type": "code",
   "execution_count": null,
   "id": "5c8cb0a6",
   "metadata": {},
   "outputs": [],
   "source": [
    "all_models = ['01473000', '05431486','09112500','14015000']\n",
    "var_output_files = ['seg_outflow.nc','hru_actet.nc', 'snowcov_area.nc', 'recharge.nc', 'soil_rechr.nc' ]\n",
    "# These variables will be post-processed to match with observations (targets)"
   ]
  },
  {
   "cell_type": "code",
   "execution_count": null,
   "id": "0a8297d7",
   "metadata": {},
   "outputs": [],
   "source": [
    "os.chdir(\"..\")\n",
    "base_dir = os.path.abspath(os.curdir)\n",
    "print(base_dir)"
   ]
  },
  {
   "cell_type": "code",
   "execution_count": null,
   "id": "ada3f2bc",
   "metadata": {},
   "outputs": [],
   "source": [
    "cdir = f'{base_dir}/NHM_extractions/20230110_pois_haj/'\n",
    "print(cdir)"
   ]
  },
  {
   "cell_type": "code",
   "execution_count": null,
   "id": "cf0a03f4",
   "metadata": {},
   "outputs": [],
   "source": [
    "odir = pl.Path(f'{cdir}/01473000/output/')"
   ]
  },
  {
   "cell_type": "code",
   "execution_count": null,
   "id": "a20e65d0",
   "metadata": {},
   "outputs": [],
   "source": [
    "NHM_output = xr.open_mfdataset(odir.glob('*.nc'))"
   ]
  },
  {
   "cell_type": "code",
   "execution_count": null,
   "id": "c1512dcc",
   "metadata": {
    "scrolled": true
   },
   "outputs": [],
   "source": [
    "########### Useful code\n",
    "#indat\n",
    "#df.index.dtypes\n",
    "#xr.__version__"
   ]
  },
  {
   "cell_type": "markdown",
   "id": "f52cb82f",
   "metadata": {},
   "source": [
    "### Post Process \"hru_actet\" to compare to target\n",
    "#### Get and check the daily data"
   ]
  },
  {
   "cell_type": "code",
   "execution_count": null,
   "id": "67826516",
   "metadata": {},
   "outputs": [],
   "source": [
    "#NHM_output.hru_actet"
   ]
  },
  {
   "cell_type": "markdown",
   "id": "a635f284",
   "metadata": {},
   "source": [
    "#### Post-process daily output to match observation targets"
   ]
  },
  {
   "cell_type": "code",
   "execution_count": null,
   "id": "e6285b0b",
   "metadata": {},
   "outputs": [],
   "source": [
    "#Creates a dataframe time series of monthly mean values\n",
    "actet_monthly = NHM_output.hru_actet.resample(time = 'm').mean() \n",
    "actet_monthly_df = actet_monthly.to_dataframe()# makes a dataframe for plotting and writing out\n",
    "actet_monthly_df_r = np.ravel(actet_monthly_df, order = 'C')# flattens the 2D array to a 1D array--just playing \n",
    "\n",
    "# Creates a dataframe time series of mean of monthly means\n",
    "actet_mean_monthly = actet_monthly.groupby('time.month').mean()\n",
    "\n",
    "# Creates a dataframe time series of min of monthly means\n",
    "actet_mean_monthly_min = actet_monthly.groupby('time.month').min() \n",
    "\n",
    "# Creates a dataframe time series of max of monthly means\n",
    "actet_mean_monthly_max = actet_monthly.groupby('time.month').max() \n"
   ]
  },
  {
   "cell_type": "markdown",
   "id": "ad1809d5",
   "metadata": {},
   "source": [
    "#### Check out results to verify"
   ]
  },
  {
   "cell_type": "code",
   "execution_count": null,
   "id": "ac1a47aa",
   "metadata": {},
   "outputs": [],
   "source": [
    "#actet_monthly_df_r[0:20]\n",
    "#actet_monthly_df\n",
    "#actet_monthly_df.xs(5621, level=1).plot()"
   ]
  },
  {
   "cell_type": "markdown",
   "id": "5b1608c8",
   "metadata": {},
   "source": [
    "### Post Process \"recharge\" to compare to target\n",
    "#### Get and check the daily data"
   ]
  },
  {
   "cell_type": "code",
   "execution_count": null,
   "id": "9e2d5c07",
   "metadata": {},
   "outputs": [],
   "source": [
    "#NHM_output.recharge"
   ]
  },
  {
   "cell_type": "markdown",
   "id": "64d7d686",
   "metadata": {},
   "source": [
    "#### Post-process daily output to match observation targets"
   ]
  },
  {
   "cell_type": "code",
   "execution_count": null,
   "id": "cc340b8e",
   "metadata": {},
   "outputs": [],
   "source": [
    "#Creates a dataframe time series of monthly mean values\n",
    "recharge_annual = NHM_output.recharge.resample(time = 'Y').mean() \n",
    "\n",
    "recharge_annual_df = recharge_annual.to_dataframe()# makes a dataframe for plotting and writing out\n",
    "recharge_annual_df_r = np.ravel(recharge_annual_df, order = 'C')# flattens the 2D array to a 1D array--just playing \n",
    "\n"
   ]
  },
  {
   "cell_type": "code",
   "execution_count": null,
   "id": "01d31b80",
   "metadata": {},
   "outputs": [],
   "source": [
    "recharge_annual"
   ]
  },
  {
   "cell_type": "markdown",
   "id": "59c56140",
   "metadata": {},
   "source": [
    "#### Check out results to verify"
   ]
  },
  {
   "cell_type": "code",
   "execution_count": null,
   "id": "b95f7f4b",
   "metadata": {},
   "outputs": [],
   "source": [
    "#recharge_annual_df_r[0:20]\n",
    "#recharge_annual_df\n",
    "#recharge_annual_df.xs(5621, level=1).plot()"
   ]
  },
  {
   "cell_type": "markdown",
   "id": "1c78ef6b",
   "metadata": {},
   "source": [
    "### Post Process \"soil_rechr\" to compare to target\n",
    "#### Get and check the daily data"
   ]
  },
  {
   "cell_type": "code",
   "execution_count": null,
   "id": "53448b27",
   "metadata": {},
   "outputs": [],
   "source": [
    "NHM_output.soil_rechr"
   ]
  },
  {
   "cell_type": "code",
   "execution_count": null,
   "id": "c6079941",
   "metadata": {},
   "outputs": [],
   "source": [
    "#Creates a dataframe time series of monthly mean values\n",
    "soil_rechr_monthly = NHM_output.soil_rechr.resample(time = 'm').mean() \n",
    "soil_rechr_monthly_df = soil_rechr_monthly.to_dataframe()# makes a dataframe for plotting and writing out\n",
    "soil_rechr_monthly_df_r = np.ravel(soil_rechr_monthly_df, order = 'C')# flattens the 2D array to a 1D array--just playing \n",
    "\n",
    "#Creates a dataframe time series of annual values\n",
    "soil_rechr_annual = NHM_output.soil_rechr.resample(time = 'Y').mean() \n",
    "soil_rechr_annual_df = soil_rechr_annual.to_dataframe()# makes a dataframe for plotting and writing out\n",
    "soil_rechr_annual_df_r = np.ravel(soil_rechr_annual_df, order = 'C')# flattens the 2D array to a 1D array--just playing \n"
   ]
  },
  {
   "cell_type": "markdown",
   "id": "9efdc2a7",
   "metadata": {},
   "source": [
    "#### Check out results to verify"
   ]
  },
  {
   "cell_type": "code",
   "execution_count": null,
   "id": "85513d27",
   "metadata": {},
   "outputs": [],
   "source": [
    "#soil_rechr_monthly_df_r[0:20]\n",
    "#soil_rechr_monthly_df\n",
    "#soil_rechr_monthly_df.xs(5621, level=1).plot()"
   ]
  },
  {
   "cell_type": "markdown",
   "id": "66635ac3",
   "metadata": {},
   "source": [
    "### Post Process \"snowcov_area\" to compare to target\n",
    "#### Get and check the daily data"
   ]
  },
  {
   "cell_type": "code",
   "execution_count": null,
   "id": "efa1101a",
   "metadata": {},
   "outputs": [],
   "source": [
    "NHM_output.snowcov_area"
   ]
  },
  {
   "cell_type": "code",
   "execution_count": null,
   "id": "071a39ed",
   "metadata": {},
   "outputs": [],
   "source": [
    "#Creates a dataframe time series of daily values\n",
    "snowcov_areas_daily = NHM_output.snowcov_area\n",
    "snowcov_areas_daily_df = snowcov_areas_daily.to_dataframe()# makes a dataframe for plotting and writing out\n",
    "snowcov_areas_daily_df_r = np.ravel(snowcov_areas_daily_df, order = 'C')# flattens the 2D array to a 1D array--just playing "
   ]
  },
  {
   "cell_type": "code",
   "execution_count": null,
   "id": "b5fd1a37",
   "metadata": {},
   "outputs": [],
   "source": [
    "snowcov_areas_daily_df_r[0:20]\n",
    "#snowcov_areas_daily_df\n",
    "#snowcov_areas_daily_df.xs(5621, level=1).plot()"
   ]
  },
  {
   "cell_type": "code",
   "execution_count": null,
   "id": "dee29066",
   "metadata": {},
   "outputs": [],
   "source": [
    "snowcov_areas_daily_df"
   ]
  },
  {
   "cell_type": "code",
   "execution_count": null,
   "id": "2cad9ca9",
   "metadata": {},
   "outputs": [],
   "source": [
    "#\n",
    "## example of making index from multi-level dataframe\n",
    "#\n",
    "\n",
    "# MONTHLY\n",
    "varname = 'aet_min'\n",
    "inds = actet_monthly_df.index.map(lambda x: f'{varname}_mon:{x[0].year}_{x[0].month}:{x[1]}')\n",
    "print(inds[0])\n",
    "# MEAN MONTHLY\n",
    "varname = 'aet_min'\n",
    "inds = actet_mean_monthly.to_dataframe().index.map(lambda x: f'{varname}_mean_mon:{x[0]}:{x[1]}')\n",
    "print(inds[0])"
   ]
  },
  {
   "cell_type": "code",
   "execution_count": null,
   "id": "253c5347",
   "metadata": {},
   "outputs": [],
   "source": [
    "# create proper indices and ravel values as needs and write to consolidated file\n",
    "with open(odir / 'all_mod_output.dat', 'w') as ofp:\n",
    "    \n",
    "    # aet min monthly\n",
    "    varname = 'aet_min'\n",
    "    inds = actet_monthly_df.index.map(lambda x: f'{varname}_{x[0].year}_{x[0].month}:{x[1]}')\n",
    "    varvals = actet_monthly_df.to_numpy().ravel()\n",
    "    [ofp.write(f'{i}  {j}\\n') for i,j in zip(inds,varvals)]"
   ]
  },
  {
   "cell_type": "markdown",
   "id": "81849df4",
   "metadata": {},
   "source": [
    "### Post Process \"seg_outflow\" to compare to target\n",
    "#### Get and check the daily data"
   ]
  },
  {
   "cell_type": "code",
   "execution_count": null,
   "id": "200fabbd",
   "metadata": {},
   "outputs": [],
   "source": [
    "NHM_output.hru_streamflow_out"
   ]
  },
  {
   "cell_type": "code",
   "execution_count": null,
   "id": "32e14283",
   "metadata": {},
   "outputs": [],
   "source": []
  },
  {
   "cell_type": "code",
   "execution_count": null,
   "id": "d0d9326f",
   "metadata": {},
   "outputs": [],
   "source": []
  },
  {
   "cell_type": "code",
   "execution_count": null,
   "id": "5f5a6b6c",
   "metadata": {},
   "outputs": [],
   "source": []
  },
  {
   "cell_type": "code",
   "execution_count": null,
   "id": "e229a8af",
   "metadata": {},
   "outputs": [],
   "source": []
  }
 ],
 "metadata": {
  "kernelspec": {
   "display_name": "Python 3 (ipykernel)",
   "language": "python",
   "name": "python3"
  },
  "language_info": {
   "codemirror_mode": {
    "name": "ipython",
    "version": 3
   },
   "file_extension": ".py",
   "mimetype": "text/x-python",
   "name": "python",
   "nbconvert_exporter": "python",
   "pygments_lexer": "ipython3",
   "version": "3.10.10"
  }
 },
 "nbformat": 4,
 "nbformat_minor": 5
}
