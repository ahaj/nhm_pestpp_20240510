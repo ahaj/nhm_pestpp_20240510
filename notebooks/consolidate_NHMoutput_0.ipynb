{
 "cells": [
  {
   "cell_type": "code",
   "execution_count": null,
   "id": "bd5650dc",
   "metadata": {},
   "outputs": [],
   "source": [
    "import xarray as xr\n",
    "import pathlib as pl\n",
    "import pandas as pd\n",
    "import pywatershed\n",
    "import os\n",
    "import dask\n",
    "import numpy"
   ]
  },
  {
   "cell_type": "code",
   "execution_count": null,
   "id": "5c8cb0a6",
   "metadata": {},
   "outputs": [],
   "source": [
    "all_models = ['01473000', '05431486','09112500','14015000']\n",
    "var_output_files = ['seg_outflow.nc','hru_actet.nc', 'snowcov_area.nc', 'recharge.nc', 'soil_rechr.nc' ]\n",
    "# These variables will be post-processed to match with observations (targets)"
   ]
  },
  {
   "cell_type": "code",
   "execution_count": null,
   "id": "0a8297d7",
   "metadata": {},
   "outputs": [],
   "source": [
    "os.chdir(\"..\")\n",
    "base_dir = os.path.abspath(os.curdir)\n",
    "print(base_dir)"
   ]
  },
  {
   "cell_type": "code",
   "execution_count": null,
   "id": "ada3f2bc",
   "metadata": {},
   "outputs": [],
   "source": [
    "cdir = f'{base_dir}/NHM_extractions/20230110_pois_haj/'\n",
    "print(cdir)"
   ]
  },
  {
   "cell_type": "code",
   "execution_count": null,
   "id": "cf0a03f4",
   "metadata": {},
   "outputs": [],
   "source": [
    "odir = pl.Path(f'{cdir}/01473000/output/')"
   ]
  },
  {
   "cell_type": "code",
   "execution_count": null,
   "id": "a20e65d0",
   "metadata": {},
   "outputs": [],
   "source": [
    "indat = xr.open_mfdataset(odir.glob('*.nc'))"
   ]
  },
  {
   "cell_type": "code",
   "execution_count": null,
   "id": "c1512dcc",
   "metadata": {
    "scrolled": true
   },
   "outputs": [],
   "source": [
    "#indat"
   ]
  },
  {
   "cell_type": "code",
   "execution_count": null,
   "id": "171fe1d8",
   "metadata": {},
   "outputs": [],
   "source": [
    "df.xs(5621, level=1).plot()"
   ]
  },
  {
   "cell_type": "code",
   "execution_count": null,
   "id": "ab9dc2f4",
   "metadata": {},
   "outputs": [],
   "source": [
    "segout_2308 = indat.seg_outflow.resample(time='M').sum(dim='time').to_dataframe().xs(2308, level=1)\n",
    "segout_2308"
   ]
  },
  {
   "cell_type": "code",
   "execution_count": null,
   "id": "6f41bbfd",
   "metadata": {},
   "outputs": [],
   "source": [
    "df.index.dtypes"
   ]
  },
  {
   "cell_type": "code",
   "execution_count": null,
   "id": "2e9e17b4",
   "metadata": {},
   "outputs": [],
   "source": [
    "xr.__version__"
   ]
  },
  {
   "cell_type": "markdown",
   "id": "f52cb82f",
   "metadata": {},
   "source": [
    "### Post Process \"hru_actet\" to compare to target\n",
    "#### Get and check the daily data"
   ]
  },
  {
   "cell_type": "code",
   "execution_count": null,
   "id": "67826516",
   "metadata": {},
   "outputs": [],
   "source": [
    "#actet_output = xr.open_mfdataset(odir.glob('hru_actet.nc'))\n",
    "\n",
    "#if the files are in all in one .nc, then use \n",
    "# indat = xr.open_mfdataset(odir.glob('*.nc'))\n",
    "actet_output = indat.hru_actet"
   ]
  },
  {
   "cell_type": "code",
   "execution_count": null,
   "id": "18dbe0e3",
   "metadata": {},
   "outputs": [],
   "source": [
    "actet_output"
   ]
  },
  {
   "cell_type": "markdown",
   "id": "a635f284",
   "metadata": {},
   "source": [
    "#### Post-process daily output to match observation targets"
   ]
  },
  {
   "cell_type": "code",
   "execution_count": null,
   "id": "e6285b0b",
   "metadata": {},
   "outputs": [],
   "source": [
    "#Creates a dataframe time series of monthly mean values\n",
    "actet_monthly = actet_output.resample(time = 'm').mean() \n",
    "actet_monthly_df = actet_monthly.to_dataframe()# makes a dataframe for plotting and writing out\n",
    "actet_monthly_df_r = numpy.ravel(actet_monthly_df, order = 'C')# flattens the 2D array to a 1D array--just playing \n",
    "\n",
    "# Creates a dataframe time series of mean of monthly means\n",
    "actet_mean_monthly = actet_monthly.groupby('time.month').mean()\n",
    "\n",
    "# Creates a dataframe time series of min of monthly means\n",
    "actet_mean_monthly_min = actet_monthly.groupby('time.month').min() \n",
    "\n",
    "# Creates a dataframe time series of max of monthly means\n",
    "actet_mean_monthly_max = actet_monthly.groupby('time.month').max() \n"
   ]
  },
  {
   "cell_type": "code",
   "execution_count": null,
   "id": "ac1a47aa",
   "metadata": {},
   "outputs": [],
   "source": [
    "actet_monthly_df_r[0:20]"
   ]
  },
  {
   "cell_type": "code",
   "execution_count": null,
   "id": "38b21210",
   "metadata": {},
   "outputs": [],
   "source": [
    "actet_monthly_df"
   ]
  },
  {
   "cell_type": "code",
   "execution_count": null,
   "id": "9599f150",
   "metadata": {},
   "outputs": [],
   "source": [
    "actet_monthly_df.xs(5621, level=1).plot()"
   ]
  },
  {
   "cell_type": "code",
   "execution_count": null,
   "id": "61e983ed",
   "metadata": {},
   "outputs": [],
   "source": []
  },
  {
   "cell_type": "code",
   "execution_count": null,
   "id": "9e2d5c07",
   "metadata": {},
   "outputs": [],
   "source": []
  }
 ],
 "metadata": {
  "kernelspec": {
   "display_name": "Python 3 (ipykernel)",
   "language": "python",
   "name": "python3"
  },
  "language_info": {
   "codemirror_mode": {
    "name": "ipython",
    "version": 3
   },
   "file_extension": ".py",
   "mimetype": "text/x-python",
   "name": "python",
   "nbconvert_exporter": "python",
   "pygments_lexer": "ipython3",
   "version": "3.10.10"
  }
 },
 "nbformat": 4,
 "nbformat_minor": 5
}
