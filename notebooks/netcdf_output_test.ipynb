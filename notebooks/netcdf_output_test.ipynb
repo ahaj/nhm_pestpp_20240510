{
 "cells": [
  {
   "cell_type": "code",
   "execution_count": null,
   "id": "bd5650dc",
   "metadata": {},
   "outputs": [],
   "source": [
    "import xarray as xr\n",
    "import pathlib as pl\n",
    "import pandas as pd\n",
    "import pywatershed\n",
    "import os\n",
    "import dask"
   ]
  },
  {
   "cell_type": "code",
   "execution_count": null,
   "id": "5c8cb0a6",
   "metadata": {},
   "outputs": [],
   "source": [
    "all_models = ['01473000', '05431486','09112500','14015000']"
   ]
  },
  {
   "cell_type": "code",
   "execution_count": null,
   "id": "5b452f70",
   "metadata": {},
   "outputs": [],
   "source": [
    "os.chdir(\"..\")\n",
    "base_dir = os.path.abspath(os.curdir)\n",
    "print(base_dir)"
   ]
  },
  {
   "cell_type": "code",
   "execution_count": null,
   "id": "ada3f2bc",
   "metadata": {},
   "outputs": [],
   "source": [
    "cdir = f'{base_dir}/NHM_extractions/20230110_pois_haj/'\n",
    "print(cdir)"
   ]
  },
  {
   "cell_type": "code",
   "execution_count": null,
   "id": "25f7317e",
   "metadata": {},
   "outputs": [],
   "source": [
    "#nhm_id_dict = "
   ]
  },
  {
   "cell_type": "code",
   "execution_count": null,
   "id": "cf0a03f4",
   "metadata": {},
   "outputs": [],
   "source": [
    "modeldir = pl.Path(f'{cdir}/09112500/output')"
   ]
  },
  {
   "cell_type": "code",
   "execution_count": null,
   "id": "f5a1d062-84f3-4e2a-9071-4c2bcc9e6e13",
   "metadata": {},
   "outputs": [],
   "source": [
    "print(modeldir)"
   ]
  },
  {
   "cell_type": "code",
   "execution_count": null,
   "id": "a20e65d0",
   "metadata": {},
   "outputs": [],
   "source": [
    "dat = xr.open_mfdataset(modeldir/'model_custom_output.nc')"
   ]
  },
  {
   "cell_type": "code",
   "execution_count": null,
   "id": "c1512dcc",
   "metadata": {},
   "outputs": [],
   "source": [
    "dat"
   ]
  },
  {
   "cell_type": "code",
   "execution_count": null,
   "id": "24078869",
   "metadata": {
    "scrolled": true
   },
   "outputs": [],
   "source": [
    "df = indat.snowcov_area.to_dataframe()\n",
    "df["
   ]
  },
  {
   "cell_type": "code",
   "execution_count": null,
   "id": "171fe1d8",
   "metadata": {},
   "outputs": [],
   "source": [
    "df.xs(13, level=1).plot()"
   ]
  },
  {
   "cell_type": "code",
   "execution_count": null,
   "id": "ab9dc2f4",
   "metadata": {},
   "outputs": [],
   "source": [
    "segout_0 = indat.seg_outflow.resample(time='M').sum(dim='time').to_dataframe().xs(0, level=1)\n",
    "segout_0"
   ]
  },
  {
   "cell_type": "code",
   "execution_count": null,
   "id": "ec2937ce",
   "metadata": {},
   "outputs": [],
   "source": [
    "#df.xs(2308, level=1)"
   ]
  },
  {
   "cell_type": "code",
   "execution_count": null,
   "id": "e6f97069",
   "metadata": {},
   "outputs": [],
   "source": [
    "#.plot()"
   ]
  },
  {
   "cell_type": "code",
   "execution_count": null,
   "id": "6f41bbfd",
   "metadata": {},
   "outputs": [],
   "source": [
    "df.index.dtypes"
   ]
  },
  {
   "cell_type": "code",
   "execution_count": null,
   "id": "2e9e17b4",
   "metadata": {},
   "outputs": [],
   "source": [
    "xr.__version__"
   ]
  },
  {
   "cell_type": "code",
   "execution_count": null,
   "id": "a4aa0939",
   "metadata": {},
   "outputs": [],
   "source": []
  },
  {
   "cell_type": "code",
   "execution_count": null,
   "id": "42b466e4",
   "metadata": {},
   "outputs": [],
   "source": []
  }
 ],
 "metadata": {
  "kernelspec": {
   "display_name": "Python 3 (ipykernel)",
   "language": "python",
   "name": "python3"
  },
  "language_info": {
   "codemirror_mode": {
    "name": "ipython",
    "version": 3
   },
   "file_extension": ".py",
   "mimetype": "text/x-python",
   "name": "python",
   "nbconvert_exporter": "python",
   "pygments_lexer": "ipython3",
   "version": "3.10.12"
  }
 },
 "nbformat": 4,
 "nbformat_minor": 5
}
