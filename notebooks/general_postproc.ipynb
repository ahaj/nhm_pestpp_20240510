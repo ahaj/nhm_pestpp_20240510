{
 "cells": [
  {
   "cell_type": "code",
   "execution_count": null,
   "id": "d3ada2f3-5f88-4c83-b26b-8f21701858f8",
   "metadata": {},
   "outputs": [],
   "source": [
    "import sys\n",
    "from matplotlib.backends.backend_pdf import PdfPages\n",
    "import matplotlib.pyplot as plt\n",
    "sys.path.insert(0,'../scripts/')\n",
    "from postprocessing import setup_postproc, check_pdc, plot_phi, get_obs_and_noise, get_pars, plot_group, plot_pars_group"
   ]
  },
  {
   "cell_type": "code",
   "execution_count": null,
   "id": "2589ad3d-4add-439d-988f-ffbe90f9f300",
   "metadata": {},
   "outputs": [],
   "source": [
    "# curr_model = '01473000'\n",
    "# curr_model = '05431486'\n",
    "curr_model = '09112500'\n",
    "# curr_run_root = 'ies'\n",
    "curr_run_root = 'prior_mc_reweight'\n",
    "eval_pdc = True\n",
    "unzip_dirs = False\n",
    "\n",
    "pstdir, results_file, tmp_res_path, fig_dir, obs, pst = setup_postproc(curr_model, curr_run_root, unzip_dirs)"
   ]
  },
  {
   "cell_type": "markdown",
   "id": "96960902-1403-4de8-85ef-5e7a9c537b3a",
   "metadata": {},
   "source": [
    "### check out PDC"
   ]
  },
  {
   "cell_type": "code",
   "execution_count": null,
   "id": "4f8e0918-c672-42d8-9ccb-b78a762880ce",
   "metadata": {},
   "outputs": [],
   "source": [
    "pst.nnz_obs_groups"
   ]
  },
  {
   "cell_type": "code",
   "execution_count": null,
   "id": "098273bd-4621-4685-a30f-b9c65349795f",
   "metadata": {},
   "outputs": [],
   "source": [
    "if eval_pdc:\n",
    "    pdc = check_pdc(tmp_res_path, curr_run_root, pst, obs)\n",
    "    print(pdc)"
   ]
  },
  {
   "cell_type": "markdown",
   "id": "dc783fcd-efc2-47ab-9c4e-bb07fcaed64d",
   "metadata": {},
   "source": [
    "### look at PHI history"
   ]
  },
  {
   "cell_type": "code",
   "execution_count": null,
   "id": "42e98a23-0928-43ed-a738-a4d0f7cb6a88",
   "metadata": {},
   "outputs": [],
   "source": [
    "phi = plot_phi(tmp_res_path, curr_run_root, curr_model, fig_dir)"
   ]
  },
  {
   "cell_type": "markdown",
   "id": "d1c00cdd-ba69-40fd-b95a-e6eb8e915d11",
   "metadata": {},
   "source": [
    "### Truncate PHI at a threshold"
   ]
  },
  {
   "cell_type": "code",
   "execution_count": null,
   "id": "67260774-9a5b-4f1a-b071-b991dfcd52d0",
   "metadata": {},
   "outputs": [],
   "source": [
    "phi"
   ]
  },
  {
   "cell_type": "code",
   "execution_count": null,
   "id": "b7064368-5d27-4ee2-963a-0fc2bf2802a5",
   "metadata": {},
   "outputs": [],
   "source": [
    "best_iter = 0"
   ]
  },
  {
   "cell_type": "markdown",
   "id": "a772ffd4-4db7-45c1-a019-a79f18bcdf2c",
   "metadata": {},
   "source": [
    "## now rejection sampling for outlier PHI values"
   ]
  },
  {
   "cell_type": "code",
   "execution_count": null,
   "id": "04cb6c88-af1e-42bc-9d9d-48ea5ef3923c",
   "metadata": {},
   "outputs": [],
   "source": [
    "orgphi = phi.loc[best_iter].iloc[5:].copy()\n",
    "ax = orgphi.hist(bins=50)\n",
    "lims = ax.get_xlim()"
   ]
  },
  {
   "cell_type": "code",
   "execution_count": null,
   "id": "2c45ef75-b7dd-4e13-995f-29134944ae8a",
   "metadata": {},
   "outputs": [],
   "source": [
    "# phi_too_high = 2.2e9\n",
    "# phi_too_high = 0.6e10\n",
    "# phi_too_high = 1.08e9\n",
    "# phi_too_high = 7.5e8\n",
    "phi_too_high = 3.1e9\n",
    "# phi_too_high = 8.675e8"
   ]
  },
  {
   "cell_type": "code",
   "execution_count": null,
   "id": "2c734e41-f130-41ba-a8af-6094a6b88380",
   "metadata": {},
   "outputs": [],
   "source": [
    "phi = orgphi.loc[orgphi<=phi_too_high]\n",
    "fig,ax = plt.subplots(1,2)\n",
    "### --> need to indicate which reals we will carry forward <-- ###\n",
    "orgphi.hist(bins=50, ax=ax[0])\n",
    "reals = phi.index \n",
    "phi.hist(bins=50, ax=ax[1])\n",
    "ax[0].axvline(phi_too_high, color='orange')\n",
    "ax[1].set_xlim(lims)\n",
    "ax[0].set_title(f'Original PHI: {len(orgphi)} reals')\n",
    "ax[1].set_title(f'Truncated PHI: {len(phi)} reals')\n",
    "plt.savefig(fig_dir/ 'phi_histogram.pdf')\n"
   ]
  },
  {
   "cell_type": "markdown",
   "id": "17c2fabc-92dc-4e48-9148-ddd136425c55",
   "metadata": {},
   "source": [
    "# How about parameters?"
   ]
  },
  {
   "cell_type": "code",
   "execution_count": null,
   "id": "ddf1c767-52b9-4c55-a624-b6826bc4af8f",
   "metadata": {},
   "outputs": [],
   "source": [
    "parens = get_pars(tmp_res_path, curr_run_root, reals, best_iter, pst)\n"
   ]
  },
  {
   "cell_type": "code",
   "execution_count": null,
   "id": "fcf22c51-60fa-45c8-bf10-d05d5ce75aa8",
   "metadata": {},
   "outputs": [],
   "source": [
    "pargps = parens['pargroup'].unique()\n",
    "pargps\n"
   ]
  },
  {
   "cell_type": "code",
   "execution_count": null,
   "id": "f6d99749-2885-4e73-91ce-67ca81a3fe47",
   "metadata": {},
   "outputs": [],
   "source": [
    "for cg in pargps:\n",
    "    plot_pars_group(parens, cg, fig_dir, curr_model, best_iter, curr_run_root)"
   ]
  },
  {
   "cell_type": "markdown",
   "id": "f06e4cba-0b9b-4e6b-93fd-60e1e780e38f",
   "metadata": {},
   "source": [
    "### TODO: need to handle the cases without monthly data"
   ]
  },
  {
   "cell_type": "code",
   "execution_count": null,
   "id": "9debb16e-f5d3-4a4d-8b31-70de701d9ef0",
   "metadata": {},
   "outputs": [],
   "source": []
  },
  {
   "cell_type": "code",
   "execution_count": null,
   "id": "7e9c32f4-bd64-41ed-a98e-338a1683a61c",
   "metadata": {},
   "outputs": [],
   "source": []
  },
  {
   "cell_type": "code",
   "execution_count": null,
   "id": "759b8e0f-525d-470b-9c0c-467afeb41e0b",
   "metadata": {},
   "outputs": [],
   "source": []
  },
  {
   "cell_type": "markdown",
   "id": "85d41847-d0c1-405a-903f-4086a0960400",
   "metadata": {},
   "source": [
    "# Now let's start looking at the fits"
   ]
  },
  {
   "cell_type": "code",
   "execution_count": null,
   "id": "730f2cd9-8f16-4244-83ae-f24408597f69",
   "metadata": {},
   "outputs": [],
   "source": [
    "modens, obens_noise = get_obs_and_noise(tmp_res_path, curr_run_root, reals, best_iter)"
   ]
  },
  {
   "cell_type": "code",
   "execution_count": null,
   "id": "086a567f-e600-48db-80e7-b691fdc34dc6",
   "metadata": {},
   "outputs": [],
   "source": [
    "modens"
   ]
  },
  {
   "cell_type": "code",
   "execution_count": null,
   "id": "be0e12c1-731f-4ca8-8795-90a5ba00206c",
   "metadata": {},
   "outputs": [],
   "source": [
    "obens_noise"
   ]
  },
  {
   "cell_type": "code",
   "execution_count": null,
   "id": "b9d83a13-631d-4820-845c-82d0164ed0fe",
   "metadata": {},
   "outputs": [],
   "source": [
    "pst.obs_groups"
   ]
  },
  {
   "cell_type": "code",
   "execution_count": null,
   "id": "fef3808b-442f-4660-9600-b19c7f166377",
   "metadata": {
    "scrolled": true
   },
   "outputs": [],
   "source": [
    "# plot_group('sca_daily', obs, modens, obens_noise, fig_dir, curr_model)"
   ]
  },
  {
   "cell_type": "code",
   "execution_count": null,
   "id": "5552a6e6-26e4-47d3-833b-a4c394e30dc9",
   "metadata": {},
   "outputs": [],
   "source": [
    "plot_group('actet_mean_mon', obs, modens, obens_noise, fig_dir, curr_model, best_iter, curr_run_root)\n",
    "plot_group('actet_mon', obs, modens, obens_noise, fig_dir, curr_model, best_iter, curr_run_root)\n",
    "plot_group('runoff_mon', obs, modens, obens_noise, fig_dir, curr_model, best_iter, curr_run_root)\n",
    "plot_group('soil_moist_mon', obs, modens, obens_noise, fig_dir, curr_model, best_iter, curr_run_root)\n",
    "plot_group('recharge_ann', obs, modens, obens_noise, fig_dir, curr_model, best_iter, curr_run_root)\n",
    "\n",
    "# streamflow_daily is a special case - all aggregated\n",
    "plot_group('streamflow_daily', obs, modens, obens_noise, fig_dir, curr_model, best_iter, curr_run_root)\n",
    "plot_group('streamflow_mean_mon', obs, modens, obens_noise, fig_dir, curr_model, best_iter, curr_run_root)\n",
    "plot_group('streamflow_mon', obs, modens, obens_noise, fig_dir, curr_model, best_iter, curr_run_root)\n"
   ]
  },
  {
   "cell_type": "code",
   "execution_count": null,
   "id": "e35f6650-2d83-4175-b5e3-a3dde6688ce3",
   "metadata": {},
   "outputs": [],
   "source": []
  },
  {
   "cell_type": "code",
   "execution_count": null,
   "id": "e59f8de5-27b4-4760-822b-2aab9b891c28",
   "metadata": {},
   "outputs": [],
   "source": []
  }
 ],
 "metadata": {
  "kernelspec": {
   "display_name": "Python 3 (ipykernel)",
   "language": "python",
   "name": "python3"
  },
  "language_info": {
   "codemirror_mode": {
    "name": "ipython",
    "version": 3
   },
   "file_extension": ".py",
   "mimetype": "text/x-python",
   "name": "python",
   "nbconvert_exporter": "python",
   "pygments_lexer": "ipython3",
   "version": "3.10.12"
  }
 },
 "nbformat": 4,
 "nbformat_minor": 5
}
