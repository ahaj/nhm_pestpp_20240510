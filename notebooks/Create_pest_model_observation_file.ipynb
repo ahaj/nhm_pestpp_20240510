{
 "cells": [
  {
   "cell_type": "code",
   "execution_count": null,
   "id": "bd5650dc",
   "metadata": {},
   "outputs": [],
   "source": [
    "import xarray as xr\n",
    "import pathlib as pl\n",
    "import pandas as pd\n",
    "import pywatershed\n",
    "import os\n",
    "import dask\n",
    "import numpy as np"
   ]
  },
  {
   "cell_type": "code",
   "execution_count": null,
   "id": "5c8cb0a6",
   "metadata": {},
   "outputs": [],
   "source": [
    "all_models = ['01473000','05431486','09112500','14015000']# Create a list of all cutouts"
   ]
  },
  {
   "cell_type": "code",
   "execution_count": null,
   "id": "c06e90ae",
   "metadata": {},
   "outputs": [],
   "source": [
    "rootdir = pl.Path('../NHM_extractions/20230110_pois_haj/')# Path to location of cutouts"
   ]
  },
  {
   "cell_type": "code",
   "execution_count": null,
   "id": "88c66980",
   "metadata": {},
   "outputs": [],
   "source": [
    "#var_output_files = ['hru_actet.nc', 'recharge.nc', 'soil_rechr.nc', 'snowcov_area.nc', 'seg_outflow.nc',]#output files of interest"
   ]
  },
  {
   "cell_type": "markdown",
   "id": "45a7c367",
   "metadata": {},
   "source": [
    "### Working currently from a single cutout directory"
   ]
  },
  {
   "cell_type": "code",
   "execution_count": null,
   "id": "5196f055",
   "metadata": {},
   "outputs": [],
   "source": [
    "cm = all_models[2] # sets cutout from list\n",
    "outvardir = rootdir/ cm / 'output'# stes path to location of NHM output folder where output files are."
   ]
  },
  {
   "cell_type": "code",
   "execution_count": null,
   "id": "916379cc",
   "metadata": {},
   "outputs": [],
   "source": [
    "# set the file name for the postprocessed model output file that PEST will read\n",
    "of_name = 'modelobs.dat'# name of file"
   ]
  },
  {
   "cell_type": "code",
   "execution_count": null,
   "id": "c1512dcc",
   "metadata": {
    "scrolled": true
   },
   "outputs": [],
   "source": [
    "########### Useful code\n",
    "#indat\n",
    "#df.index.dtypes\n",
    "#xr.__version__"
   ]
  },
  {
   "cell_type": "code",
   "execution_count": null,
   "id": "7ca1573d-866d-4104-be08-35f6f061361c",
   "metadata": {},
   "outputs": [],
   "source": [
    "#all_nc_file = sorted([i for i in (rootdir/ cm / 'output').glob('model_custom_output.nc')])#Read in the files to check"
   ]
  },
  {
   "cell_type": "code",
   "execution_count": null,
   "id": "851da6c5-6408-447d-9b6f-5d2f9351f096",
   "metadata": {},
   "outputs": [],
   "source": [
    "# make a file to hold the consolidated results\n",
    "ofp = open(rootdir / cm / 'modelobs.dat', 'w') # the 'w' will delete any existing file here and recreate; 'a' appends"
   ]
  },
  {
   "cell_type": "markdown",
   "id": "04e74e05-b3c2-4d85-9139-62edbc24cdd1",
   "metadata": {},
   "source": [
    "### Reading in the model_custom_output.nc\n",
    "#### This file was produced by the old version of the run script that Mike has since updated. The updated script does much more"
   ]
  },
  {
   "cell_type": "code",
   "execution_count": null,
   "id": "9cbb263b-2207-4abf-910a-16cda0057a30",
   "metadata": {},
   "outputs": [],
   "source": [
    "cbh = xr.open_dataset(rootdir / cm /'cbh.nc')# Read in combined input data from mode extraction\n",
    "cbh = cbh.rename({'hruid': 'hru_id'})# rename ot make comapitble with pyWatershed.\n",
    "#need to split input into separate files for pyWatershed.\n",
    "cbh[['tmax']].to_netcdf(rootdir / cm /'tmax.nc')\n",
    "cbh[['tmin']].to_netcdf(rootdir / cm /'tmin.nc')\n",
    "cbh[['prcp']].to_netcdf(rootdir / cm /'prcp.nc')\n",
    "cbh.close()"
   ]
  },
  {
   "cell_type": "markdown",
   "id": "8e1322b6-c71a-4b0b-9ee6-284749ab7eca",
   "metadata": {},
   "source": [
    "## Need to make the params.json file before preceeding"
   ]
  },
  {
   "cell_type": "code",
   "execution_count": null,
   "id": "11003d30-9ac0-4d2f-b5f6-84584639e6c5",
   "metadata": {},
   "outputs": [],
   "source": [
    "# Run model using pyWatershed to get an output file....For now, navigate in a promt to the folder and run the \"run_pynhm\" file"
   ]
  },
  {
   "cell_type": "code",
   "execution_count": null,
   "id": "0c07e9ce-7454-40c9-bd9a-873dbbaf58d7",
   "metadata": {},
   "outputs": [],
   "source": [
    "#cwd = os.getcwd()\n",
    "#print(cwd)\n",
    "#%run ../NHM_extractions/20230110_pois_haj/05431486/run-pynhm.py Ask mike how to do this the right way."
   ]
  },
  {
   "cell_type": "code",
   "execution_count": null,
   "id": "3572ea80-2578-487f-8d32-53c7806d0e74",
   "metadata": {},
   "outputs": [],
   "source": [
    "modelobsdat  = xr.open_dataset(outvardir / 'model_custom_output.nc')"
   ]
  },
  {
   "cell_type": "code",
   "execution_count": null,
   "id": "856f8775-4baf-4d40-bf7c-8f92ec60cf5a",
   "metadata": {},
   "outputs": [],
   "source": [
    "#modelobsdat"
   ]
  },
  {
   "cell_type": "markdown",
   "id": "a8aaf26d",
   "metadata": {},
   "source": [
    "### Slice output to calibration periods for each variable\n",
    "#### These are as follows from table 2 (Hay and others, 2023):\n"
   ]
  },
  {
   "cell_type": "code",
   "execution_count": null,
   "id": "79af12e3",
   "metadata": {},
   "outputs": [],
   "source": [
    "aet_start = '2000-01-01'\n",
    "aet_end = '2010-12-31'\n",
    "recharge_start = '2000-01-01'\n",
    "recharge_end = '2009-12-31'\n",
    "runoff_start = '1982-01-01'\n",
    "runoff_end = '2010-12-31'\n",
    "soil_rechr_start = '1982-01-01'\n",
    "soil_rechr_end = '2010-12-31'\n",
    "sca_start = '2000-01-01'\n",
    "sca_end = '2010-12-31'\n",
    "seg_outflow_start = '2000-01-01'\n",
    "seg_outflow_end = '2010-12-31'"
   ]
  },
  {
   "cell_type": "markdown",
   "id": "f52cb82f",
   "metadata": {},
   "source": [
    "### Actual ET\n",
    "#### Get and check the daily data"
   ]
  },
  {
   "cell_type": "code",
   "execution_count": null,
   "id": "67826516",
   "metadata": {},
   "outputs": [],
   "source": [
    "#actet_daily = (xr.open_dataset(outvardir / 'hru_actet.nc')['hru_actet']).sel(time=slice(aet_start, aet_end))\n",
    "actet_daily = modelobsdat.hru_actet.sel(time=slice(aet_start, aet_end))"
   ]
  },
  {
   "cell_type": "code",
   "execution_count": null,
   "id": "6155f956-1fad-49c0-9003-03463350309c",
   "metadata": {},
   "outputs": [],
   "source": [
    "#actet_daily"
   ]
  },
  {
   "cell_type": "markdown",
   "id": "a635f284",
   "metadata": {},
   "source": [
    "#### Post-process daily output to match observation targets of \"monthly\" and \"mean monthly\""
   ]
  },
  {
   "cell_type": "code",
   "execution_count": null,
   "id": "f5428ab6",
   "metadata": {},
   "outputs": [],
   "source": [
    "#Creates a dataframe time series of monthly values (average daily rate for the month)\n",
    "actet_monthly = actet_daily.resample(time = 'm').mean()"
   ]
  },
  {
   "cell_type": "code",
   "execution_count": null,
   "id": "a1439131",
   "metadata": {},
   "outputs": [],
   "source": [
    "#actet_monthly"
   ]
  },
  {
   "cell_type": "code",
   "execution_count": null,
   "id": "e6285b0b",
   "metadata": {},
   "outputs": [],
   "source": [
    "# Creates a dataframe time series of mean monthly (mean of all jan, feb, mar....)\n",
    "actet_mean_monthly = actet_monthly.groupby('time.month').mean()"
   ]
  },
  {
   "cell_type": "code",
   "execution_count": null,
   "id": "bf7587d0-024f-47ba-8265-27763cd596b8",
   "metadata": {},
   "outputs": [],
   "source": [
    "#actet_mean_monthly"
   ]
  },
  {
   "cell_type": "code",
   "execution_count": null,
   "id": "895ce2f5",
   "metadata": {},
   "outputs": [],
   "source": [
    "### Used for plotting/checking\n",
    "#df = actet_monthly.to_dataframe()# makes a dataframe for plotting and writing out\n",
    "#df_r = np.ravel(actet_monthly_df, order = 'C')# flattens the 2D array to a 1D array--just playing\n",
    "#df[8465:8473]\n",
    "#df.xs(5625, level=1).plot()"
   ]
  },
  {
   "cell_type": "markdown",
   "id": "7ef6d3e5",
   "metadata": {},
   "source": [
    "#### Now write values to the template file"
   ]
  },
  {
   "cell_type": "code",
   "execution_count": null,
   "id": "b6306157",
   "metadata": {},
   "outputs": [],
   "source": [
    "inds = [f'{i.year}_{i.month}:{j}' for i in actet_monthly.indexes['time'] for j in actet_monthly['nhm_id'].values]# set up the indices in sequence\n",
    "varvals = np.ravel(actet_monthly, order = 'C')# flattens the 2D array to a 1D array--just playing \n",
    "\n",
    "with open(rootdir / cm / of_name, encoding=\"utf-8\", mode='w') as ofp:\n",
    "    ofp.write('obsname    obsval\\n') # writing a header for the file\n",
    "    [ofp.write(f'actet_mon:{i}          {j}\\n') for i,j in zip(inds,varvals)]"
   ]
  },
  {
   "cell_type": "code",
   "execution_count": null,
   "id": "1988ac8f-04b5-422b-8733-01d608636e07",
   "metadata": {},
   "outputs": [],
   "source": [
    "actet_monthly.sel(time='2000-01-31').values # look at a slice of the netcdf and compare to pest write"
   ]
  },
  {
   "cell_type": "code",
   "execution_count": null,
   "id": "2c82cdd1",
   "metadata": {},
   "outputs": [],
   "source": [
    "#[(i,j) for i,j in zip(inds,varvals)] # playing around and learning adv lists making"
   ]
  },
  {
   "cell_type": "code",
   "execution_count": null,
   "id": "7151d2d6",
   "metadata": {},
   "outputs": [],
   "source": [
    "inds = [f'{i}:{j}' for i in actet_mean_monthly.indexes['month'] for j in actet_mean_monthly['nhm_id'].values]\n",
    "varvals =  np.ravel(actet_mean_monthly, order = 'C')# flattens the 2D array to a 1D array \n",
    "\n",
    "with open(rootdir / cm / of_name, encoding=\"utf-8\", mode='a') as ofp:\n",
    "    [ofp.write(f'actet_mean_mon:{i}          {j}\\n') for i,j in zip(inds,varvals)]"
   ]
  },
  {
   "cell_type": "code",
   "execution_count": null,
   "id": "e46cbdc4-f7fa-49fd-afac-5797b8ac6ba9",
   "metadata": {},
   "outputs": [],
   "source": [
    "#actet_mean_monthly"
   ]
  },
  {
   "cell_type": "code",
   "execution_count": null,
   "id": "117465c1-380f-4c8f-950c-afdc34e526a9",
   "metadata": {},
   "outputs": [],
   "source": [
    "#actet_mean_monthly.sel(month=1).values # look at a slice of the netcdf and compare to pest write file"
   ]
  },
  {
   "cell_type": "code",
   "execution_count": null,
   "id": "ebff3df3-ec76-41d5-b67e-7a95578ed2da",
   "metadata": {},
   "outputs": [],
   "source": []
  },
  {
   "cell_type": "markdown",
   "id": "5b1608c8",
   "metadata": {},
   "source": [
    "### Post Process recharge for calibration use\n",
    "#### Get daily output file from NHM for recharge"
   ]
  },
  {
   "cell_type": "code",
   "execution_count": null,
   "id": "9e2d5c07",
   "metadata": {},
   "outputs": [],
   "source": [
    "#recharge_daily = (xr.open_dataset(outvardir / 'recharge.nc')['recharge']).sel(time=slice(recharge_start, recharge_end))\n",
    "recharge_daily = modelobsdat.recharge.sel(time=slice(recharge_start, recharge_end))"
   ]
  },
  {
   "cell_type": "markdown",
   "id": "64d7d686",
   "metadata": {},
   "source": [
    "#### Post-process daily output to match observation target of \"annual recharge\" as an average daily rate for the year"
   ]
  },
  {
   "cell_type": "code",
   "execution_count": null,
   "id": "cc340b8e",
   "metadata": {},
   "outputs": [],
   "source": [
    "recharge_annual = recharge_daily.resample(time = 'Y').mean()\n",
    "recharge_annual_norm = (recharge_annual - recharge_annual.min())/(recharge_annual.max()-recharge_annual.min())"
   ]
  },
  {
   "cell_type": "markdown",
   "id": "d1b47821",
   "metadata": {},
   "source": [
    "#### Write values to template file"
   ]
  },
  {
   "cell_type": "code",
   "execution_count": null,
   "id": "01d31b80",
   "metadata": {},
   "outputs": [],
   "source": [
    "inds = [f'{i.year}:{j}' for i in recharge_annual_norm.indexes['time'] for j in recharge_annual_norm['nhm_id'].values]\n",
    "varvals =  np.ravel(recharge_annual_norm, order = 'C')# flattens the 2D array to a 1D array \n",
    "\n",
    "with open(rootdir / cm / of_name, encoding=\"utf-8\",mode='a') as ofp:\n",
    "    [ofp.write(f'recharge_ann:{i}          {j}\\n') for i,j in zip(inds,varvals)]"
   ]
  },
  {
   "cell_type": "code",
   "execution_count": null,
   "id": "00af32b0-69f2-4693-ad85-e62b91a6d35b",
   "metadata": {},
   "outputs": [],
   "source": [
    "recharge_annual_norm"
   ]
  },
  {
   "cell_type": "code",
   "execution_count": null,
   "id": "5d0ab7bf-1ce3-4d18-9b21-893c13faf638",
   "metadata": {},
   "outputs": [],
   "source": [
    "#recharge_annual_norm.sel().values # look at a slice of the netcdf and compare to pest write file"
   ]
  },
  {
   "cell_type": "markdown",
   "id": "1c78ef6b",
   "metadata": {},
   "source": [
    "### Post Process \"soil_rechr\" to compare to target\n",
    "#### Get daily output file from NHM for soil recharge and normalize 0-1"
   ]
  },
  {
   "cell_type": "code",
   "execution_count": null,
   "id": "53448b27",
   "metadata": {},
   "outputs": [],
   "source": [
    "#soil_rechr_daily = (xr.open_dataset(outvardir / 'soil_rechr.nc')['soil_rechr']).sel(time=slice(soil_rechr_start, soil_rechr_end))\n",
    "soil_rechr_daily = modelobsdat.soil_rechr.sel(time=slice(soil_rechr_start, soil_rechr_end))"
   ]
  },
  {
   "cell_type": "code",
   "execution_count": null,
   "id": "c6079941",
   "metadata": {},
   "outputs": [],
   "source": [
    "#Creates a dataframe time series of monthly values (average daily rate for each month)\n",
    "soil_rechr_monthly = soil_rechr_daily.resample(time = 'm').mean()\n",
    "soil_rechr_monthly_norm = (soil_rechr_monthly - soil_rechr_monthly.min())/(soil_rechr_monthly.max()-soil_rechr_monthly.min())\n",
    "\n",
    "#Creates a dataframe time series of annual values (average daily value for each year)\n",
    "soil_rechr_annual = soil_rechr_daily.resample(time = 'Y').mean()\n",
    "soil_rechr_annual_norm = (soil_rechr_annual - soil_rechr_annual.min())/(soil_rechr_annual.max()-soil_rechr_annual.min())"
   ]
  },
  {
   "cell_type": "code",
   "execution_count": null,
   "id": "df699796",
   "metadata": {},
   "outputs": [],
   "source": [
    "inds = [f'{i.year}_{i.month}:{j}' for i in soil_rechr_monthly_norm.indexes['time'] for j in soil_rechr_monthly_norm['nhm_id'].values]\n",
    "varvals = np.ravel(soil_rechr_monthly_norm, order = 'C')# flattens the 2D array to a 1D array\n",
    "\n",
    "with open(rootdir / cm / of_name, encoding=\"utf-8\",mode='a') as ofp:\n",
    "    [ofp.write(f'soil_moist_mon:{i}          {j}\\n') for i,j in zip(inds,varvals)]"
   ]
  },
  {
   "cell_type": "code",
   "execution_count": null,
   "id": "5fe501ba",
   "metadata": {},
   "outputs": [],
   "source": [
    "inds = [f'{i.year}:{j}' for i in soil_rechr_annual_norm.indexes['time'] for j in soil_rechr_annual_norm['nhm_id'].values]\n",
    "varvals =  np.ravel(soil_rechr_annual_norm, order = 'C')# flattens the 2D array to a 1D array \n",
    "\n",
    "with open(rootdir / cm / of_name, encoding=\"utf-8\",mode='a') as ofp:\n",
    "    [ofp.write(f'soil_moist_ann:{i}          {j}\\n') for i,j in zip(inds,varvals)]"
   ]
  },
  {
   "cell_type": "code",
   "execution_count": null,
   "id": "c08f61f0-f2cb-4930-b3df-d0d147715831",
   "metadata": {},
   "outputs": [],
   "source": [
    "soil_rechr_annual_norm"
   ]
  },
  {
   "cell_type": "code",
   "execution_count": null,
   "id": "6772db43-b61b-49f6-b270-743c777909d4",
   "metadata": {},
   "outputs": [],
   "source": [
    "#soil_rechr_monthly_norm.sel(time='1982-01-31').values # look at a slice of the netcdf and compare to pest write file\n",
    "#soil_rechr_annual_norm.sel(time='1982-12-31').values # look at a slice of the netcdf and compare to pest write file"
   ]
  },
  {
   "cell_type": "code",
   "execution_count": null,
   "id": "bb3234ed-f58c-403f-b02d-839974fe7d29",
   "metadata": {},
   "outputs": [],
   "source": [
    "#actet_mean_monthly.sel(month=1).values # look at a slice of the netcdf and compare to pest write file"
   ]
  },
  {
   "cell_type": "markdown",
   "id": "1b7354e2",
   "metadata": {},
   "source": [
    "### Post Process \"hru_outflow\" to compare to target\n",
    "#### Get and check the daily data"
   ]
  },
  {
   "cell_type": "code",
   "execution_count": null,
   "id": "6889d9ce",
   "metadata": {},
   "outputs": [],
   "source": [
    "# These units are in cubic feet (implied per day)\n",
    "hru_streamflow_out_daily = modelobsdat.hru_streamflow_out.sel(time=slice(runoff_start, runoff_end))"
   ]
  },
  {
   "cell_type": "code",
   "execution_count": null,
   "id": "b872aef9",
   "metadata": {},
   "outputs": [],
   "source": [
    "hru_streamflow_out_monthly = hru_streamflow_out_daily.resample(time = 'm').mean()"
   ]
  },
  {
   "cell_type": "code",
   "execution_count": null,
   "id": "a6fb10a5",
   "metadata": {},
   "outputs": [],
   "source": [
    "#This converts the average daily rate to a rate in cubic feet per second to compare to observation\n",
    "hru_streamflow_out_rate = (hru_streamflow_out_monthly)/(24*60*60)"
   ]
  },
  {
   "cell_type": "code",
   "execution_count": null,
   "id": "e7a3d4c5",
   "metadata": {},
   "outputs": [],
   "source": [
    "inds = [f'{i.year}_{i.month}:{j}' for i in hru_streamflow_out_rate.indexes['time'] for j in hru_streamflow_out_rate['nhm_id'].values]\n",
    "varvals = np.ravel(hru_streamflow_out_rate, order = 'C')# flattens the 2D array to a 1D array\n",
    "\n",
    "with open(rootdir / cm / of_name, encoding=\"utf-8\",mode='a') as ofp:\n",
    "    [ofp.write(f'runoff_mon:{i}          {j}\\n') for i,j in zip(inds,varvals)]"
   ]
  },
  {
   "cell_type": "code",
   "execution_count": null,
   "id": "9ac71800-4db3-4635-ba72-58530d32d8cb",
   "metadata": {},
   "outputs": [],
   "source": [
    "#hru_streamflow_out_rate"
   ]
  },
  {
   "cell_type": "code",
   "execution_count": null,
   "id": "93f38f1e-cba4-419c-9cad-51a68aa39176",
   "metadata": {},
   "outputs": [],
   "source": [
    "#hru_streamflow_out_rate.sel(time='1982-01-31T00:00:00.000000000').values # look at a slice of the netcdf and compare to pest write file"
   ]
  },
  {
   "cell_type": "markdown",
   "id": "66635ac3",
   "metadata": {},
   "source": [
    "### Post Process \"snowcov_area\" to compare to target\n",
    "#### Get and check the daily data"
   ]
  },
  {
   "cell_type": "code",
   "execution_count": null,
   "id": "efa1101a",
   "metadata": {},
   "outputs": [],
   "source": [
    "#snowcov_area_daily = (xr.open_dataset(outvardir / 'snowcov_area.nc')['snowcov_area']).sel(time=slice(sca_start, sca_end))\n",
    "snowcov_area_daily = modelobsdat.snowcov_area.sel(time=slice(sca_start, sca_end))\n",
    "remove_ja = True #This is used the filter for removing July and August from the dataset"
   ]
  },
  {
   "cell_type": "code",
   "execution_count": null,
   "id": "82dcdc17",
   "metadata": {},
   "outputs": [],
   "source": [
    "#Applying filter to remove months, July and August, from the dataset so same size as obs data.\n",
    "if remove_ja:\n",
    "    snowcov_area_daily_restr = snowcov_area_daily.sel(time=snowcov_area_daily.time.dt.month.isin([1, 2, 3, 4, 5, 6, 9, 10, 11, 12]))\n",
    "else:\n",
    "    snowcov_area_daily_restr = snowcov_area_daily\n",
    "snowcov_area_daily.close()     "
   ]
  },
  {
   "cell_type": "code",
   "execution_count": null,
   "id": "b5fd1a37",
   "metadata": {},
   "outputs": [],
   "source": [
    "inds = [f'{i.year}_{i.month}_{i.day}:{j}' for i in snowcov_area_daily_restr.indexes['time'] for j in snowcov_area_daily_restr['nhm_id'].values]\n",
    "varvals = np.ravel(snowcov_area_daily_restr, order = 'C')# flattens the 2D array to a 1D array\n",
    "\n",
    "with open(rootdir / cm / of_name, encoding=\"utf-8\", mode='a') as ofp:\n",
    "    [ofp.write(f'sca_daily:{i}          {j}\\n') for i,j in zip(inds,varvals)]"
   ]
  },
  {
   "cell_type": "markdown",
   "id": "b4a1775d",
   "metadata": {},
   "source": [
    "### Get the daily streamflow values from segments associated with the gage pois"
   ]
  },
  {
   "cell_type": "code",
   "execution_count": null,
   "id": "9ebd33c6",
   "metadata": {},
   "outputs": [],
   "source": [
    "# Get seg_outflow data\n",
    "#seg_outflow_daily = (xr.open_dataset(outvardir / 'seg_outflow.nc')['seg_outflow']).sel(time=slice(seg_outflow_start, seg_outflow_end),nhm_seg= poi_gage_nhm_seg)\n",
    "seg_outflow_daily = modelobsdat.seg_outflow.sel(time=slice(seg_outflow_start, seg_outflow_end))"
   ]
  },
  {
   "cell_type": "code",
   "execution_count": null,
   "id": "04cc0a11",
   "metadata": {},
   "outputs": [],
   "source": [
    "seg_outflow_daily"
   ]
  },
  {
   "cell_type": "code",
   "execution_count": null,
   "id": "103ee659-a44a-4062-8fe4-d5d46b09eb1b",
   "metadata": {},
   "outputs": [],
   "source": [
    "###### Warning: You must run the EFC notebook prior to this block to create the new sf file with EFC codes \"EFC_netcdf\"\n",
    "######          First read in the streamflow obs to get the EFC codes; these are needed to write the same obsname as in the obs file.\n",
    "# streamflow_daily is followed by a suffix: \"efc\"_\"high_low\" integers\n",
    "# efc [1, 2, 3, 4, 5] are ['Large flood', 'Small flood', 'High flow pulse', 'Low flow', 'Extreme low flow']\n",
    "# high_low [1, 2, 3] are ['Low flow', 'Ascending limb', 'Descending limb']\n",
    "\n",
    "\n",
    "seg_outflow_start = '2000-01-01'\n",
    "seg_outflow_end = '2010-12-31'\n",
    "\n",
    "cdat_efc  = xr.open_dataset(rootdir/ cm / 'sf_data_with_EFC.nc').sel(time=slice(seg_outflow_start, seg_outflow_end))\n",
    "cdat_efc = cdat_efc.fillna(-9999)\n",
    "cdat_efc = cdat_efc[['efc', 'high_low']]"
   ]
  },
  {
   "cell_type": "code",
   "execution_count": null,
   "id": "23b982cd-361a-4d55-8761-07e8c2a501fa",
   "metadata": {},
   "outputs": [],
   "source": [
    "cdat_efc\n"
   ]
  },
  {
   "cell_type": "code",
   "execution_count": null,
   "id": "b38e6a81",
   "metadata": {},
   "outputs": [],
   "source": [
    "inds = [f'_{int(cdat_efc[\"efc\"].sel(poi_id=j, time=i).item())}_{int(cdat_efc[\"high_low\"].sel(poi_id=j, time=i).item())}:{i.year}_{i.month}_{i.day}:{j}' for j in seg_outflow_daily['poi_gages'].values for i in seg_outflow_daily.indexes['time']]\n",
    "\n",
    "#inds = [f'{i.year}_{i.month}_{i.day}:{j}' for j in seg_outflow_daily['poi_gages'].values for i in seg_outflow_daily.indexes['time']]\n",
    "\n",
    "\n",
    "varvals = np.ravel(seg_outflow_daily, order = 'F')# flattens the 2D array to a 1D array\n",
    "\n",
    "with open(rootdir / cm / of_name, encoding=\"utf-8\", mode='a') as ofp:\n",
    "    [ofp.write(f'streamflow_daily{i}          {j}\\n') for i,j in zip(inds,varvals)]"
   ]
  },
  {
   "cell_type": "code",
   "execution_count": null,
   "id": "d21e9e71-e116-486c-bb8a-03cbdc2f1d85",
   "metadata": {},
   "outputs": [],
   "source": [
    "seg_outflow_daily"
   ]
  },
  {
   "cell_type": "code",
   "execution_count": null,
   "id": "b8fe9a4a-6b97-4e98-b311-07fb4f2f5a8f",
   "metadata": {},
   "outputs": [],
   "source": [
    "#seg_outflow_daily.sel(npoi_gages='01472198').values # look at a slice of the netcdf and compare to pest write file"
   ]
  },
  {
   "cell_type": "code",
   "execution_count": null,
   "id": "eb4496bf",
   "metadata": {},
   "outputs": [],
   "source": [
    "#inds"
   ]
  },
  {
   "cell_type": "markdown",
   "id": "39c372a7-faa6-41ad-a8a6-e8dc2aec15b4",
   "metadata": {},
   "source": [
    "#### Post-process daily output to match observation targets of \"monthly\" and \"mean monthly\""
   ]
  },
  {
   "cell_type": "code",
   "execution_count": null,
   "id": "679dcf04",
   "metadata": {},
   "outputs": [],
   "source": [
    "#Creates a dataframe time series of monthly values (average daily rate for the month)\n",
    "seg_outflow_monthly = seg_outflow_daily.resample(time = 'm').mean()"
   ]
  },
  {
   "cell_type": "code",
   "execution_count": null,
   "id": "1d81dfd2-c65b-45ea-b1a9-4d3869e2b427",
   "metadata": {},
   "outputs": [],
   "source": [
    "# Creates a dataframe time series of mean monthly (mean of all jan, feb, mar....)\n",
    "seg_outflow_mean_monthly = seg_outflow_monthly.groupby('time.month').mean()"
   ]
  },
  {
   "cell_type": "code",
   "execution_count": null,
   "id": "f799ca42-2f9e-46b8-b7b6-d4bf6822f51f",
   "metadata": {},
   "outputs": [],
   "source": [
    "#Now write to the pest obs file\n",
    "inds = [f'{i.year}_{i.month}:{j}' for j in seg_outflow_monthly['poi_gages'].values for i in seg_outflow_monthly.indexes['time'] ]# set up the indices in sequence\n",
    "varvals = np.ravel(seg_outflow_monthly, order = 'F')# flattens the 2D array to a 1D array--just playing \n",
    "\n",
    "with open(rootdir / cm / of_name, encoding=\"utf-8\", mode='a') as ofp:\n",
    "    [ofp.write(f'streamflow_mon:{i}          {j}\\n') for i,j in zip(inds,varvals)]"
   ]
  },
  {
   "cell_type": "code",
   "execution_count": null,
   "id": "b2696cb7-5d8c-450b-80a3-dfd63cc8cc71",
   "metadata": {},
   "outputs": [],
   "source": [
    "inds = [f'{i}:{j}' for j in seg_outflow_mean_monthly['poi_gages'].values for i in seg_outflow_mean_monthly.indexes['month'] ]\n",
    "varvals =  np.ravel(seg_outflow_mean_monthly, order = 'F')# flattens the 2D array to a 1D array \n",
    "\n",
    "with open(rootdir / cm / of_name, encoding=\"utf-8\", mode='a') as ofp:\n",
    "    [ofp.write(f'streamflow_mean_mon:{i}          {j}\\n') for i,j in zip(inds,varvals)]"
   ]
  },
  {
   "cell_type": "code",
   "execution_count": null,
   "id": "87dbb8be-850d-43aa-8185-1fc33dcf949f",
   "metadata": {},
   "outputs": [],
   "source": []
  }
 ],
 "metadata": {
  "kernelspec": {
   "display_name": "Python 3 (ipykernel)",
   "language": "python",
   "name": "python3"
  },
  "language_info": {
   "codemirror_mode": {
    "name": "ipython",
    "version": 3
   },
   "file_extension": ".py",
   "mimetype": "text/x-python",
   "name": "python",
   "nbconvert_exporter": "python",
   "pygments_lexer": "ipython3",
   "version": "3.10.12"
  }
 },
 "nbformat": 4,
 "nbformat_minor": 5
}
