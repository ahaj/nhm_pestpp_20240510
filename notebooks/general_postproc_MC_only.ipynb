{
 "cells": [
  {
   "cell_type": "markdown",
   "id": "55e0c992-342b-47bf-b57d-c31b19141995",
   "metadata": {},
   "source": [
    "### can run this one by one interactively or, as a batch, run `../scripts/general_postproc.py`"
   ]
  },
  {
   "cell_type": "code",
   "execution_count": 1,
   "id": "d3ada2f3-5f88-4c83-b26b-8f21701858f8",
   "metadata": {},
   "outputs": [
    {
     "name": "stderr",
     "output_type": "stream",
     "text": [
      "/Users/mnfienen/Documents/GIT/hytest/NHM_CAL/nhm_pestpp/notebooks/../dependencies/pyemu/pst/pst_handler.py:15: FutureWarning: use_inf_as_na option is deprecated and will be removed in a future version. Convert inf values to NaN before operating instead.\n"
     ]
    }
   ],
   "source": [
    "import sys\n",
    "import pandas as pd\n",
    "from matplotlib.backends.backend_pdf import PdfPages\n",
    "import matplotlib.pyplot as plt\n",
    "import zipfile\n",
    "sys.path.insert(0,'../scripts/')\n",
    "from postprocessing import setup_postproc, check_pdc, plot_phi, get_obs_and_noise, get_pars, plot_group, plot_pars_group"
   ]
  },
  {
   "cell_type": "code",
   "execution_count": 2,
   "id": "2589ad3d-4add-439d-988f-ffbe90f9f300",
   "metadata": {},
   "outputs": [
    {
     "name": "stdout",
     "output_type": "stream",
     "text": [
      "error parsing metadata from 'obsnme', continuing\n"
     ]
    }
   ],
   "source": [
    "# curr_model = '01473000'\n",
    "curr_model = '05431486'\n",
    "# curr_model = '09112500'\n",
    "curr_run_root = 'prior_mc_reweight'\n",
    "eval_pdc = True\n",
    "unzip_dirs = True\n",
    "phi_cutoffs = {cm:{crr:9e99 for crr in ['ies','prior_mc_reweight']}\n",
    "                for cm in ['01473000','05431486', '09112500']}\n",
    "pstdir, results_file, tmp_res_path, fig_dir, obs, pst = setup_postproc(curr_model, curr_run_root, unzip_dirs)"
   ]
  },
  {
   "cell_type": "markdown",
   "id": "96960902-1403-4de8-85ef-5e7a9c537b3a",
   "metadata": {},
   "source": [
    "### check out PDC"
   ]
  },
  {
   "cell_type": "code",
   "execution_count": 3,
   "id": "4f8e0918-c672-42d8-9ccb-b78a762880ce",
   "metadata": {},
   "outputs": [
    {
     "data": {
      "text/plain": [
       "['g_min_actet_mean_mon',\n",
       " 'g_min_actet_mon',\n",
       " 'g_min_recharge_ann',\n",
       " 'g_min_runoff_mon',\n",
       " 'g_min_sca_daily',\n",
       " 'g_min_soil_moist_ann',\n",
       " 'g_min_soil_moist_mon',\n",
       " 'l_max_actet_mean_mon',\n",
       " 'l_max_actet_mon',\n",
       " 'l_max_recharge_ann',\n",
       " 'l_max_runoff_mon',\n",
       " 'l_max_sca_daily',\n",
       " 'l_max_soil_moist_ann',\n",
       " 'l_max_soil_moist_mon',\n",
       " 'streamflow_daily_large_asc',\n",
       " 'streamflow_daily_large_dsc',\n",
       " 'streamflow_daily_small_asc',\n",
       " 'streamflow_daily_small_dsc',\n",
       " 'streamflow_daily_pulse_asc',\n",
       " 'streamflow_daily_pulse_dsc',\n",
       " 'streamflow_daily_low',\n",
       " 'streamflow_daily_exlow',\n",
       " 'streamflow_mean_mon',\n",
       " 'streamflow_mon']"
      ]
     },
     "execution_count": 3,
     "metadata": {},
     "output_type": "execute_result"
    }
   ],
   "source": [
    "pst.nnz_obs_groups"
   ]
  },
  {
   "cell_type": "code",
   "execution_count": 4,
   "id": "098273bd-4621-4685-a30f-b9c65349795f",
   "metadata": {},
   "outputs": [
    {
     "name": "stdout",
     "output_type": "stream",
     "text": [
      "9.31% of weighted obs are in PDC\n",
      "                            obs_counts  pdc_counts group_percent_pdc\n",
      "obgnme                                                              \n",
      "g_min_actet_mean_mon               192         2.0             1.04%\n",
      "g_min_actet_mon                   2112        74.0             3.50%\n",
      "g_min_recharge_ann                 160        34.0            21.25%\n",
      "g_min_runoff_mon                  5568         6.0             0.11%\n",
      "g_min_sca_daily                  53376       584.0             1.09%\n",
      "g_min_soil_moist_ann               464         3.0             0.65%\n",
      "g_min_soil_moist_mon              5568       383.0             6.88%\n",
      "l_max_actet_mean_mon               192         NaN              nan%\n",
      "l_max_actet_mon                   2112         7.0             0.33%\n",
      "l_max_recharge_ann                 160         NaN              nan%\n",
      "l_max_runoff_mon                  5568         NaN              nan%\n",
      "l_max_sca_daily                  53376       697.0             1.31%\n",
      "l_max_soil_moist_ann               464         NaN              nan%\n",
      "l_max_soil_moist_mon              5568         NaN              nan%\n",
      "streamflow_daily_exlow             874       224.0            25.63%\n",
      "streamflow_daily_large_asc           1         1.0           100.00%\n",
      "streamflow_daily_large_dsc           4         4.0           100.00%\n",
      "streamflow_daily_low              5782      1875.0            32.43%\n",
      "streamflow_daily_pulse_asc        1512       833.0            55.09%\n",
      "streamflow_daily_pulse_dsc        3569      2042.0            57.21%\n",
      "streamflow_daily_small_asc           8         8.0           100.00%\n",
      "streamflow_daily_small_dsc          17        14.0            82.35%\n",
      "streamflow_mean_mon                 72        26.0            36.11%\n",
      "streamflow_mon                     720       194.0            26.94%\n"
     ]
    }
   ],
   "source": [
    "if eval_pdc:\n",
    "    pdc = check_pdc(tmp_res_path, curr_run_root, pst, obs)\n",
    "    print(pdc)"
   ]
  },
  {
   "cell_type": "markdown",
   "id": "dc783fcd-efc2-47ab-9c4e-bb07fcaed64d",
   "metadata": {},
   "source": [
    "### look at PHI history"
   ]
  },
  {
   "cell_type": "code",
   "execution_count": 5,
   "id": "42e98a23-0928-43ed-a738-a4d0f7cb6a88",
   "metadata": {},
   "outputs": [
    {
     "data": {
      "image/png": "[encoded data removed]",
      "text/plain": [
       "<Figure size 600x400 with 1 Axes>"
      ]
     },
     "metadata": {},
     "output_type": "display_data"
    }
   ],
   "source": [
    "phi = plot_phi(tmp_res_path, curr_run_root, curr_model, fig_dir)"
   ]
  },
  {
   "cell_type": "markdown",
   "id": "d1c00cdd-ba69-40fd-b95a-e6eb8e915d11",
   "metadata": {},
   "source": [
    "### Truncate PHI at a threshold"
   ]
  },
  {
   "cell_type": "code",
   "execution_count": 6,
   "id": "67260774-9a5b-4f1a-b071-b991dfcd52d0",
   "metadata": {},
   "outputs": [
    {
     "data": {
      "text/html": [
       "<div>\n",
       "<style scoped>\n",
       "    .dataframe tbody tr th:only-of-type {\n",
       "        vertical-align: middle;\n",
       "    }\n",
       "\n",
       "    .dataframe tbody tr th {\n",
       "        vertical-align: top;\n",
       "    }\n",
       "\n",
       "    .dataframe thead th {\n",
       "        text-align: right;\n",
       "    }\n",
       "</style>\n",
       "<table border=\"1\" class=\"dataframe\">\n",
       "  <thead>\n",
       "    <tr style=\"text-align: right;\">\n",
       "      <th></th>\n",
       "      <th>total_runs</th>\n",
       "      <th>mean</th>\n",
       "      <th>standard_deviation</th>\n",
       "      <th>min</th>\n",
       "      <th>max</th>\n",
       "      <th>0</th>\n",
       "      <th>1</th>\n",
       "      <th>2</th>\n",
       "      <th>3</th>\n",
       "      <th>4</th>\n",
       "      <th>...</th>\n",
       "      <th>490</th>\n",
       "      <th>491</th>\n",
       "      <th>492</th>\n",
       "      <th>493</th>\n",
       "      <th>494</th>\n",
       "      <th>495</th>\n",
       "      <th>496</th>\n",
       "      <th>497</th>\n",
       "      <th>498</th>\n",
       "      <th>base</th>\n",
       "    </tr>\n",
       "    <tr>\n",
       "      <th>iteration</th>\n",
       "      <th></th>\n",
       "      <th></th>\n",
       "      <th></th>\n",
       "      <th></th>\n",
       "      <th></th>\n",
       "      <th></th>\n",
       "      <th></th>\n",
       "      <th></th>\n",
       "      <th></th>\n",
       "      <th></th>\n",
       "      <th></th>\n",
       "      <th></th>\n",
       "      <th></th>\n",
       "      <th></th>\n",
       "      <th></th>\n",
       "      <th></th>\n",
       "      <th></th>\n",
       "      <th></th>\n",
       "      <th></th>\n",
       "      <th></th>\n",
       "      <th></th>\n",
       "    </tr>\n",
       "  </thead>\n",
       "  <tbody>\n",
       "    <tr>\n",
       "      <th>0</th>\n",
       "      <td>500</td>\n",
       "      <td>386410000.0</td>\n",
       "      <td>116873000.0</td>\n",
       "      <td>142065000.0</td>\n",
       "      <td>754124000.0</td>\n",
       "      <td>708792000.0</td>\n",
       "      <td>633400000.0</td>\n",
       "      <td>387829000.0</td>\n",
       "      <td>429565000.0</td>\n",
       "      <td>371521000.0</td>\n",
       "      <td>...</td>\n",
       "      <td>419044000.0</td>\n",
       "      <td>685919000.0</td>\n",
       "      <td>233112000.0</td>\n",
       "      <td>453278000.0</td>\n",
       "      <td>393805000.0</td>\n",
       "      <td>320614000.0</td>\n",
       "      <td>381336000.0</td>\n",
       "      <td>432585000.0</td>\n",
       "      <td>385324000.0</td>\n",
       "      <td>142065000.0</td>\n",
       "    </tr>\n",
       "  </tbody>\n",
       "</table>\n",
       "<p>1 rows × 505 columns</p>\n",
       "</div>"
      ],
      "text/plain": [
       "           total_runs         mean  standard_deviation          min  \\\n",
       "iteration                                                             \n",
       "0                 500  386410000.0         116873000.0  142065000.0   \n",
       "\n",
       "                   max            0            1            2            3  \\\n",
       "iteration                                                                    \n",
       "0          754124000.0  708792000.0  633400000.0  387829000.0  429565000.0   \n",
       "\n",
       "                     4  ...          490          491          492  \\\n",
       "iteration               ...                                          \n",
       "0          371521000.0  ...  419044000.0  685919000.0  233112000.0   \n",
       "\n",
       "                   493          494          495          496          497  \\\n",
       "iteration                                                                    \n",
       "0          453278000.0  393805000.0  320614000.0  381336000.0  432585000.0   \n",
       "\n",
       "                   498         base  \n",
       "iteration                            \n",
       "0          385324000.0  142065000.0  \n",
       "\n",
       "[1 rows x 505 columns]"
      ]
     },
     "execution_count": 6,
     "metadata": {},
     "output_type": "execute_result"
    }
   ],
   "source": [
    "phi"
   ]
  },
  {
   "cell_type": "code",
   "execution_count": 7,
   "id": "b7064368-5d27-4ee2-963a-0fc2bf2802a5",
   "metadata": {},
   "outputs": [
    {
     "data": {
      "text/plain": [
       "0"
      ]
     },
     "execution_count": 7,
     "metadata": {},
     "output_type": "execute_result"
    }
   ],
   "source": [
    "best_iter = 0\n",
    "if 'prior' in curr_run_root:\n",
    "    best_iter = 0\n",
    "best_iter"
   ]
  },
  {
   "cell_type": "markdown",
   "id": "a772ffd4-4db7-45c1-a019-a79f18bcdf2c",
   "metadata": {},
   "source": [
    "## now rejection sampling for outlier PHI values"
   ]
  },
  {
   "cell_type": "code",
   "execution_count": 8,
   "id": "04cb6c88-af1e-42bc-9d9d-48ea5ef3923c",
   "metadata": {},
   "outputs": [
    {
     "data": {
      "image/png": "[encoded data removed]",
      "text/plain": [
       "<Figure size 640x480 with 1 Axes>"
      ]
     },
     "metadata": {},
     "output_type": "display_data"
    }
   ],
   "source": [
    "orgphi = phi.loc[best_iter].iloc[5:].copy()\n",
    "ax = orgphi.hist(bins=50)\n",
    "lims = ax.get_xlim()"
   ]
  },
  {
   "cell_type": "code",
   "execution_count": 9,
   "id": "6219407a-a516-40ad-9a31-34ad3b008397",
   "metadata": {},
   "outputs": [],
   "source": [
    "# catalog of cutoffs heuristically determined\n",
    "phi_cutoffs['01473000']['prior_mc_reweight'] = 4.0e7\n",
    "phi_cutoffs['01473000']['ies'] = 1.08e9\n",
    "phi_cutoffs['05431486']['prior_mc_reweight'] = 5.7e8\n",
    "phi_cutoffs['05431486']['ies'] = 7.5e8\n",
    "phi_cutoffs['09112500']['prior_mc_reweight'] = 1.2e9\n",
    "phi_cutoffs['09112500']['ies'] = 8.675e8"
   ]
  },
  {
   "cell_type": "code",
   "execution_count": 10,
   "id": "2c45ef75-b7dd-4e13-995f-29134944ae8a",
   "metadata": {},
   "outputs": [
    {
     "data": {
      "text/plain": [
       "570000000.0"
      ]
     },
     "execution_count": 10,
     "metadata": {},
     "output_type": "execute_result"
    }
   ],
   "source": [
    "phi_too_high = phi_cutoffs[curr_model][curr_run_root]\n",
    "phi_too_high"
   ]
  },
  {
   "cell_type": "code",
   "execution_count": 11,
   "id": "2c734e41-f130-41ba-a8af-6094a6b88380",
   "metadata": {},
   "outputs": [
    {
     "data": {
      "image/png": "[encoded data removed]",
      "text/plain": [
       "<Figure size 640x480 with 2 Axes>"
      ]
     },
     "metadata": {},
     "output_type": "display_data"
    }
   ],
   "source": [
    "phi = orgphi.loc[orgphi<=phi_too_high]\n",
    "fig,ax = plt.subplots(1,2)\n",
    "### --> need to indicate which reals we will carry forward <-- ###\n",
    "orgphi.hist(bins=50, ax=ax[0])\n",
    "reals = phi.index \n",
    "phi.hist(bins=50, ax=ax[1])\n",
    "ax[0].axvline(phi_too_high, color='orange')\n",
    "ax[1].set_xlim(lims)\n",
    "ax[0].set_title(f'Original PHI: {len(orgphi)} reals')\n",
    "ax[1].set_title(f'Truncated PHI: {len(phi)} reals')\n",
    "plt.savefig(fig_dir/ 'phi_histogram.pdf')\n"
   ]
  },
  {
   "cell_type": "code",
   "execution_count": null,
   "id": "65f3799d-f204-4b6d-a073-8afd7a1e5cf8",
   "metadata": {},
   "outputs": [],
   "source": [
    "reals"
   ]
  },
  {
   "cell_type": "markdown",
   "id": "aa59404a-535b-457f-b1aa-386c5fc92dc7",
   "metadata": {},
   "source": [
    "### make example data for the evaluation team"
   ]
  },
  {
   "cell_type": "code",
   "execution_count": null,
   "id": "fcb3f520-5d46-49a7-abeb-d098b2a247ef",
   "metadata": {},
   "outputs": [],
   "source": [
    "# obens = pd.read_csv(tmp_res_path / f'{curr_run_root}.{best_iter}.obs.csv', \n",
    "#                     low_memory=False, index_col=0).loc[reals].T\n",
    "# obens_noise = pd.read_csv(tmp_res_path / f'{curr_run_root}.obs+noise.csv', \n",
    "#                           low_memory=False, index_col=0).loc[reals].T\n",
    "# ex_data = obens['base'].to_frame().rename(columns={'base':'modelled'})\n",
    "# ex_data['measured'] = obens_noise.loc[ex_data.index,'base']\n",
    "# ex_data['group'] = obs.loc[ex_data.index,'obgnme']\n",
    "# ex_data['weight'] = obs.loc[ex_data.index,'weight']\n",
    "# ex_data['standard_deviation'] = obs.loc[ex_data.index,'standard_deviation']\n",
    "# ex_data.to_csv(f'../evaluation/example_data/{curr_model}.prior.csv.zip')"
   ]
  },
  {
   "cell_type": "markdown",
   "id": "b4e5a41e-2357-4cb3-baaa-0df97c087ea5",
   "metadata": {},
   "source": [
    "### now read in and trim hotstart files"
   ]
  },
  {
   "cell_type": "code",
   "execution_count": null,
   "id": "3ff2b546-3301-44b0-983c-f6a9c7941c02",
   "metadata": {},
   "outputs": [],
   "source": [
    "parens = pd.read_csv(tmp_res_path / f'{curr_run_root}.{best_iter}.par.csv',\n",
    "                         index_col=0, low_memory=False).loc[reals]"
   ]
  },
  {
   "cell_type": "code",
   "execution_count": null,
   "id": "89770ac8-eb6c-4251-8db2-369db25762ee",
   "metadata": {},
   "outputs": [],
   "source": [
    "parens.index = [str(i) for i in range(len(parens)-1)] + ['base']"
   ]
  },
  {
   "cell_type": "code",
   "execution_count": null,
   "id": "53f4c762-7b28-4092-9d81-3044b1779ffc",
   "metadata": {},
   "outputs": [],
   "source": [
    "parens.to_csv(pstdir / 'hotstart.starting_pars.csv.zip')"
   ]
  },
  {
   "cell_type": "code",
   "execution_count": null,
   "id": "4ad07d85-b55e-4315-aafb-5010b123609b",
   "metadata": {},
   "outputs": [],
   "source": [
    "obens = pd.read_csv(tmp_res_path / f'{curr_run_root}.{best_iter}.obs.csv', \n",
    "                    low_memory=False, index_col=0).loc[reals]\n",
    "obens.index = parens.index\n",
    "obens_noise = pd.read_csv(tmp_res_path / f'{curr_run_root}.obs+noise.csv', \n",
    "                          low_memory=False, index_col=0).loc[reals]\n",
    "obens_noise.index = parens.index"
   ]
  },
  {
   "cell_type": "code",
   "execution_count": null,
   "id": "c4572b49-d025-4230-84d5-5bd8231c1cc9",
   "metadata": {},
   "outputs": [],
   "source": [
    "obens.to_csv(pstdir / 'hotstart.starting_obs.csv.zip')\n",
    "obens_noise.to_csv(pstdir / 'hotstart.starting_obs+noise.csv.zip')\n"
   ]
  },
  {
   "cell_type": "code",
   "execution_count": null,
   "id": "fe8d2ffc-49d0-413b-8baa-595068607adc",
   "metadata": {},
   "outputs": [],
   "source": []
  },
  {
   "cell_type": "code",
   "execution_count": null,
   "id": "e59f8de5-27b4-4760-822b-2aab9b891c28",
   "metadata": {},
   "outputs": [],
   "source": [
    "pst.control_data.noptmax=2\n",
    "pst.pestpp_options[\"ies_num_reals\"] = len(reals)\n",
    "pst.pestpp_options[\"ies_observation_ensemble\"] = 'hotstart.starting_obs+noise.csv'\n",
    "pst.pestpp_options[\"ies_restart_observation_ensemble\"] = 'hotstart.starting_obs.csv'\n",
    "pst.pestpp_options[\"ies_parameter_ensemble\"] = 'hotstart.starting_pars.csv'"
   ]
  },
  {
   "cell_type": "code",
   "execution_count": null,
   "id": "8dac0dc2-f68f-4cb7-b60a-d4e2910a3606",
   "metadata": {},
   "outputs": [],
   "source": [
    "pst.pestpp_options"
   ]
  },
  {
   "cell_type": "code",
   "execution_count": null,
   "id": "0500d3eb-8fdb-470f-8734-4a04b581b2c3",
   "metadata": {},
   "outputs": [],
   "source": [
    "pst.write(str(pstdir / 'ies_hot.pst'), version=2)"
   ]
  },
  {
   "cell_type": "code",
   "execution_count": null,
   "id": "8bec4451-34a6-4786-b30c-034371bf2b90",
   "metadata": {},
   "outputs": [],
   "source": [
    "with zipfile.ZipFile(pstdir / f'{curr_model}.hotstart.zip', 'w', zipfile.ZIP_DEFLATED) as zipf:\n",
    "    [zipf.write(i, i.name) for i in pstdir.glob('hotstart.starting*.zip')]"
   ]
  },
  {
   "cell_type": "code",
   "execution_count": null,
   "id": "642d305b-e65b-4baa-b6c4-7bf099db83fa",
   "metadata": {},
   "outputs": [],
   "source": [
    "obs"
   ]
  },
  {
   "cell_type": "code",
   "execution_count": null,
   "id": "ec5b87ac-929c-4cdb-ad17-59afc80c4417",
   "metadata": {},
   "outputs": [],
   "source": []
  }
 ],
 "metadata": {
  "kernelspec": {
   "display_name": "Python 3 (ipykernel)",
   "language": "python",
   "name": "python3"
  },
  "language_info": {
   "codemirror_mode": {
    "name": "ipython",
    "version": 3
   },
   "file_extension": ".py",
   "mimetype": "text/x-python",
   "name": "python",
   "nbconvert_exporter": "python",
   "pygments_lexer": "ipython3",
   "version": "3.10.13"
  }
 },
 "nbformat": 4,
 "nbformat_minor": 5
}
