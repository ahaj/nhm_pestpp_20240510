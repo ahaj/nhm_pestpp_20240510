{
 "cells": [
  {
   "cell_type": "markdown",
   "id": "55e0c992-342b-47bf-b57d-c31b19141995",
   "metadata": {},
   "source": [
    "### can run this one by one interactively or, as a batch, run `../scripts/general_postproc.py`"
   ]
  },
  {
   "cell_type": "code",
   "execution_count": null,
   "id": "d3ada2f3-5f88-4c83-b26b-8f21701858f8",
   "metadata": {},
   "outputs": [],
   "source": [
    "import sys\n",
    "import pandas as pd\n",
    "from matplotlib.backends.backend_pdf import PdfPages\n",
    "import matplotlib.pyplot as plt\n",
    "sys.path.insert(0,'../scripts/')\n",
    "from postprocessing import setup_postproc, check_pdc, plot_phi, get_obs_and_noise, get_pars, plot_group, plot_pars_group"
   ]
  },
  {
   "cell_type": "code",
   "execution_count": null,
   "id": "2589ad3d-4add-439d-988f-ffbe90f9f300",
   "metadata": {},
   "outputs": [],
   "source": [
    "curr_model = '01473000'\n",
    "# curr_model = '05431486'\n",
    "# curr_model = '09112500'\n",
    "curr_run_root = 'prior_mc_reweight'\n",
    "eval_pdc = True\n",
    "unzip_dirs = True\n",
    "phi_cutoffs = {cm:{crr:9e99 for crr in ['ies','prior_mc_reweight']}\n",
    "                for cm in ['01473000','05431486', '09112500']}\n",
    "pstdir, results_file, tmp_res_path, fig_dir, obs, pst = setup_postproc(curr_model, curr_run_root, unzip_dirs)"
   ]
  },
  {
   "cell_type": "markdown",
   "id": "96960902-1403-4de8-85ef-5e7a9c537b3a",
   "metadata": {},
   "source": [
    "### check out PDC"
   ]
  },
  {
   "cell_type": "code",
   "execution_count": null,
   "id": "4f8e0918-c672-42d8-9ccb-b78a762880ce",
   "metadata": {},
   "outputs": [],
   "source": [
    "pst.nnz_obs_groups"
   ]
  },
  {
   "cell_type": "code",
   "execution_count": null,
   "id": "098273bd-4621-4685-a30f-b9c65349795f",
   "metadata": {},
   "outputs": [],
   "source": [
    "if eval_pdc:\n",
    "    pdc = check_pdc(tmp_res_path, curr_run_root, pst, obs)\n",
    "    print(pdc)"
   ]
  },
  {
   "cell_type": "markdown",
   "id": "dc783fcd-efc2-47ab-9c4e-bb07fcaed64d",
   "metadata": {},
   "source": [
    "### look at PHI history"
   ]
  },
  {
   "cell_type": "code",
   "execution_count": null,
   "id": "42e98a23-0928-43ed-a738-a4d0f7cb6a88",
   "metadata": {},
   "outputs": [],
   "source": [
    "phi = plot_phi(tmp_res_path, curr_run_root, curr_model, fig_dir)"
   ]
  },
  {
   "cell_type": "markdown",
   "id": "d1c00cdd-ba69-40fd-b95a-e6eb8e915d11",
   "metadata": {},
   "source": [
    "### Truncate PHI at a threshold"
   ]
  },
  {
   "cell_type": "code",
   "execution_count": null,
   "id": "67260774-9a5b-4f1a-b071-b991dfcd52d0",
   "metadata": {},
   "outputs": [],
   "source": [
    "phi"
   ]
  },
  {
   "cell_type": "code",
   "execution_count": null,
   "id": "b7064368-5d27-4ee2-963a-0fc2bf2802a5",
   "metadata": {},
   "outputs": [],
   "source": [
    "best_iter = 0\n",
    "if 'prior' in curr_run_root:\n",
    "    best_iter = 0\n",
    "best_iter"
   ]
  },
  {
   "cell_type": "markdown",
   "id": "a772ffd4-4db7-45c1-a019-a79f18bcdf2c",
   "metadata": {},
   "source": [
    "## now rejection sampling for outlier PHI values"
   ]
  },
  {
   "cell_type": "code",
   "execution_count": null,
   "id": "04cb6c88-af1e-42bc-9d9d-48ea5ef3923c",
   "metadata": {},
   "outputs": [],
   "source": [
    "orgphi = phi.loc[best_iter].iloc[5:].copy()\n",
    "ax = orgphi.hist(bins=50)\n",
    "lims = ax.get_xlim()"
   ]
  },
  {
   "cell_type": "code",
   "execution_count": null,
   "id": "6219407a-a516-40ad-9a31-34ad3b008397",
   "metadata": {},
   "outputs": [],
   "source": [
    "# catalog of cutoffs heuristically determined\n",
    "phi_cutoffs['01473000']['prior_mc_reweight'] = 3.8e7\n",
    "phi_cutoffs['01473000']['ies'] = 1.08e9\n",
    "phi_cutoffs['05431486']['prior_mc_reweight'] = .6e12\n",
    "phi_cutoffs['05431486']['ies'] = 7.5e8\n",
    "phi_cutoffs['09112500']['prior_mc_reweight'] = 1.2e9\n",
    "phi_cutoffs['09112500']['ies'] = 8.675e8"
   ]
  },
  {
   "cell_type": "code",
   "execution_count": null,
   "id": "2c45ef75-b7dd-4e13-995f-29134944ae8a",
   "metadata": {},
   "outputs": [],
   "source": [
    "phi_too_high = phi_cutoffs[curr_model][curr_run_root]\n",
    "phi_too_high"
   ]
  },
  {
   "cell_type": "code",
   "execution_count": null,
   "id": "2c734e41-f130-41ba-a8af-6094a6b88380",
   "metadata": {},
   "outputs": [],
   "source": [
    "phi = orgphi.loc[orgphi<=phi_too_high]\n",
    "fig,ax = plt.subplots(1,2)\n",
    "### --> need to indicate which reals we will carry forward <-- ###\n",
    "orgphi.hist(bins=50, ax=ax[0])\n",
    "reals = phi.index \n",
    "phi.hist(bins=50, ax=ax[1])\n",
    "ax[0].axvline(phi_too_high, color='orange')\n",
    "ax[1].set_xlim(lims)\n",
    "ax[0].set_title(f'Original PHI: {len(orgphi)} reals')\n",
    "ax[1].set_title(f'Truncated PHI: {len(phi)} reals')\n",
    "plt.savefig(fig_dir/ 'phi_histogram.pdf')\n"
   ]
  },
  {
   "cell_type": "markdown",
   "id": "b4e5a41e-2357-4cb3-baaa-0df97c087ea5",
   "metadata": {},
   "source": [
    "### now read in and trim hotstart files"
   ]
  },
  {
   "cell_type": "code",
   "execution_count": null,
   "id": "3ff2b546-3301-44b0-983c-f6a9c7941c02",
   "metadata": {},
   "outputs": [],
   "source": [
    "parens = pd.read_csv(tmp_res_path / f'{curr_run_root}.{best_iter}.par.csv',\n",
    "                         index_col=0, low_memory=False).loc[reals]"
   ]
  },
  {
   "cell_type": "code",
   "execution_count": null,
   "id": "89770ac8-eb6c-4251-8db2-369db25762ee",
   "metadata": {},
   "outputs": [],
   "source": [
    "parens.index = [str(i) for i in range(len(parens)-1)] + ['base']"
   ]
  },
  {
   "cell_type": "code",
   "execution_count": null,
   "id": "53f4c762-7b28-4092-9d81-3044b1779ffc",
   "metadata": {},
   "outputs": [],
   "source": [
    "parens.to_csv(pstdir / 'hotstart.starting_pars.csv.zip')"
   ]
  },
  {
   "cell_type": "code",
   "execution_count": null,
   "id": "4ad07d85-b55e-4315-aafb-5010b123609b",
   "metadata": {},
   "outputs": [],
   "source": [
    "obens = pd.read_csv(tmp_res_path / f'{curr_run_root}.{best_iter}.obs.csv', \n",
    "                    low_memory=False, index_col=0).loc[reals]\n",
    "obens.index = parens.index\n",
    "obens_noise = pd.read_csv(tmp_res_path / f'{curr_run_root}.obs+noise.csv', \n",
    "                          low_memory=False, index_col=0).loc[reals]\n",
    "obens_noise.index = parens.index"
   ]
  },
  {
   "cell_type": "code",
   "execution_count": null,
   "id": "c4572b49-d025-4230-84d5-5bd8231c1cc9",
   "metadata": {},
   "outputs": [],
   "source": [
    "obens.to_csv(pstdir / 'hotstart.starting_obs.csv.zip')\n",
    "obens_noise.to_csv(pstdir / 'hotstart.starting_obs+noise.csv.zip')\n"
   ]
  },
  {
   "cell_type": "code",
   "execution_count": null,
   "id": "fe8d2ffc-49d0-413b-8baa-595068607adc",
   "metadata": {},
   "outputs": [],
   "source": []
  },
  {
   "cell_type": "code",
   "execution_count": null,
   "id": "e59f8de5-27b4-4760-822b-2aab9b891c28",
   "metadata": {},
   "outputs": [],
   "source": [
    "pst.control_data.noptmax=2\n",
    "pst.pestpp_options[\"ies_num_reals\"] = len(reals)\n",
    "pst.pestpp_options[\"ies_observation_ensemble\"] = 'hotstart.starting_obs+noise.csv'\n",
    "pst.pestpp_options[\"ies_restart_observation_ensemble\"] = 'hotstart.starting_obs.csv'\n",
    "pst.pestpp_options[\"ies_parameter_ensemble\"] = 'hotstart.starting_pars.csv'"
   ]
  },
  {
   "cell_type": "code",
   "execution_count": null,
   "id": "8dac0dc2-f68f-4cb7-b60a-d4e2910a3606",
   "metadata": {},
   "outputs": [],
   "source": [
    "pst.pestpp_options"
   ]
  },
  {
   "cell_type": "code",
   "execution_count": null,
   "id": "0500d3eb-8fdb-470f-8734-4a04b581b2c3",
   "metadata": {},
   "outputs": [],
   "source": [
    "pst.write(str(pstdir / 'ies_hot.pst'), version=2)"
   ]
  },
  {
   "cell_type": "code",
   "execution_count": null,
   "id": "8bec4451-34a6-4786-b30c-034371bf2b90",
   "metadata": {},
   "outputs": [],
   "source": [
    "pstdir"
   ]
  },
  {
   "cell_type": "code",
   "execution_count": null,
   "id": "642d305b-e65b-4baa-b6c4-7bf099db83fa",
   "metadata": {},
   "outputs": [],
   "source": []
  },
  {
   "cell_type": "code",
   "execution_count": null,
   "id": "20d737eb-dd67-4335-8e07-c3f49240d584",
   "metadata": {},
   "outputs": [],
   "source": []
  }
 ],
 "metadata": {
  "kernelspec": {
   "display_name": "Python 3 (ipykernel)",
   "language": "python",
   "name": "python3"
  },
  "language_info": {
   "codemirror_mode": {
    "name": "ipython",
    "version": 3
   },
   "file_extension": ".py",
   "mimetype": "text/x-python",
   "name": "python",
   "nbconvert_exporter": "python",
   "pygments_lexer": "ipython3",
   "version": "3.10.13"
  }
 },
 "nbformat": 4,
 "nbformat_minor": 5
}
