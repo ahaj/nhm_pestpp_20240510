{
 "cells": [
  {
   "cell_type": "code",
   "execution_count": null,
   "id": "3ca702b5-8cb8-432e-9130-91a66857f378",
   "metadata": {},
   "outputs": [],
   "source": [
    "import pandas as pd\n",
    "import sys\n",
    "import numpy as np\n",
    "import pathlib as pl\n",
    "import zipfile\n",
    "sys.path.append('../dependencies/')\n",
    "sys.path.append('../scripts/')\n",
    "import pyemu\n",
    "from datetime import datetime as dt\n",
    "import matplotlib.pyplot as plt\n",
    "from matplotlib.backends.backend_pdf import PdfPages\n",
    "from matplotlib.lines import Line2D\n",
    "from matplotlib.patches import Patch\n",
    "import calendar\n",
    "from postprocessing import plot_single_real\n",
    "from post_process_model_output_fn import postprocess"
   ]
  },
  {
   "cell_type": "code",
   "execution_count": null,
   "id": "bafeb1d4-1eaf-4c7a-b97f-93789a621270",
   "metadata": {},
   "outputs": [],
   "source": [
    "# curr_model = '01473000'\n",
    "curr_model = '05431486'\n",
    "# curr_model = '09112500'\n",
    "curr_root = 'ies_hot'\n",
    "citer = 3"
   ]
  },
  {
   "cell_type": "code",
   "execution_count": null,
   "id": "d0d36075-5615-4267-be59-4b411c5df4d8",
   "metadata": {},
   "outputs": [],
   "source": [
    "tmp_res_path = pl.Path(f'../results/{curr_model}.{curr_root}/')"
   ]
  },
  {
   "cell_type": "code",
   "execution_count": null,
   "id": "0c4804c2-d6f5-471b-8fd6-ddc54ec242c2",
   "metadata": {},
   "outputs": [],
   "source": [
    "postproc_nhm = True\n",
    "\n",
    "if postproc_nhm:\n",
    "    for cm in ['01473000','05431486','09112500']:\n",
    "        print(f'postprocessing {cm}')\n",
    "        c_path = pl.Path(f'../NHM_solutions/nhm_byHWobs_files/{curr_model}')\n",
    "        postprocess(c_path, '.')"
   ]
  },
  {
   "cell_type": "code",
   "execution_count": null,
   "id": "b6f76f65-574e-43db-8abd-31fbce57d876",
   "metadata": {},
   "outputs": [],
   "source": [
    "fig_dir = pl.Path(f'../postprocessing/figures/single_reals/{curr_model}')\n",
    "if not fig_dir.exists():\n",
    "    fig_dir.mkdir(parents=True)"
   ]
  },
  {
   "cell_type": "code",
   "execution_count": null,
   "id": "019a4740-1805-4ae2-81eb-eb5ace09c7ec",
   "metadata": {},
   "outputs": [],
   "source": [
    "res = pd.read_csv(tmp_res_path / f'{curr_root}.2.base.rei', delim_whitespace=True, skiprows=3, index_col=0)\n",
    "res.loc[res.Measured<-999, 'Measured'] = np.nan\n",
    "res.head(5)"
   ]
  },
  {
   "cell_type": "code",
   "execution_count": null,
   "id": "2b3e8f8a-b03c-47ba-8e7f-e593e9a79d70",
   "metadata": {},
   "outputs": [],
   "source": [
    "res_nhm = pd.read_csv(f'../NHM_solutions/nhm_byHWobs_files/{curr_model}/modelobs.dat', delim_whitespace=True, index_col=0)\n",
    "res_nhm.head(5)"
   ]
  },
  {
   "cell_type": "code",
   "execution_count": null,
   "id": "4156f055-710f-4f48-8167-4c77f2770c24",
   "metadata": {},
   "outputs": [],
   "source": [
    "newindex=[]\n",
    "for i in res.index:\n",
    "    if 'streamflow_daily' not in i:\n",
    "        newindex.append(i)\n",
    "    else:\n",
    "        tmp = i.split(':')\n",
    "        tmp[0]='streamflow_daily'\n",
    "        newindex.append((':').join(tmp))\n",
    "res.index=newindex"
   ]
  },
  {
   "cell_type": "code",
   "execution_count": null,
   "id": "eb45476b-0588-4ea1-b423-1576064accf5",
   "metadata": {},
   "outputs": [],
   "source": [
    "res.head()"
   ]
  },
  {
   "cell_type": "code",
   "execution_count": null,
   "id": "897361ca-01fe-4c2b-bcaf-c054a54f8925",
   "metadata": {},
   "outputs": [],
   "source": [
    "res.loc[res.Group==res.Group.unique()[-4]]"
   ]
  },
  {
   "cell_type": "code",
   "execution_count": null,
   "id": "6953046a-4a40-4fc1-a0ce-116d17071ad6",
   "metadata": {},
   "outputs": [],
   "source": [
    "res = res.merge(res_nhm.rename(columns={'obsval':'NHM_modelled'}), left_index=True, right_index=True)"
   ]
  },
  {
   "cell_type": "code",
   "execution_count": null,
   "id": "9d1f642c-c4cb-4eff-b8fc-985b6e912b66",
   "metadata": {},
   "outputs": [],
   "source": [
    "res"
   ]
  },
  {
   "cell_type": "code",
   "execution_count": null,
   "id": "83d904c3-4b3f-4c67-8a00-753d42469802",
   "metadata": {},
   "outputs": [],
   "source": [
    "res.Group.unique()"
   ]
  },
  {
   "cell_type": "code",
   "execution_count": null,
   "id": "c1bf014e-8e19-4f25-a6a9-9a75ae5974d8",
   "metadata": {
    "scrolled": true
   },
   "outputs": [],
   "source": [
    "# cgroup = 'actet_mean_mon'\n",
    "[plot_single_real(res, cgroup, citer, curr_root, fig_dir, curr_model) for cgroup in [\n",
    "    # 'actet_mean_mon',\n",
    "    # 'actet_mon',\n",
    "    # 'recharge_ann',\n",
    "    # 'soil_moist_mon',\n",
    "    # 'soil_moist_ann',\n",
    "    # 'runoff_mon',\n",
    "    # 'streamflow_daily',\n",
    "    # 'streamflow_mean_mon',\n",
    "    'streamflow_mon'\n",
    "]]"
   ]
  },
  {
   "cell_type": "code",
   "execution_count": null,
   "id": "7b1dc984-b533-408d-ac75-5387732f969d",
   "metadata": {},
   "outputs": [],
   "source": [
    "res"
   ]
  },
  {
   "cell_type": "code",
   "execution_count": null,
   "id": "7d7b90ad-49bf-482b-99d9-73d451596529",
   "metadata": {},
   "outputs": [],
   "source": []
  },
  {
   "cell_type": "code",
   "execution_count": null,
   "id": "18ef66e7-94aa-4483-9f13-dc7b79836fcc",
   "metadata": {},
   "outputs": [],
   "source": [
    "\n",
    "\n",
    "\n",
    "\n"
   ]
  }
 ],
 "metadata": {
  "kernelspec": {
   "display_name": "Python 3 (ipykernel)",
   "language": "python",
   "name": "python3"
  },
  "language_info": {
   "codemirror_mode": {
    "name": "ipython",
    "version": 3
   },
   "file_extension": ".py",
   "mimetype": "text/x-python",
   "name": "python",
   "nbconvert_exporter": "python",
   "pygments_lexer": "ipython3",
   "version": "3.10.13"
  }
 },
 "nbformat": 4,
 "nbformat_minor": 5
}
