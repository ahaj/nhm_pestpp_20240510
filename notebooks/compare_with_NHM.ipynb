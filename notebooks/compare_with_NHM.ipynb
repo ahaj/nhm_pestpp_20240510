{
 "cells": [
  {
   "cell_type": "code",
   "execution_count": 1,
   "id": "3ca702b5-8cb8-432e-9130-91a66857f378",
   "metadata": {},
   "outputs": [
    {
     "name": "stderr",
     "output_type": "stream",
     "text": [
      "/Users/mnfienen/Documents/GIT/hytest/NHM_CAL/nhm_pestpp/notebooks/../dependencies/pyemu/pst/pst_handler.py:15: FutureWarning: use_inf_as_na option is deprecated and will be removed in a future version. Convert inf values to NaN before operating instead.\n"
     ]
    }
   ],
   "source": [
    "import pandas as pd\n",
    "import sys\n",
    "import numpy as np\n",
    "import pathlib as pl\n",
    "import zipfile\n",
    "sys.path.append('../dependencies/')\n",
    "sys.path.append('../scripts/')\n",
    "import pyemu\n",
    "from datetime import datetime as dt\n",
    "import matplotlib.pyplot as plt\n",
    "from matplotlib.backends.backend_pdf import PdfPages\n",
    "from matplotlib.lines import Line2D\n",
    "from matplotlib.patches import Patch\n",
    "import calendar\n",
    "from postprocessing import plot_single_real\n",
    "from post_process_model_output_fn import postprocess"
   ]
  },
  {
   "cell_type": "code",
   "execution_count": 2,
   "id": "bafeb1d4-1eaf-4c7a-b97f-93789a621270",
   "metadata": {},
   "outputs": [],
   "source": [
    "curr_model = '01473000'\n",
    "# curr_model = '05431486'\n",
    "# curr_model = '09112500'\n",
    "curr_root = 'prior_mc_reweight'\n",
    "citer = 0"
   ]
  },
  {
   "cell_type": "code",
   "execution_count": 3,
   "id": "0c4804c2-d6f5-471b-8fd6-ddc54ec242c2",
   "metadata": {},
   "outputs": [
    {
     "ename": "AttributeError",
     "evalue": "'Dataset' object has no attribute 'soil_rechr'",
     "output_type": "error",
     "traceback": [
      "\u001b[0;31m---------------------------------------------------------------------------\u001b[0m",
      "\u001b[0;31mAttributeError\u001b[0m                            Traceback (most recent call last)",
      "Cell \u001b[0;32mIn[3], line 6\u001b[0m\n\u001b[1;32m      4\u001b[0m \u001b[38;5;28;01mfor\u001b[39;00m cm \u001b[38;5;129;01min\u001b[39;00m [\u001b[38;5;124m'\u001b[39m\u001b[38;5;124m01473000\u001b[39m\u001b[38;5;124m'\u001b[39m,\u001b[38;5;124m'\u001b[39m\u001b[38;5;124m05431486\u001b[39m\u001b[38;5;124m'\u001b[39m,\u001b[38;5;124m'\u001b[39m\u001b[38;5;124m09112500\u001b[39m\u001b[38;5;124m'\u001b[39m]:\n\u001b[1;32m      5\u001b[0m     c_path \u001b[38;5;241m=\u001b[39m pl\u001b[38;5;241m.\u001b[39mPath(\u001b[38;5;124mf\u001b[39m\u001b[38;5;124m'\u001b[39m\u001b[38;5;124m../NHM_solutions/nhm_byHWobs_files/\u001b[39m\u001b[38;5;132;01m{\u001b[39;00mcurr_model\u001b[38;5;132;01m}\u001b[39;00m\u001b[38;5;124m'\u001b[39m)\n\u001b[0;32m----> 6\u001b[0m     \u001b[43mpostprocess\u001b[49m\u001b[43m(\u001b[49m\u001b[43mc_path\u001b[49m\u001b[43m,\u001b[49m\u001b[43m \u001b[49m\u001b[38;5;124;43m'\u001b[39;49m\u001b[38;5;124;43m.\u001b[39;49m\u001b[38;5;124;43m'\u001b[39;49m\u001b[43m)\u001b[49m\n",
      "File \u001b[0;32m~/Documents/GIT/hytest/NHM_CAL/nhm_pestpp/notebooks/../scripts/post_process_model_output_fn.py:125\u001b[0m, in \u001b[0;36mpostprocess\u001b[0;34m(rootdir, outvarname, of_name, modoutnc_name)\u001b[0m\n\u001b[1;32m    120\u001b[0m     [ofp\u001b[38;5;241m.\u001b[39mwrite(\u001b[38;5;124mf\u001b[39m\u001b[38;5;124m'\u001b[39m\u001b[38;5;124mg_min_recharge_ann:\u001b[39m\u001b[38;5;132;01m{\u001b[39;00mi\u001b[38;5;132;01m}\u001b[39;00m\u001b[38;5;124m          \u001b[39m\u001b[38;5;132;01m{\u001b[39;00mj\u001b[38;5;132;01m}\u001b[39;00m\u001b[38;5;130;01m\\n\u001b[39;00m\u001b[38;5;124m'\u001b[39m) \u001b[38;5;28;01mfor\u001b[39;00m i,j \u001b[38;5;129;01min\u001b[39;00m \u001b[38;5;28mzip\u001b[39m(inds,varvals)]\n\u001b[1;32m    123\u001b[0m \u001b[38;5;66;03m# ### Post Process \"soil_rechr\" to compare to target\u001b[39;00m\n\u001b[1;32m    124\u001b[0m \u001b[38;5;66;03m# #### Get daily output file from NHM for soil recharge and normalize 0-1\u001b[39;00m\n\u001b[0;32m--> 125\u001b[0m soil_rechr_daily \u001b[38;5;241m=\u001b[39m \u001b[43mmodelobsdat\u001b[49m\u001b[38;5;241;43m.\u001b[39;49m\u001b[43msoil_rechr\u001b[49m\u001b[38;5;241m.\u001b[39msel(time\u001b[38;5;241m=\u001b[39m\u001b[38;5;28mslice\u001b[39m(soil_rechr_start, soil_rechr_end))\n\u001b[1;32m    127\u001b[0m \u001b[38;5;66;03m#Creates a dataframe time series of monthly values (average daily rate for each month, normalized)\u001b[39;00m\n\u001b[1;32m    128\u001b[0m soil_rechr_monthly \u001b[38;5;241m=\u001b[39m soil_rechr_daily\u001b[38;5;241m.\u001b[39mresample(time \u001b[38;5;241m=\u001b[39m \u001b[38;5;124m'\u001b[39m\u001b[38;5;124mm\u001b[39m\u001b[38;5;124m'\u001b[39m)\u001b[38;5;241m.\u001b[39mmean()\n",
      "File \u001b[0;32m~/miniforge3/envs/pws/lib/python3.10/site-packages/xarray/core/common.py:280\u001b[0m, in \u001b[0;36mAttrAccessMixin.__getattr__\u001b[0;34m(self, name)\u001b[0m\n\u001b[1;32m    278\u001b[0m         \u001b[38;5;28;01mwith\u001b[39;00m suppress(\u001b[38;5;167;01mKeyError\u001b[39;00m):\n\u001b[1;32m    279\u001b[0m             \u001b[38;5;28;01mreturn\u001b[39;00m source[name]\n\u001b[0;32m--> 280\u001b[0m \u001b[38;5;28;01mraise\u001b[39;00m \u001b[38;5;167;01mAttributeError\u001b[39;00m(\n\u001b[1;32m    281\u001b[0m     \u001b[38;5;124mf\u001b[39m\u001b[38;5;124m\"\u001b[39m\u001b[38;5;132;01m{\u001b[39;00m\u001b[38;5;28mtype\u001b[39m(\u001b[38;5;28mself\u001b[39m)\u001b[38;5;241m.\u001b[39m\u001b[38;5;18m__name__\u001b[39m\u001b[38;5;132;01m!r}\u001b[39;00m\u001b[38;5;124m object has no attribute \u001b[39m\u001b[38;5;132;01m{\u001b[39;00mname\u001b[38;5;132;01m!r}\u001b[39;00m\u001b[38;5;124m\"\u001b[39m\n\u001b[1;32m    282\u001b[0m )\n",
      "\u001b[0;31mAttributeError\u001b[0m: 'Dataset' object has no attribute 'soil_rechr'"
     ]
    }
   ],
   "source": [
    "postproc_nhm = True\n",
    "\n",
    "if postproc_nhm:\n",
    "    for cm in ['01473000','05431486','09112500']:\n",
    "        print(f'postprocessing {cm}')\n",
    "        c_path = pl.Path(f'../NHM_solutions/nhm_byHWobs_files/{curr_model}')\n",
    "        postprocess(c_path, '.')"
   ]
  },
  {
   "cell_type": "code",
   "execution_count": null,
   "id": "b6f76f65-574e-43db-8abd-31fbce57d876",
   "metadata": {},
   "outputs": [],
   "source": [
    "fig_dir = pl.Path(f'../postprocessing/figures/single_reals/{curr_model}')\n",
    "if not fig_dir.exists():\n",
    "    fig_dir.mkdir(parents=True)"
   ]
  },
  {
   "cell_type": "code",
   "execution_count": null,
   "id": "6977e5e3-90d8-44a0-bee1-1b259bc4a962",
   "metadata": {},
   "outputs": [],
   "source": [
    "res = pd.read_csv(tmp_res_path / f'{curr_root}.0.base.rei', delim_whitespace=True, skiprows=3, index_col=0)\n"
   ]
  },
  {
   "cell_type": "code",
   "execution_count": null,
   "id": "019a4740-1805-4ae2-81eb-eb5ace09c7ec",
   "metadata": {},
   "outputs": [],
   "source": [
    "res = pd.read_csv(tmp_res_path / f'{curr_root}.0.base.rei', delim_whitespace=True, skiprows=3, index_col=0)\n",
    "res.loc[res.Measured<-999, 'Measured'] = np.nan\n",
    "res.sample(5)"
   ]
  },
  {
   "cell_type": "code",
   "execution_count": null,
   "id": "83d904c3-4b3f-4c67-8a00-753d42469802",
   "metadata": {},
   "outputs": [],
   "source": [
    "res.Group.unique()"
   ]
  },
  {
   "cell_type": "code",
   "execution_count": null,
   "id": "c1bf014e-8e19-4f25-a6a9-9a75ae5974d8",
   "metadata": {},
   "outputs": [],
   "source": [
    "cgroup = 'actet_mean_mon'\n",
    "[plot_single_real(res, cgroup, citer, curr_root, fig_dir, curr_model) for cgroup in [\n",
    "    'actet_mean_mon',\n",
    "    'actet_mon',\n",
    "    'recharge_ann',\n",
    "    'soil_moist_mon',\n",
    "    'soil_moist_ann',\n",
    "    'runoff_mon',\n",
    "    'streamflow_daily',\n",
    "    'sreamflow_mean_mon',\n",
    "    'streamflow_mon'\n",
    "]]"
   ]
  },
  {
   "cell_type": "code",
   "execution_count": null,
   "id": "7b1dc984-b533-408d-ac75-5387732f969d",
   "metadata": {},
   "outputs": [],
   "source": []
  },
  {
   "cell_type": "code",
   "execution_count": null,
   "id": "7d7b90ad-49bf-482b-99d9-73d451596529",
   "metadata": {},
   "outputs": [],
   "source": []
  },
  {
   "cell_type": "code",
   "execution_count": null,
   "id": "18ef66e7-94aa-4483-9f13-dc7b79836fcc",
   "metadata": {},
   "outputs": [],
   "source": [
    "\n",
    "\n",
    "\n",
    "\n"
   ]
  }
 ],
 "metadata": {
  "kernelspec": {
   "display_name": "Python 3 (ipykernel)",
   "language": "python",
   "name": "python3"
  },
  "language_info": {
   "codemirror_mode": {
    "name": "ipython",
    "version": 3
   },
   "file_extension": ".py",
   "mimetype": "text/x-python",
   "name": "python",
   "nbconvert_exporter": "python",
   "pygments_lexer": "ipython3",
   "version": "3.10.13"
  }
 },
 "nbformat": 4,
 "nbformat_minor": 5
}
