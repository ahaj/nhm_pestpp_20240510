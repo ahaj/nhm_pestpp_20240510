{
 "cells": [
  {
   "cell_type": "code",
   "execution_count": null,
   "id": "ebeadd5d",
   "metadata": {},
   "outputs": [],
   "source": [
    "import pywatershed\n",
    "import pandas as pd\n",
    "from pathlib import Path as pl\n",
    "import json\n",
    "import numpy as np\n",
    "from pywatershed.parameters.prms_parameters import JSONParameterEncoder\n",
    "\n",
    "import sys\n",
    "sys.path.append('../scripts/')\n",
    "from pest_utils import pars_to_tpl_entries\n",
    "sys.path.append('../dependencies/')\n",
    "import pyemu"
   ]
  },
  {
   "cell_type": "markdown",
   "id": "7fa6def1",
   "metadata": {},
   "source": [
    "## Functions\n",
    "### Creates a function that writes the parameter file as a json file"
   ]
  },
  {
   "cell_type": "code",
   "execution_count": null,
   "id": "8aff9310",
   "metadata": {},
   "outputs": [],
   "source": [
    "def write_to_json_tpl(dims, pars, json_filename):\n",
    "    with open(json_filename, \"w\") as ofp:\n",
    "        ofp.write('ptf ~\\n')\n",
    "        json.dump(\n",
    "            {**dims,\n",
    "            **pars},\n",
    "            ofp,\n",
    "            indent=4,\n",
    "            cls=JSONParameterEncoder,\n",
    "        )\n",
    "    # this sucks - should be a more direct way but whatevs. it verks\n",
    "    inlines = open(json_filename, 'r').readlines()\n",
    "    with open(json_filename, 'w') as ofp:\n",
    "        [ofp.write(i.replace('\"~','~').replace('~\"','~')) for i in inlines]"
   ]
  },
  {
   "cell_type": "markdown",
   "id": "14539676",
   "metadata": {},
   "source": [
    "## We will be running on each cutout eventually, but start with one"
   ]
  },
  {
   "cell_type": "code",
   "execution_count": null,
   "id": "669c2eca",
   "metadata": {},
   "outputs": [],
   "source": [
    "wkdir = pl('../NHM_extractions/20230110_pois_haj/05431486/')"
   ]
  },
  {
   "cell_type": "markdown",
   "id": "38d4e462",
   "metadata": {},
   "source": [
    "## Read in the oldskool parameter file as nested dictionaries, a.k.a. a Json-style file. This file would need to be written as a .txt file like the original myparam.param, unless Joe changes the pyWatershed code to read in the json-style file instead. Check with Mike/Joe.\n",
    "## Eddie and Andy changed the path for this read to the \"starting values\" that Parker gave us for each extraction."
   ]
  },
  {
   "cell_type": "code",
   "execution_count": null,
   "id": "404cb5ae-47ee-4ac5-b466-be9f7a79675c",
   "metadata": {},
   "outputs": [],
   "source": [
    "wkdir"
   ]
  },
  {
   "cell_type": "code",
   "execution_count": null,
   "id": "a01a87ed-7bf4-4f8f-80c6-13b7acee55d3",
   "metadata": {},
   "outputs": [],
   "source": []
  },
  {
   "cell_type": "code",
   "execution_count": null,
   "id": "e19bbb97",
   "metadata": {},
   "outputs": [],
   "source": [
    "####This was made in a previous notebook now\n",
    "#pardat = pywatershed.parameters.PrmsParameters.load(wkdir / \"myparam.param\")#load parameter file from extraction\n",
    "#pardat.parameters_to_json(wkdir /\"parameters.json\")\n"
   ]
  },
  {
   "cell_type": "markdown",
   "id": "320b5d82-0086-4eab-ac2b-177d2b4f95d9",
   "metadata": {},
   "source": [
    "## Now the upper portion making the jason and the lower blocks running the model should be completed prior to the output notebook..or in it."
   ]
  },
  {
   "cell_type": "code",
   "execution_count": null,
   "id": "b10b00a1",
   "metadata": {},
   "outputs": [],
   "source": [
    "pardat = pywatershed.parameters.PrmsParameters.load(wkdir / \"parameters.json\")#load parameter file from extraction\n",
    "pars = pardat.parameters\n",
    "#pars"
   ]
  },
  {
   "cell_type": "code",
   "execution_count": null,
   "id": "471065b9-90fe-4e5d-a5f7-1e58ffc51b61",
   "metadata": {},
   "outputs": [],
   "source": [
    "dims = pardat.dimensions\n",
    "dims"
   ]
  },
  {
   "cell_type": "code",
   "execution_count": null,
   "id": "320ba664-50cf-4b0f-9d73-976072c9f8b1",
   "metadata": {},
   "outputs": [],
   "source": [
    "#Lets check for the pars needed to run NHM model using pyWatershed"
   ]
  },
  {
   "cell_type": "code",
   "execution_count": null,
   "id": "d289666b-a1ac-4a28-9892-5ff15cef5c01",
   "metadata": {},
   "outputs": [],
   "source": [
    "nhm_processes = [\n",
    "    pywatershed.PRMSSolarGeometry,\n",
    "    pywatershed.PRMSAtmosphere,\n",
    "    pywatershed.PRMSCanopy,\n",
    "    pywatershed.PRMSSnow,\n",
    "    pywatershed.PRMSRunoff,\n",
    "    pywatershed.PRMSSoilzone,\n",
    "    pywatershed.PRMSGroundwater,\n",
    "    pywatershed.PRMSChannel,\n",
    "]\n",
    "\n",
    "nhm_params = []\n",
    "for proc in nhm_processes:\n",
    "    nhm_params += proc.get_parameters()"
   ]
  },
  {
   "cell_type": "code",
   "execution_count": null,
   "id": "3c8f85eb-792c-482e-b35c-fd5575661072",
   "metadata": {},
   "outputs": [],
   "source": [
    "nhm_params"
   ]
  },
  {
   "cell_type": "markdown",
   "id": "b08980a0",
   "metadata": {},
   "source": [
    "#### View the keys for \"pars\" --These will be the parameters with values listed in the \"myparam_starting_vals.param\" file of the extraction."
   ]
  },
  {
   "cell_type": "code",
   "execution_count": null,
   "id": "53ae2abc",
   "metadata": {},
   "outputs": [],
   "source": [
    "pars.keys()"
   ]
  },
  {
   "cell_type": "markdown",
   "id": "e5255df8",
   "metadata": {},
   "source": [
    "#### View values of one paramenter"
   ]
  },
  {
   "cell_type": "code",
   "execution_count": null,
   "id": "8347d5ad",
   "metadata": {},
   "outputs": [],
   "source": [
    "pars['nhm_id']"
   ]
  },
  {
   "cell_type": "markdown",
   "id": "3e920a25",
   "metadata": {},
   "source": [
    "## Create a PEST template file version of json-style of myparam_starting_vals.param, \"pars\""
   ]
  },
  {
   "cell_type": "code",
   "execution_count": null,
   "id": "2d4b7ac7",
   "metadata": {},
   "outputs": [],
   "source": [
    "# Make a list of hrus from \"pars\"\n",
    "hrus = pars['nhm_id']\n",
    "hrus"
   ]
  },
  {
   "cell_type": "code",
   "execution_count": null,
   "id": "e6cc0dcd",
   "metadata": {},
   "outputs": [],
   "source": [
    "segs = pars['nhm_seg']\n",
    "segs"
   ]
  },
  {
   "cell_type": "markdown",
   "id": "d955949a",
   "metadata": {},
   "source": [
    "### Run through all the currently-defined parameters, and using Mike's function \"pars_to_tpl_entries()\", write param stating values to a new dataframe \"par_starting_vals\""
   ]
  },
  {
   "cell_type": "code",
   "execution_count": null,
   "id": "291060d3",
   "metadata": {},
   "outputs": [],
   "source": [
    "# Create empty dataframe with columns parname (pestpp param name) and parval1 (pestpp starting value)\n",
    "par_starting_vals = pd.DataFrame(columns=['parname','parval1', 'parubnd','parlbnd'])"
   ]
  },
  {
   "cell_type": "code",
   "execution_count": null,
   "id": "5b383006",
   "metadata": {},
   "outputs": [],
   "source": [
    "par_starting_vals"
   ]
  },
  {
   "cell_type": "code",
   "execution_count": null,
   "id": "b410a6c2",
   "metadata": {},
   "outputs": [],
   "source": [
    "par_starting_vals = pars_to_tpl_entries(pars, 'adjmix_rain', hrus, segs, par_starting_vals, hru_based=True, \n",
    "                    seg_based=False, month_based=True)\n",
    "par_starting_vals = pars_to_tpl_entries(pars, 'carea_max', hrus, segs, par_starting_vals, hru_based=True, \n",
    "                    seg_based=False, month_based=False)\n",
    "par_starting_vals = pars_to_tpl_entries(pars, 'cecn_coef', hrus, segs, par_starting_vals, hru_based=True, \n",
    "                    seg_based=False, month_based=True)\n",
    "par_starting_vals = pars_to_tpl_entries(pars, 'emis_noppt', hrus, segs, par_starting_vals, hru_based=True, \n",
    "                    seg_based=False, month_based=False)\n",
    "par_starting_vals = pars_to_tpl_entries(pars, 'fastcoef_lin', hrus, segs, par_starting_vals, hru_based=True, \n",
    "                    seg_based=False, month_based=False)\n",
    "par_starting_vals = pars_to_tpl_entries(pars, 'freeh2o_cap', hrus, segs, par_starting_vals, hru_based=True, \n",
    "                    seg_based=False, month_based=False)\n",
    "par_starting_vals = pars_to_tpl_entries(pars, 'gwflow_coef', hrus, segs, par_starting_vals, hru_based=True, \n",
    "                    seg_based=False, month_based=False)\n",
    "par_starting_vals = pars_to_tpl_entries(pars, 'jh_coef', hrus, segs, par_starting_vals, hru_based=True, \n",
    "                    seg_based=False, month_based=True)\n",
    "par_starting_vals = pars_to_tpl_entries(pars, 'mann_n', hrus, segs, par_starting_vals, hru_based=False, \n",
    "                    seg_based=True, month_based=False)\n",
    "par_starting_vals = pars_to_tpl_entries(pars, 'potet_sublim', hrus, segs, par_starting_vals, hru_based=True, \n",
    "                    seg_based=False, month_based=False)\n",
    "par_starting_vals = pars_to_tpl_entries(pars, 'rad_trncf', hrus, segs, par_starting_vals, hru_based=True, \n",
    "                    seg_based=False, month_based=False)\n",
    "par_starting_vals = pars_to_tpl_entries(pars, 'radmax', hrus, segs, par_starting_vals, hru_based=True, \n",
    "                    seg_based=False, month_based=True)\n",
    "par_starting_vals = pars_to_tpl_entries(pars, 'rain_cbh_adj', hrus, segs, par_starting_vals, hru_based=True, \n",
    "                    seg_based=False, month_based=True)\n",
    "par_starting_vals = pars_to_tpl_entries(pars, 'slowcoef_sq', hrus, segs, par_starting_vals, hru_based=True, \n",
    "                    seg_based=False, month_based=False)\n",
    "par_starting_vals = pars_to_tpl_entries(pars, 'smidx_coef', hrus, segs, par_starting_vals, hru_based=True, \n",
    "                    seg_based=False, month_based=False)\n",
    "par_starting_vals = pars_to_tpl_entries(pars, 'snarea_thresh', hrus, segs, par_starting_vals, hru_based=True, \n",
    "                    seg_based=False, month_based=False)\n",
    "par_starting_vals = pars_to_tpl_entries(pars, 'snowinfil_max', hrus, segs, par_starting_vals, hru_based=True, \n",
    "                    seg_based=False, month_based=False)\n",
    "par_starting_vals = pars_to_tpl_entries(pars, 'snow_cbh_adj', hrus, segs, par_starting_vals, hru_based=True, \n",
    "                    seg_based=False, month_based=True)\n",
    "par_starting_vals = pars_to_tpl_entries(pars, 'soil2gw_max', hrus, segs, par_starting_vals, hru_based=True, \n",
    "                    seg_based=False, month_based=False)\n",
    "par_starting_vals = pars_to_tpl_entries(pars, 'soil_moist_max', hrus, segs, par_starting_vals, hru_based=True, \n",
    "                    seg_based=False, month_based=False)\n",
    "par_starting_vals = pars_to_tpl_entries(pars, 'soil_rechr_max_frac', hrus, segs, par_starting_vals, hru_based=True, \n",
    "                    seg_based=False, month_based=False)\n",
    "par_starting_vals = pars_to_tpl_entries(pars, 'ssr2gw_exp', hrus, segs, par_starting_vals, hru_based=True, \n",
    "                    seg_based=False, month_based=False)\n",
    "par_starting_vals = pars_to_tpl_entries(pars, 'ssr2gw_rate', hrus, segs, par_starting_vals, hru_based=True, \n",
    "                    seg_based=False, month_based=False)\n",
    "par_starting_vals = pars_to_tpl_entries(pars, 'tmax_allrain_offset', hrus, segs, par_starting_vals, hru_based=True, \n",
    "                    seg_based=False, month_based=True)\n",
    "par_starting_vals = pars_to_tpl_entries(pars, 'tmax_allsnow', hrus, segs, par_starting_vals, hru_based=True, \n",
    "                    seg_based=False, month_based=True)\n",
    "par_starting_vals = pars_to_tpl_entries(pars, 'tmax_cbh_adj', hrus, segs, par_starting_vals, hru_based=True, \n",
    "                    seg_based=False, month_based=True)\n",
    "par_starting_vals = pars_to_tpl_entries(pars, 'tmin_cbh_adj', hrus, segs, par_starting_vals, hru_based=True, \n",
    "                    seg_based=False, month_based=True)\n"
   ]
  },
  {
   "cell_type": "code",
   "execution_count": null,
   "id": "1d23d043-89d5-4d31-b8ed-a75980cd3c4a",
   "metadata": {},
   "outputs": [],
   "source": [
    "par_starting_vals"
   ]
  },
  {
   "cell_type": "code",
   "execution_count": null,
   "id": "e085369a",
   "metadata": {},
   "outputs": [],
   "source": [
    "par_starting_vals.set_index('parname', inplace =True, drop = False)\n",
    "par_starting_vals"
   ]
  },
  {
   "cell_type": "code",
   "execution_count": null,
   "id": "c4fc56d4-7bc8-4bd4-9993-f32b484bf519",
   "metadata": {},
   "outputs": [],
   "source": [
    "#Set values for upper and lower bounds\n"
   ]
  },
  {
   "cell_type": "markdown",
   "id": "6e5f7c65",
   "metadata": {},
   "source": [
    "### once we have all the parameter arrays replaced by names, we can write out the template file"
   ]
  },
  {
   "cell_type": "code",
   "execution_count": null,
   "id": "012dff40",
   "metadata": {},
   "outputs": [],
   "source": [
    "write_to_json_tpl(dims, pars, wkdir / 'parameters.json.tpl')\n",
    "par_starting_vals.to_csv(wkdir / 'starting_par_vals.dat', index=None, sep=' ')"
   ]
  },
  {
   "cell_type": "markdown",
   "id": "1f55120f",
   "metadata": {},
   "source": [
    "### Map observation name to the Instruction File (.ins)"
   ]
  },
  {
   "cell_type": "code",
   "execution_count": null,
   "id": "0f623d05",
   "metadata": {},
   "outputs": [],
   "source": [
    "obsvals = pd.read_csv(wkdir / 'allobs.dat', delim_whitespace= True)\n",
    "obsvals.set_index('obsname', inplace =True, drop = False)\n",
    "#obsvals.sample(5)\n",
    "print(obsvals)\n",
    "print('The values for \"obsval\" are the true observation values.')"
   ]
  },
  {
   "cell_type": "code",
   "execution_count": null,
   "id": "d63ed39f",
   "metadata": {},
   "outputs": [],
   "source": [
    "with open(wkdir /'modelobs.dat.ins', 'w') as ofp:\n",
    "    ofp.write('pif ~\\n')\n",
    "    ofp.write('~obsval~\\n')\n",
    "    [ofp.write(f'l1 w !{i}!\\n') for i in obsvals.obsname]"
   ]
  },
  {
   "cell_type": "code",
   "execution_count": null,
   "id": "893794d0-43f3-4e03-9750-c03ffc08ea83",
   "metadata": {},
   "outputs": [],
   "source": [
    "\n"
   ]
  },
  {
   "cell_type": "markdown",
   "id": "bacce5df",
   "metadata": {},
   "source": [
    "### create PST control file object with `pyemu`"
   ]
  },
  {
   "cell_type": "code",
   "execution_count": null,
   "id": "27156d14",
   "metadata": {},
   "outputs": [],
   "source": [
    "pst = pyemu.Pst.from_io_files(tpl_files = [str(wkdir / 'parameters.json.tpl')],\n",
    "                              in_files=[str(wkdir / 'parameters.json')],# Values for parval1 and bnds will be populated with default values\n",
    "                              ins_files = [str(wkdir / 'modelobs.dat.ins')],\n",
    "                              out_files = [str(wkdir / 'modelobs.dat')], #names the model output file in the control file (prior_mc.pst)--Chk with Mike\n",
    "                              pst_path = '.')\n",
    "#Ask Mike if pyemu reads in the values for the obs from the modelobs.dat file"
   ]
  },
  {
   "cell_type": "markdown",
   "id": "a06e1307-f330-40ac-97bf-aca3265c89eb",
   "metadata": {},
   "source": [
    "## Direct editing of the PEST parameter file"
   ]
  },
  {
   "cell_type": "code",
   "execution_count": null,
   "id": "966ebfad",
   "metadata": {},
   "outputs": [],
   "source": [
    "pars = pst.parameter_data\n",
    "#pars\n",
    "#Note the param.param file contained values calibrated already, so we will replace parval1 with precal starting values"
   ]
  },
  {
   "cell_type": "code",
   "execution_count": null,
   "id": "8561f384-a6e6-4bbf-b94f-8b3baa977584",
   "metadata": {},
   "outputs": [],
   "source": [
    "pars"
   ]
  },
  {
   "cell_type": "code",
   "execution_count": null,
   "id": "0c74b33a-23df-4811-83b3-ef7fcc1f6b45",
   "metadata": {},
   "outputs": [],
   "source": [
    "#pars.loc['adjmix_rain:hru_5621:mon_1','parval1'] = 987236\n",
    "#pst.parameter_data\n"
   ]
  },
  {
   "cell_type": "markdown",
   "id": "b150b740-62ef-48ae-92e3-147f4b788830",
   "metadata": {},
   "source": [
    "### Copy parval1 from \"par_starting_vals\" to pars.parval1 "
   ]
  },
  {
   "cell_type": "code",
   "execution_count": null,
   "id": "9ba15363-bef4-4f11-9c37-12aae0ee2dfb",
   "metadata": {},
   "outputs": [],
   "source": [
    "for idx, row in pars.iterrows():\n",
    "    pars.loc[pars.parnme,'parval1'] = par_starting_vals.loc[pars.parnme,'parval1']\n"
   ]
  },
  {
   "cell_type": "code",
   "execution_count": null,
   "id": "9c5c9dcb-46a0-4d94-9535-ed1391ee7dfb",
   "metadata": {},
   "outputs": [],
   "source": [
    "pars"
   ]
  },
  {
   "cell_type": "markdown",
   "id": "ae181533-d1c2-4760-beac-8d58e5f35c3b",
   "metadata": {},
   "source": [
    "### Copy upper and lower bounds from par_cal_bounds_use.csv to par.parubnd and par.parlbnd"
   ]
  },
  {
   "cell_type": "code",
   "execution_count": null,
   "id": "290f35d5-f9c4-4b95-a2e8-41ba967aee1f",
   "metadata": {},
   "outputs": [],
   "source": [
    "bnds_path = '../Supporting_information/par_cal_bounds_use.csv'\n",
    "bnds = pd.read_csv(bnds_path) # Creates a data frame of the bounds for par catagories"
   ]
  },
  {
   "cell_type": "code",
   "execution_count": null,
   "id": "4973c418-e9f0-49c4-a49c-1fabd7f32bf7",
   "metadata": {},
   "outputs": [],
   "source": [
    "bnds.set_index('parameter_name', inplace =True, drop = False)\n",
    "#bnds"
   ]
  },
  {
   "cell_type": "code",
   "execution_count": null,
   "id": "6375f48d-e2f7-49bc-9895-268a3758f1c3",
   "metadata": {},
   "outputs": [],
   "source": [
    "prms_parnme_list =bnds['parameter_name']# Make a list of the nhm par names for loops below"
   ]
  },
  {
   "cell_type": "code",
   "execution_count": null,
   "id": "18793ad5-4d27-4e49-8bcd-f492f68221f4",
   "metadata": {},
   "outputs": [],
   "source": [
    "for idx, row in pars.iterrows():\n",
    "    for i in prms_parnme_list:\n",
    "        pst_parnme = str(row.parnme)\n",
    "        prms_parnme = prms_parnme_list[i]\n",
    "        x = pst_parnme.startswith(prms_parnme)# Just a yes not response to if the pst parname starts with the root in \"\".\n",
    "        if x :\n",
    "            pars.loc[pst_parnme,'parubnd'] = bnds.loc[prms_parnme,'par_upper_bound']\n",
    "            pars.loc[pst_parnme,'parlbnd'] = bnds.loc[prms_parnme,'par_lower_bound']"
   ]
  },
  {
   "cell_type": "markdown",
   "id": "ee12b45f-de06-460b-9712-ead106ff4f8e",
   "metadata": {},
   "source": [
    "### we can't log transform negative parameter values"
   ]
  },
  {
   "cell_type": "code",
   "execution_count": null,
   "id": "786bf124-4059-4e2b-b31f-7f6ad8605cc7",
   "metadata": {},
   "outputs": [],
   "source": [
    "pars.loc[pars.parlbnd<=0, 'partrans'] = 'none'"
   ]
  },
  {
   "cell_type": "code",
   "execution_count": null,
   "id": "2b1a99da-330a-46a7-98c7-e68f8f3588fa",
   "metadata": {},
   "outputs": [],
   "source": [
    "### obs.loc[obsvals.obsname, 'obsval'] = obsvals.obsval.values"
   ]
  },
  {
   "cell_type": "markdown",
   "id": "0aeb27eb-a6d9-4119-8d83-03a3f6e0df44",
   "metadata": {},
   "source": [
    "#### Set obsval in the \"pst.observation_data\" frame back to the true observation value"
   ]
  },
  {
   "cell_type": "code",
   "execution_count": null,
   "id": "05937510",
   "metadata": {},
   "outputs": [],
   "source": [
    "obs = pst.observation_data #This pulls the \"observation data\" from the pst dataframe and sets it to the \"obs\" object (dataframe)"
   ]
  },
  {
   "cell_type": "code",
   "execution_count": null,
   "id": "a595366f-0973-4c41-967a-727ddc04fbf9",
   "metadata": {},
   "outputs": [],
   "source": [
    "#obs.loc[obs.obsnme, :]"
   ]
  },
  {
   "cell_type": "code",
   "execution_count": null,
   "id": "c36666ac-d87c-47da-bd13-85abe776ccfe",
   "metadata": {},
   "outputs": [],
   "source": [
    "obs.loc[obs.obsnme =='actet_mon:2000_1:5621',:] # This is the value in the modelobs.dat file?"
   ]
  },
  {
   "cell_type": "code",
   "execution_count": null,
   "id": "19e0ceea-f2a4-45dc-aa45-c29e515e032a",
   "metadata": {},
   "outputs": [],
   "source": [
    "obsvals.loc[obsvals.obsname =='actet_mon:2000_1:5621',:]"
   ]
  },
  {
   "cell_type": "code",
   "execution_count": null,
   "id": "ed908fe3",
   "metadata": {},
   "outputs": [],
   "source": [
    "#obs = obs.loc[obsvals.obsname,:] #resorts datframe for easy in reading"
   ]
  },
  {
   "cell_type": "code",
   "execution_count": null,
   "id": "63643eb6",
   "metadata": {},
   "outputs": [],
   "source": [
    "obs.loc[obsvals.obsname, 'obsval'] = obsvals.obsval.values #True observation value is copied over to obs\n",
    "obs"
   ]
  },
  {
   "cell_type": "code",
   "execution_count": null,
   "id": "a012bdec-fd5a-4d20-8e26-cb01e5bd5308",
   "metadata": {},
   "outputs": [],
   "source": [
    "obs.loc[obs.obsnme =='actet_mon:2000_1:5621',:] # Check for change"
   ]
  },
  {
   "cell_type": "code",
   "execution_count": null,
   "id": "cad957b0",
   "metadata": {},
   "outputs": [],
   "source": [
    "#Set all weights for no data days in obs to \"0.\"\n",
    "obs.loc[obs.obsval==-9999,'weight'] = 0\n",
    "obs"
   ]
  },
  {
   "cell_type": "markdown",
   "id": "c912214d",
   "metadata": {},
   "source": [
    "#### Creating Groups observations"
   ]
  },
  {
   "cell_type": "code",
   "execution_count": null,
   "id": "b93f650d",
   "metadata": {},
   "outputs": [],
   "source": [
    "obs.loc[obs.obsnme.str.startswith('actet_mon'),'obgnme'] = 'actet_mon'\n",
    "obs.loc[obs.obsnme.str.startswith('actet_mean_mon'),'obgnme'] = 'actet_mean_mon'\n",
    "obs.loc[obs.obsnme.str.startswith('recharge_ann'),'obgnme'] = 'recharge_ann'\n",
    "obs.loc[obs.obsnme.str.startswith('soil_moist_mon'),'obgnme'] = 'soil_moist_mon'\n",
    "obs.loc[obs.obsnme.str.startswith('soil_moist_ann'),'obgnme'] = 'soil_moist_ann'\n",
    "obs.loc[obs.obsnme.str.startswith('runoff_mon'),'obgnme'] = 'runoff_mon'\n",
    "obs.loc[obs.obsnme.str.startswith('sca_daily'),'obgnme'] = 'sca_daily'\n",
    "#obs.loc[obs.obsnme.str.startswith('streamflow_daily'),'obgnme'] = 'streamflow_daily'\n",
    "\n",
    "# Create EFC Groups for daily streamflows\n",
    "# streamflow_daily is followed by a suffix: \"efc\"_\"high_low\" integers\n",
    "# efc [1, 2, 3, 4, 5] are ['Large flood', 'Small flood', 'High flow pulse', 'Low flow', 'Extreme low flow']\n",
    "# high_low [1, 2, 3] are ['Low flow', 'Ascending limb', 'Descending limb']\n",
    "# Pest++ group names were written with flows in mind.\n",
    "\n",
    "obs.loc[obs.obsnme.str.startswith('streamflow_daily_1_2'),'obgnme'] = 'streamflow_daily_large_asc'\n",
    "obs.loc[obs.obsnme.str.startswith('streamflow_daily_1_3'),'obgnme'] = 'streamflow_daily_large_dsc'\n",
    "obs.loc[obs.obsnme.str.startswith('streamflow_daily_2_2'),'obgnme'] = 'streamflow_daily_small_asc'\n",
    "obs.loc[obs.obsnme.str.startswith('streamflow_daily_2_3'),'obgnme'] = 'streamflow_daily_small_dsc'\n",
    "obs.loc[obs.obsnme.str.startswith('streamflow_daily_3_2'),'obgnme'] = 'streamflow_daily_pulse_asc'\n",
    "obs.loc[obs.obsnme.str.startswith('streamflow_daily_3_3'),'obgnme'] = 'streamflow_daily_pulse_dsc'\n",
    "obs.loc[obs.obsnme.str.startswith('streamflow_daily_4_1'),'obgnme'] = 'streamflow_daily_low'\n",
    "obs.loc[obs.obsnme.str.startswith('streamflow_daily_5_1'),'obgnme'] = 'streamflow_daily_exlow'\n",
    "\n",
    "#Special group for no flow\n",
    "obs.loc[obs.obsnme.str.startswith('streamflow_daily_-9999_-9999'),'obgnme'] = 'streamflow_nodata'\n",
    "\n",
    "obs.loc[obs.obsnme.str.startswith('streamflow_mon'),'obgnme'] = 'streamflow_mon'\n",
    "obs.loc[obs.obsnme.str.startswith('streamflow_mean_mon'),'obgnme'] = 'streamflow_mean_mon'\n",
    "obs.sample(30)"
   ]
  },
  {
   "cell_type": "code",
   "execution_count": null,
   "id": "0901a06e-a546-4c2b-be14-9396fa2327ed",
   "metadata": {},
   "outputs": [],
   "source": [
    "obs['obgnme'].unique()"
   ]
  },
  {
   "cell_type": "code",
   "execution_count": null,
   "id": "11e078f7-bcde-441b-ae9c-033b66163383",
   "metadata": {},
   "outputs": [],
   "source": [
    "#Set weights for groups\"\n",
    "obs.loc[obs.obgnme=='actet_mean_mon','weight'] = 3.0E+04\n",
    "obs.loc[obs.obgnme=='actet_mon','weight'] = 0.75E+04\n",
    "obs.loc[obs.obgnme=='recharge_ann','weight'] = 0.4E+04\n",
    "obs.loc[obs.obgnme=='soil_moist_ann','weight'] = 2.5E+03\n",
    "obs.loc[obs.obgnme=='soil_moist_mon','weight'] = 8E+02\n",
    "obs.loc[obs.obgnme=='sca_daily','weight'] = 3E-03\n",
    "obs.loc[obs.obgnme=='runoff_mon','weight'] = 7\n",
    "\n",
    "obs.loc[obs.obgnme=='streamflow_daily_exlow','weight'] = 6\n",
    "obs.loc[obs.obgnme=='streamflow_daily_low','weight'] = 1.25\n",
    "obs.loc[obs.obgnme=='streamflow_daily_pulse_asc','weight'] = 0.25\n",
    "obs.loc[obs.obgnme=='streamflow_daily_pulse_dsc','weight'] = 0.3\n",
    "obs.loc[obs.obgnme=='streamflow_daily_small_asc','weight'] = 0.5\n",
    "obs.loc[obs.obgnme=='streamflow_daily_small_dsc','weight'] = .7\n",
    "obs.loc[obs.obgnme=='streamflow_daily_large_asc','weight'] = 20\n",
    "obs.loc[obs.obgnme=='streamflow_daily_large_dsc','weight'] = 1\n",
    "\n",
    "obs.loc[obs.obgnme=='streamflow_nodata','weight'] = 0\n",
    "\n",
    "obs.loc[obs.obgnme=='streamflow_mean_mon','weight'] = 10\n",
    "obs.loc[obs.obgnme=='streamflow_mon','weight'] = 2.75\n",
    "\n",
    "obs"
   ]
  },
  {
   "cell_type": "code",
   "execution_count": null,
   "id": "164a1498",
   "metadata": {},
   "outputs": [],
   "source": [
    "# copy the updated obs information back to pst\n",
    "pst.observation_data = obs.copy()\n",
    "pst.observation_data"
   ]
  },
  {
   "cell_type": "code",
   "execution_count": null,
   "id": "9541376a-b391-4110-97b3-0c5d48f11657",
   "metadata": {},
   "outputs": [],
   "source": []
  },
  {
   "cell_type": "code",
   "execution_count": null,
   "id": "71ef1493-014f-478e-a92c-cb9860d41ef9",
   "metadata": {},
   "outputs": [],
   "source": []
  },
  {
   "cell_type": "markdown",
   "id": "68e5d36c-8cda-4acd-bafd-5a9114bae7f5",
   "metadata": {},
   "source": [
    "# consolidate the run scripts into a single script"
   ]
  },
  {
   "cell_type": "code",
   "execution_count": null,
   "id": "eac37b40-28c7-48e2-825a-7b61ae2a6f1f",
   "metadata": {},
   "outputs": [],
   "source": [
    "imports = [i.strip() for i in open(wkdir / 'run-pynhm.py', 'r').readlines() if i.strip().startswith('import')]\n",
    "imports.extend([i.strip() for i in open('../scripts/post-process_model_output.py', 'r').readlines() if i.strip().startswith('import')])\n",
    "\n",
    "runbiz = [i.rstrip() for i in open(wkdir / 'run-pynhm.py', 'r').readlines() if not i.strip().startswith('import')]\n",
    "runbiz.append('print(\"#### RUN DONE, TIME TO POSTPROCESS ####\")')\n",
    "runbiz.extend([i.rstrip() for i in open('../scripts/post-process_model_output.py', 'r').readlines() if not i.strip().startswith('import')])\n"
   ]
  },
  {
   "cell_type": "code",
   "execution_count": null,
   "id": "174858ba-16ee-40ed-a566-61c0ef3b78a2",
   "metadata": {},
   "outputs": [],
   "source": [
    "runbiz"
   ]
  },
  {
   "cell_type": "code",
   "execution_count": null,
   "id": "55d275cd-89c8-4b56-9b30-666920aa6859",
   "metadata": {},
   "outputs": [],
   "source": [
    "# dedupe the imports\n",
    "imports = list(set(imports))\n"
   ]
  },
  {
   "cell_type": "markdown",
   "id": "bd1d9b0d-b512-4ee5-950f-39325d683c9a",
   "metadata": {},
   "source": [
    "### now write out all the forward run stuff"
   ]
  },
  {
   "cell_type": "code",
   "execution_count": null,
   "id": "d2c16cb5-15f8-462b-9881-cae24ac64d24",
   "metadata": {},
   "outputs": [],
   "source": [
    "with open(wkdir / 'forward_run.py', 'w') as ofp:\n",
    "    [ofp.write(f'{line}\\n') for line in imports+runbiz]"
   ]
  },
  {
   "cell_type": "markdown",
   "id": "cddfd9a4-60b2-4898-b46d-c76336ee6766",
   "metadata": {},
   "source": [
    "### and set the consolidated forward_run.py file to the pst object"
   ]
  },
  {
   "cell_type": "code",
   "execution_count": null,
   "id": "093b07cd-4d9d-4092-980a-bca985796f24",
   "metadata": {},
   "outputs": [],
   "source": [
    "pst.model_command = ['python forward_run.py']"
   ]
  },
  {
   "cell_type": "code",
   "execution_count": null,
   "id": "5a8358e4-b580-45ed-a02b-dc8918c73dcc",
   "metadata": {},
   "outputs": [],
   "source": [
    "pst.control_data.noptmax=0"
   ]
  },
  {
   "cell_type": "markdown",
   "id": "1bb9c927-7789-40d9-ac15-864aaf3f4770",
   "metadata": {},
   "source": [
    "### set some PEST++ specific parmeters"
   ]
  },
  {
   "cell_type": "code",
   "execution_count": null,
   "id": "2af53650-a76e-46f5-8a85-fc37e2fb6bc0",
   "metadata": {},
   "outputs": [],
   "source": [
    "pst.pestpp_options[\"ies_num_reals\"] = 500  \n",
    "\n",
    "pst.pestpp_options[\"ies_bad_phi_sigma\"] = 2.5\n",
    "pst.pestpp_options[\"overdue_giveup_fac\"] = 4\n",
    "pst.pestpp_options[\"ies_no_noise\"] = True\n",
    "pst.pestpp_options[\"ies_drop_conflicts\"] = False\n",
    "pst.pestpp_options[\"ies_pdc_sigma_distance\"] = 3.0\n",
    "pst.pestpp_options['ies_autoadaloc']=False\n",
    "pst.pestpp_options['ies_num_threads']=4\n",
    "pst.pestpp_options['ies_lambda_mults']=(0.1,1.0,10.0,100.0)\n",
    "pst.pestpp_options['lambda_scale_fac'] = (0.75,0.9,1.0,1.1)\n",
    "pst.pestpp_options['ies_subset_size']=10\n",
    "\n",
    "# set SVD for some regularization\n",
    "pst.svd_data.maxsing = 250"
   ]
  },
  {
   "cell_type": "code",
   "execution_count": null,
   "id": "9153375a",
   "metadata": {},
   "outputs": [],
   "source": [
    "pst.write(str(wkdir / 'prior_mc.pst'))"
   ]
  },
  {
   "cell_type": "code",
   "execution_count": null,
   "id": "81a6f5bd",
   "metadata": {},
   "outputs": [],
   "source": [
    "pst.write(str(wkdir / 'prior_mc_better.pst'), version=2)"
   ]
  },
  {
   "cell_type": "code",
   "execution_count": null,
   "id": "284942b8",
   "metadata": {},
   "outputs": [],
   "source": []
  },
  {
   "cell_type": "code",
   "execution_count": null,
   "id": "a8acade9-18d0-41c1-bb85-a9bc786346b0",
   "metadata": {},
   "outputs": [],
   "source": [
    "pars\n"
   ]
  },
  {
   "cell_type": "code",
   "execution_count": null,
   "id": "001db1be-5ac0-405f-9c07-8d3b900c95bc",
   "metadata": {},
   "outputs": [],
   "source": [
    "pars.loc[pars.parnme.str.startswith('carea')\n",
    "]"
   ]
  },
  {
   "cell_type": "code",
   "execution_count": null,
   "id": "44e427ba-b812-447d-8240-0f035ed123f5",
   "metadata": {},
   "outputs": [],
   "source": [
    "pst\n"
   ]
  }
 ],
 "metadata": {
  "kernelspec": {
   "display_name": "Python 3 (ipykernel)",
   "language": "python",
   "name": "python3"
  },
  "language_info": {
   "codemirror_mode": {
    "name": "ipython",
    "version": 3
   },
   "file_extension": ".py",
   "mimetype": "text/x-python",
   "name": "python",
   "nbconvert_exporter": "python",
   "pygments_lexer": "ipython3",
   "version": "3.10.12"
  }
 },
 "nbformat": 4,
 "nbformat_minor": 5
}
