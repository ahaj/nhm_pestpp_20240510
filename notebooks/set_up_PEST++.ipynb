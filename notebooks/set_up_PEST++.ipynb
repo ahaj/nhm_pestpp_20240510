{
 "cells": [
  {
   "cell_type": "code",
   "execution_count": null,
   "id": "ebeadd5d",
   "metadata": {},
   "outputs": [],
   "source": [
    "import pywatershed\n",
    "import pandas as pd\n",
    "from pathlib import Path as pl\n",
    "import json\n",
    "import numpy as np\n",
    "from pywatershed.utils.parameters import JSONParameterEncoder\n",
    "import sys\n",
    "sys.path.append('../scripts/')\n",
    "from pest_utils import pars_to_tpl_entries\n",
    "sys.path.append('../dependencies/')\n",
    "import pyemu"
   ]
  },
  {
   "cell_type": "markdown",
   "id": "7fa6def1",
   "metadata": {},
   "source": [
    "## Functions\n",
    "### Creates a function that writes the parameter file as a json file"
   ]
  },
  {
   "cell_type": "code",
   "execution_count": null,
   "id": "8aff9310",
   "metadata": {},
   "outputs": [],
   "source": [
    "def write_to_json_tpl(pars, json_filename):\n",
    "    with open(json_filename, \"w\") as ofp:\n",
    "        ofp.write('ptf ~\\n')\n",
    "        json.dump(\n",
    "            pars,\n",
    "            ofp,\n",
    "            indent=4,\n",
    "            cls=JSONParameterEncoder,\n",
    "        )\n",
    "    # this sucks - should be a more direct way but whatevs. it verks\n",
    "    inlines = open(json_filename, 'r').readlines()\n",
    "    with open(json_filename, 'w') as ofp:\n",
    "        [ofp.write(i.replace('\"~','~').replace('~\"','~')) for i in inlines]"
   ]
  },
  {
   "cell_type": "markdown",
   "id": "14539676",
   "metadata": {},
   "source": [
    "## We will be running on each cutout eventually, but start with one"
   ]
  },
  {
   "cell_type": "code",
   "execution_count": null,
   "id": "669c2eca",
   "metadata": {},
   "outputs": [],
   "source": [
    "wkdir = pl('../NHM_extractions/20230110_pois_haj/01473000/')"
   ]
  },
  {
   "cell_type": "markdown",
   "id": "38d4e462",
   "metadata": {},
   "source": [
    "## Read in the oldskool parameter file as nested dictionaries, a.k.a. a Json-style file. This file would need to be written as a .txt file like the original myparam.param, unless Joe changes the pyWatershed code to read in the json-style file instead. Check with Mike/Joe."
   ]
  },
  {
   "cell_type": "code",
   "execution_count": null,
   "id": "e19bbb97",
   "metadata": {},
   "outputs": [],
   "source": [
    "pardat = pywatershed.parameters.PrmsParameters.load(wkdir / \"myparam.param\")#load parameter file from extraction"
   ]
  },
  {
   "cell_type": "code",
   "execution_count": null,
   "id": "b10b00a1",
   "metadata": {},
   "outputs": [],
   "source": [
    "pars = pardat.parameters\n",
    "pars"
   ]
  },
  {
   "cell_type": "markdown",
   "id": "b08980a0",
   "metadata": {},
   "source": [
    "#### View the keys for \"pars\" --These will be the parameters with values listed in the \"myparam.param\" file of the extraction."
   ]
  },
  {
   "cell_type": "code",
   "execution_count": null,
   "id": "53ae2abc",
   "metadata": {},
   "outputs": [],
   "source": [
    "pars.keys()"
   ]
  },
  {
   "cell_type": "markdown",
   "id": "e5255df8",
   "metadata": {},
   "source": [
    "#### View values of one paramenter"
   ]
  },
  {
   "cell_type": "code",
   "execution_count": null,
   "id": "8347d5ad",
   "metadata": {},
   "outputs": [],
   "source": [
    "pars['nhm_id']"
   ]
  },
  {
   "cell_type": "markdown",
   "id": "3e920a25",
   "metadata": {},
   "source": [
    "## Create a PEST template file version of json-style of myparam.param, \"pars\""
   ]
  },
  {
   "cell_type": "code",
   "execution_count": null,
   "id": "2d4b7ac7",
   "metadata": {},
   "outputs": [],
   "source": [
    "# Make a list of hrus from \"pars\"\n",
    "hrus = pars['nhm_id']\n",
    "hrus"
   ]
  },
  {
   "cell_type": "code",
   "execution_count": null,
   "id": "e6cc0dcd",
   "metadata": {},
   "outputs": [],
   "source": [
    "segs = pars['nhm_seg']\n",
    "segs"
   ]
  },
  {
   "cell_type": "markdown",
   "id": "d955949a",
   "metadata": {},
   "source": [
    "### Run through all the currently-defined parameters, and using Mike's function \"pars_to_tpl_entries()\", write param stating values to a new dataframe \"par_starting_vals\""
   ]
  },
  {
   "cell_type": "code",
   "execution_count": null,
   "id": "291060d3",
   "metadata": {},
   "outputs": [],
   "source": [
    "# Create empty dataframe with columns parname (pestpp param name) and parval1 (pestpp starting value)\n",
    "par_starting_vals = pd.DataFrame(columns=['parname','parval1'])"
   ]
  },
  {
   "cell_type": "code",
   "execution_count": null,
   "id": "5b383006",
   "metadata": {},
   "outputs": [],
   "source": [
    "#par_starting_vals"
   ]
  },
  {
   "cell_type": "code",
   "execution_count": null,
   "id": "b410a6c2",
   "metadata": {},
   "outputs": [],
   "source": [
    "par_starting_vals = pars_to_tpl_entries(pars, 'adjmix_rain', hrus, segs, par_starting_vals, hru_based=True, \n",
    "                    seg_based=False, month_based=True)\n",
    "par_starting_vals = pars_to_tpl_entries(pars, 'carea_max', hrus, segs, par_starting_vals, hru_based=True, \n",
    "                    seg_based=False, month_based=False)\n",
    "par_starting_vals = pars_to_tpl_entries(pars, 'cecn_coef', hrus, segs, par_starting_vals, hru_based=True, \n",
    "                    seg_based=False, month_based=True)\n",
    "par_starting_vals = pars_to_tpl_entries(pars, 'emis_noppt', hrus, segs, par_starting_vals, hru_based=True, \n",
    "                    seg_based=False, month_based=False)\n",
    "par_starting_vals = pars_to_tpl_entries(pars, 'fastcoef_lin', hrus, segs, par_starting_vals, hru_based=True, \n",
    "                    seg_based=False, month_based=False)\n",
    "par_starting_vals = pars_to_tpl_entries(pars, 'freeh2o_cap', hrus, segs, par_starting_vals, hru_based=True, \n",
    "                    seg_based=False, month_based=False)\n",
    "par_starting_vals = pars_to_tpl_entries(pars, 'gwflow_coef', hrus, segs, par_starting_vals, hru_based=True, \n",
    "                    seg_based=False, month_based=False)\n",
    "par_starting_vals = pars_to_tpl_entries(pars, 'jh_coef', hrus, segs, par_starting_vals, hru_based=True, \n",
    "                    seg_based=False, month_based=True)\n",
    "par_starting_vals = pars_to_tpl_entries(pars, 'mann_n', hrus, segs, par_starting_vals, hru_based=False, \n",
    "                    seg_based=True, month_based=False)\n",
    "par_starting_vals = pars_to_tpl_entries(pars, 'potet_sublim', hrus, segs, par_starting_vals, hru_based=True, \n",
    "                    seg_based=False, month_based=False)\n",
    "par_starting_vals = pars_to_tpl_entries(pars, 'rad_trncf', hrus, segs, par_starting_vals, hru_based=True, \n",
    "                    seg_based=False, month_based=False)\n",
    "par_starting_vals = pars_to_tpl_entries(pars, 'radmax', hrus, segs, par_starting_vals, hru_based=True, \n",
    "                    seg_based=False, month_based=True)\n",
    "par_starting_vals = pars_to_tpl_entries(pars, 'rain_cbh_adj', hrus, segs, par_starting_vals, hru_based=True, \n",
    "                    seg_based=False, month_based=True)\n",
    "par_starting_vals = pars_to_tpl_entries(pars, 'slowcoef_sq', hrus, segs, par_starting_vals, hru_based=True, \n",
    "                    seg_based=False, month_based=False)\n",
    "par_starting_vals = pars_to_tpl_entries(pars, 'smidx_coef', hrus, segs, par_starting_vals, hru_based=True, \n",
    "                    seg_based=False, month_based=False)\n",
    "par_starting_vals = pars_to_tpl_entries(pars, 'snarea_thresh', hrus, segs, par_starting_vals, hru_based=True, \n",
    "                    seg_based=False, month_based=False)\n",
    "par_starting_vals = pars_to_tpl_entries(pars, 'snowinfil_max', hrus, segs, par_starting_vals, hru_based=True, \n",
    "                    seg_based=False, month_based=False)\n",
    "par_starting_vals = pars_to_tpl_entries(pars, 'snow_cbh_adj', hrus, segs, par_starting_vals, hru_based=True, \n",
    "                    seg_based=False, month_based=True)\n",
    "par_starting_vals = pars_to_tpl_entries(pars, 'soil2gw_max', hrus, segs, par_starting_vals, hru_based=True, \n",
    "                    seg_based=False, month_based=False)\n",
    "par_starting_vals = pars_to_tpl_entries(pars, 'soil_moist_max', hrus, segs, par_starting_vals, hru_based=True, \n",
    "                    seg_based=False, month_based=False)\n",
    "par_starting_vals = pars_to_tpl_entries(pars, 'soil_rechr_max_frac', hrus, segs, par_starting_vals, hru_based=True, \n",
    "                    seg_based=False, month_based=False)\n",
    "par_starting_vals = pars_to_tpl_entries(pars, 'ssr2gw_exp', hrus, segs, par_starting_vals, hru_based=True, \n",
    "                    seg_based=False, month_based=False)\n",
    "par_starting_vals = pars_to_tpl_entries(pars, 'ssr2gw_rate', hrus, segs, par_starting_vals, hru_based=True, \n",
    "                    seg_based=False, month_based=False)\n",
    "par_starting_vals = pars_to_tpl_entries(pars, 'tmax_allrain_offset', hrus, segs, par_starting_vals, hru_based=True, \n",
    "                    seg_based=False, month_based=True)\n",
    "par_starting_vals = pars_to_tpl_entries(pars, 'tmax_allsnow', hrus, segs, par_starting_vals, hru_based=True, \n",
    "                    seg_based=False, month_based=True)\n",
    "par_starting_vals = pars_to_tpl_entries(pars, 'tmax_cbh_adj', hrus, segs, par_starting_vals, hru_based=True, \n",
    "                    seg_based=False, month_based=True)\n",
    "par_starting_vals = pars_to_tpl_entries(pars, 'tmin_cbh_adj', hrus, segs, par_starting_vals, hru_based=True, \n",
    "                    seg_based=False, month_based=True)\n"
   ]
  },
  {
   "cell_type": "code",
   "execution_count": null,
   "id": "e085369a",
   "metadata": {},
   "outputs": [],
   "source": [
    "par_starting_vals"
   ]
  },
  {
   "cell_type": "markdown",
   "id": "6e5f7c65",
   "metadata": {},
   "source": [
    "### once we have all the parameter arrays replaced by names, we can write out the template file"
   ]
  },
  {
   "cell_type": "code",
   "execution_count": null,
   "id": "012dff40",
   "metadata": {},
   "outputs": [],
   "source": [
    "write_to_json_tpl(pars, wkdir / 'parameters.json.tpl')\n",
    "par_starting_vals.to_csv(wkdir / 'starting_par_vals.dat', index=None, sep=' ')"
   ]
  },
  {
   "cell_type": "markdown",
   "id": "1f55120f",
   "metadata": {},
   "source": [
    "### Map to model output to an Instruction File (.ins)"
   ]
  },
  {
   "cell_type": "code",
   "execution_count": null,
   "id": "0f623d05",
   "metadata": {},
   "outputs": [],
   "source": [
    "obsvals = pd.read_csv(wkdir / 'allobs.dat', delim_whitespace= True)\n",
    "obsvals.sample(5)"
   ]
  },
  {
   "cell_type": "code",
   "execution_count": null,
   "id": "d63ed39f",
   "metadata": {},
   "outputs": [],
   "source": [
    "with open(wkdir /'alloutput.dat.ins', 'w') as ofp:\n",
    "    ofp.write('pif ~\\n')\n",
    "    ofp.write('~obsval~\\n')\n",
    "    [ofp.write(f'l1 w !{i}!\\n') for i in obsvals.obsname]"
   ]
  },
  {
   "cell_type": "markdown",
   "id": "bacce5df",
   "metadata": {},
   "source": [
    "### create PST control file object with `pyemu`"
   ]
  },
  {
   "cell_type": "code",
   "execution_count": null,
   "id": "27156d14",
   "metadata": {},
   "outputs": [],
   "source": [
    "pst = pyemu.Pst.from_io_files(tpl_files = [str(wkdir / 'parameters.json.tpl')],\n",
    "                              in_files=[str(wkdir / 'parameters.json')],\n",
    "                             ins_files = [str(wkdir / 'alloutput.dat.ins')],\n",
    "                              out_files = [str(wkdir / 'alloutput.dat')],\n",
    "                             pst_path = '.')"
   ]
  },
  {
   "cell_type": "code",
   "execution_count": null,
   "id": "966ebfad",
   "metadata": {},
   "outputs": [],
   "source": [
    "pars = pst.parameter_data\n",
    "pars.loc['adjmix_rain:hru_5621:mon_1','parval1'] = 987236\n",
    "pst.parameter_data"
   ]
  },
  {
   "cell_type": "code",
   "execution_count": null,
   "id": "05937510",
   "metadata": {},
   "outputs": [],
   "source": [
    "obs = pst.observation_data #This is a pyemu function"
   ]
  },
  {
   "cell_type": "code",
   "execution_count": null,
   "id": "ed908fe3",
   "metadata": {},
   "outputs": [],
   "source": [
    "obs = obs.loc[obsvals.obsname,:]"
   ]
  },
  {
   "cell_type": "code",
   "execution_count": null,
   "id": "dcae8427",
   "metadata": {},
   "outputs": [],
   "source": [
    "obs"
   ]
  },
  {
   "cell_type": "code",
   "execution_count": null,
   "id": "63643eb6",
   "metadata": {},
   "outputs": [],
   "source": [
    "obs.loc[obsvals.obsname, 'obsval'] = obsvals.obsval.values\n",
    "obs"
   ]
  },
  {
   "cell_type": "code",
   "execution_count": null,
   "id": "cad957b0",
   "metadata": {},
   "outputs": [],
   "source": [
    "obs.loc[obs.obsval==-9999,'weight'] = 0\n",
    "obs"
   ]
  },
  {
   "cell_type": "markdown",
   "id": "c912214d",
   "metadata": {},
   "source": [
    "#### Creating Groups observations"
   ]
  },
  {
   "cell_type": "code",
   "execution_count": null,
   "id": "b93f650d",
   "metadata": {},
   "outputs": [],
   "source": [
    "obs.loc[obs.obsnme.str.startswith('actet_mon'),'obgnme'] = 'actet_mon'\n",
    "obs.loc[obs.obsnme.str.startswith('actet_mean_mon'),'obgnme'] = 'actet_mean_mon'\n",
    "obs.loc[obs.obsnme.str.startswith('recharge_ann'),'obgnme'] = 'recharge_ann'\n",
    "obs.loc[obs.obsnme.str.startswith('soil_moist_mon'),'obgnme'] = 'soil_moist_mon'\n",
    "obs.loc[obs.obsnme.str.startswith('soil_moist_ann'),'obgnme'] = 'soil_moist_ann'\n",
    "obs.loc[obs.obsnme.str.startswith('runoff_mon'),'obgnme'] = 'runoff_mon'\n",
    "obs.loc[obs.obsnme.str.startswith('sca_daily'),'obgnme'] = 'sca_daily'\n",
    "obs.sample(20)"
   ]
  },
  {
   "cell_type": "code",
   "execution_count": null,
   "id": "164a1498",
   "metadata": {},
   "outputs": [],
   "source": [
    "# copy the updated obs information back to pst\n",
    "pst.observation_data = obs.copy()\n",
    "pst.observation_data"
   ]
  },
  {
   "cell_type": "code",
   "execution_count": null,
   "id": "9153375a",
   "metadata": {},
   "outputs": [],
   "source": [
    "pst.write(str(wkdir / 'prior_mc.pst'))"
   ]
  },
  {
   "cell_type": "code",
   "execution_count": null,
   "id": "81a6f5bd",
   "metadata": {},
   "outputs": [],
   "source": [
    "pst.write(str(wkdir / 'prior_mc_better.pst'), version=2)"
   ]
  },
  {
   "cell_type": "code",
   "execution_count": null,
   "id": "284942b8",
   "metadata": {},
   "outputs": [],
   "source": []
  }
 ],
 "metadata": {
  "kernelspec": {
   "display_name": "Python 3 (ipykernel)",
   "language": "python",
   "name": "python3"
  },
  "language_info": {
   "codemirror_mode": {
    "name": "ipython",
    "version": 3
   },
   "file_extension": ".py",
   "mimetype": "text/x-python",
   "name": "python",
   "nbconvert_exporter": "python",
   "pygments_lexer": "ipython3",
   "version": "3.10.10"
  }
 },
 "nbformat": 4,
 "nbformat_minor": 5
}
