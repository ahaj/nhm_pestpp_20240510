{
 "cells": [
  {
   "cell_type": "code",
   "execution_count": 1,
   "id": "ebeadd5d",
   "metadata": {},
   "outputs": [],
   "source": [
    "import pywatershed\n",
    "import pandas as pd\n",
    "from pathlib import Path as pl\n",
    "import json\n",
    "import numpy as np\n",
    "from pywatershed.utils.parameters import JSONParameterEncoder\n",
    "import sys\n",
    "sys.path.append('../scripts/')\n",
    "from pest_utils import pars_to_tpl_entries"
   ]
  },
  {
   "cell_type": "code",
   "execution_count": 2,
   "id": "8aff9310",
   "metadata": {},
   "outputs": [],
   "source": [
    "def write_to_json_tpl(pars, json_filename):\n",
    "    with open(json_filename, \"w\") as ofp:\n",
    "        ofp.write('ptf ~\\n')\n",
    "        json.dump(\n",
    "            pars,\n",
    "            ofp,\n",
    "            indent=4,\n",
    "            cls=JSONParameterEncoder,\n",
    "        )\n",
    "    # this sucks - should be a more direct way but whatevs. it verks\n",
    "    inlines = open(json_filename, 'r').readlines()\n",
    "    with open(json_filename, 'w') as ofp:\n",
    "        [ofp.write(i.replace('\"~','~').replace('~\"','~')) for i in inlines]"
   ]
  },
  {
   "cell_type": "markdown",
   "id": "14539676",
   "metadata": {},
   "source": [
    "## We will be running on each cutout eventually, but start with one"
   ]
  },
  {
   "cell_type": "code",
   "execution_count": 3,
   "id": "669c2eca",
   "metadata": {},
   "outputs": [],
   "source": [
    "wkdir = pl('../NHM_extractions/20230110_pois_haj/01473000/')"
   ]
  },
  {
   "cell_type": "markdown",
   "id": "38d4e462",
   "metadata": {},
   "source": [
    "## Read in the oldskool parameter file as nested dictionaries, a.k.a. a Json-style file. This file would need to be written as a .txt file like the original myparam.param, unless Joe changes the pyWatershed code to read in the json-style file instead. Check with Mike/Joe."
   ]
  },
  {
   "cell_type": "code",
   "execution_count": 4,
   "id": "e19bbb97",
   "metadata": {},
   "outputs": [],
   "source": [
    "pardat = pywatershed.parameters.PrmsParameters.load(wkdir / \"myparam.param\")"
   ]
  },
  {
   "cell_type": "code",
   "execution_count": 5,
   "id": "b10b00a1",
   "metadata": {},
   "outputs": [],
   "source": [
    "pars = pardat.parameters"
   ]
  },
  {
   "cell_type": "markdown",
   "id": "b08980a0",
   "metadata": {},
   "source": [
    "#### View the keys for \"pars\" --These will be the parameters with values listed in the \"myparam.param\" file of the extraction."
   ]
  },
  {
   "cell_type": "code",
   "execution_count": 6,
   "id": "53ae2abc",
   "metadata": {},
   "outputs": [],
   "source": [
    "#pars.keys()"
   ]
  },
  {
   "cell_type": "markdown",
   "id": "e5255df8",
   "metadata": {},
   "source": [
    "#### View values of one paramenter"
   ]
  },
  {
   "cell_type": "code",
   "execution_count": 7,
   "id": "8347d5ad",
   "metadata": {},
   "outputs": [
    {
     "data": {
      "text/plain": [
       "array([5621, 5625, 5628, 5635, 5637, 5643, 5678, 5679, 5686, 5690, 5693,\n",
       "       5697, 5703, 5728, 7128, 7156, 7157])"
      ]
     },
     "execution_count": 7,
     "metadata": {},
     "output_type": "execute_result"
    }
   ],
   "source": [
    "pars['nhm_id']"
   ]
  },
  {
   "cell_type": "markdown",
   "id": "3e920a25",
   "metadata": {},
   "source": [
    "## Create a PEST template file version of json-style of myparam.param, \"pars\""
   ]
  },
  {
   "cell_type": "code",
   "execution_count": null,
   "id": "d6d0669d",
   "metadata": {},
   "outputs": [],
   "source": []
  },
  {
   "cell_type": "code",
   "execution_count": 8,
   "id": "2d4b7ac7",
   "metadata": {},
   "outputs": [
    {
     "data": {
      "text/plain": [
       "array([5621, 5625, 5628, 5635, 5637, 5643, 5678, 5679, 5686, 5690, 5693,\n",
       "       5697, 5703, 5728, 7128, 7156, 7157])"
      ]
     },
     "execution_count": 8,
     "metadata": {},
     "output_type": "execute_result"
    }
   ],
   "source": [
    "# Make a list of hrus from \"pars\"\n",
    "hrus = pars['nhm_id']\n",
    "hrus"
   ]
  },
  {
   "cell_type": "code",
   "execution_count": 9,
   "id": "e6cc0dcd",
   "metadata": {},
   "outputs": [
    {
     "data": {
      "text/plain": [
       "array([2308, 2309, 2310, 2289, 2290, 2292, 2294, 2300, 2302, 2303])"
      ]
     },
     "execution_count": 9,
     "metadata": {},
     "output_type": "execute_result"
    }
   ],
   "source": [
    "segs = pars['nhm_seg']\n",
    "segs"
   ]
  },
  {
   "cell_type": "markdown",
   "id": "d955949a",
   "metadata": {},
   "source": [
    "### Run through all the currently-defined parameters, and using Mike's function \"pars_to_tpl_entries()\", write param stating values to a new dataframe \"par_starting_vals\""
   ]
  },
  {
   "cell_type": "code",
   "execution_count": 10,
   "id": "291060d3",
   "metadata": {},
   "outputs": [],
   "source": [
    "# Create empty dataframe with columns parname (pestpp param name) and parval1 (pestpp starting value)\n",
    "par_starting_vals = pd.DataFrame(columns=['parname','parval1'])"
   ]
  },
  {
   "cell_type": "code",
   "execution_count": 11,
   "id": "5b383006",
   "metadata": {},
   "outputs": [],
   "source": [
    "#par_starting_vals"
   ]
  },
  {
   "cell_type": "code",
   "execution_count": 12,
   "id": "b410a6c2",
   "metadata": {},
   "outputs": [],
   "source": [
    "par_starting_vals = pars_to_tpl_entries(pars, 'adjmix_rain', hrus, segs, par_starting_vals, hru_based=True, \n",
    "                    seg_based=False, month_based=True)\n",
    "par_starting_vals = pars_to_tpl_entries(pars, 'carea_max', hrus, segs, par_starting_vals, hru_based=True, \n",
    "                    seg_based=False, month_based=False)\n",
    "par_starting_vals = pars_to_tpl_entries(pars, 'cecn_coef', hrus, segs, par_starting_vals, hru_based=True, \n",
    "                    seg_based=False, month_based=True)\n",
    "par_starting_vals = pars_to_tpl_entries(pars, 'emis_noppt', hrus, segs, par_starting_vals, hru_based=True, \n",
    "                    seg_based=False, month_based=False)\n",
    "par_starting_vals = pars_to_tpl_entries(pars, 'fastcoef_lin', hrus, segs, par_starting_vals, hru_based=True, \n",
    "                    seg_based=False, month_based=False)\n",
    "par_starting_vals = pars_to_tpl_entries(pars, 'freeh2o_cap', hrus, segs, par_starting_vals, hru_based=True, \n",
    "                    seg_based=False, month_based=False)\n",
    "par_starting_vals = pars_to_tpl_entries(pars, 'gwflow_coef', hrus, segs, par_starting_vals, hru_based=True, \n",
    "                    seg_based=False, month_based=False)\n",
    "par_starting_vals = pars_to_tpl_entries(pars, 'jh_coef', hrus, segs, par_starting_vals, hru_based=True, \n",
    "                    seg_based=False, month_based=True)\n",
    "par_starting_vals = pars_to_tpl_entries(pars, 'mann_n', hrus, segs, par_starting_vals, hru_based=False, \n",
    "                    seg_based=True, month_based=False)\n",
    "par_starting_vals = pars_to_tpl_entries(pars, 'potet_sublim', hrus, segs, par_starting_vals, hru_based=True, \n",
    "                    seg_based=False, month_based=False)\n",
    "par_starting_vals = pars_to_tpl_entries(pars, 'rad_trncf', hrus, segs, par_starting_vals, hru_based=True, \n",
    "                    seg_based=False, month_based=False)\n",
    "par_starting_vals = pars_to_tpl_entries(pars, 'radmax', hrus, segs, par_starting_vals, hru_based=True, \n",
    "                    seg_based=False, month_based=True)\n",
    "par_starting_vals = pars_to_tpl_entries(pars, 'rain_cbh_adj', hrus, segs, par_starting_vals, hru_based=True, \n",
    "                    seg_based=False, month_based=True)\n",
    "par_starting_vals = pars_to_tpl_entries(pars, 'slowcoef_sq', hrus, segs, par_starting_vals, hru_based=True, \n",
    "                    seg_based=False, month_based=False)\n",
    "par_starting_vals = pars_to_tpl_entries(pars, 'smidx_coef', hrus, segs, par_starting_vals, hru_based=True, \n",
    "                    seg_based=False, month_based=False)\n",
    "par_starting_vals = pars_to_tpl_entries(pars, 'snarea_thresh', hrus, segs, par_starting_vals, hru_based=True, \n",
    "                    seg_based=False, month_based=False)\n",
    "par_starting_vals = pars_to_tpl_entries(pars, 'snowinfil_max', hrus, segs, par_starting_vals, hru_based=True, \n",
    "                    seg_based=False, month_based=False)\n",
    "par_starting_vals = pars_to_tpl_entries(pars, 'snow_cbh_adj', hrus, segs, par_starting_vals, hru_based=True, \n",
    "                    seg_based=False, month_based=True)\n",
    "par_starting_vals = pars_to_tpl_entries(pars, 'soil2gw_max', hrus, segs, par_starting_vals, hru_based=True, \n",
    "                    seg_based=False, month_based=False)\n",
    "par_starting_vals = pars_to_tpl_entries(pars, 'soil_moist_max', hrus, segs, par_starting_vals, hru_based=True, \n",
    "                    seg_based=False, month_based=False)\n",
    "par_starting_vals = pars_to_tpl_entries(pars, 'soil_rechr_max_frac', hrus, segs, par_starting_vals, hru_based=True, \n",
    "                    seg_based=False, month_based=False)\n",
    "par_starting_vals = pars_to_tpl_entries(pars, 'ssr2gw_exp', hrus, segs, par_starting_vals, hru_based=True, \n",
    "                    seg_based=False, month_based=False)\n",
    "par_starting_vals = pars_to_tpl_entries(pars, 'ssr2gw_rate', hrus, segs, par_starting_vals, hru_based=True, \n",
    "                    seg_based=False, month_based=False)\n",
    "par_starting_vals = pars_to_tpl_entries(pars, 'tmax_allrain_offset', hrus, segs, par_starting_vals, hru_based=True, \n",
    "                    seg_based=False, month_based=True)\n",
    "par_starting_vals = pars_to_tpl_entries(pars, 'tmax_allsnow', hrus, segs, par_starting_vals, hru_based=True, \n",
    "                    seg_based=False, month_based=True)\n",
    "par_starting_vals = pars_to_tpl_entries(pars, 'tmax_cbh_adj', hrus, segs, par_starting_vals, hru_based=True, \n",
    "                    seg_based=False, month_based=True)\n",
    "par_starting_vals = pars_to_tpl_entries(pars, 'tmin_cbh_adj', hrus, segs, par_starting_vals, hru_based=True, \n",
    "                    seg_based=False, month_based=True)\n"
   ]
  },
  {
   "cell_type": "code",
   "execution_count": 13,
   "id": "e085369a",
   "metadata": {},
   "outputs": [
    {
     "data": {
      "text/html": [
       "<div>\n",
       "<style scoped>\n",
       "    .dataframe tbody tr th:only-of-type {\n",
       "        vertical-align: middle;\n",
       "    }\n",
       "\n",
       "    .dataframe tbody tr th {\n",
       "        vertical-align: top;\n",
       "    }\n",
       "\n",
       "    .dataframe thead th {\n",
       "        text-align: right;\n",
       "    }\n",
       "</style>\n",
       "<table border=\"1\" class=\"dataframe\">\n",
       "  <thead>\n",
       "    <tr style=\"text-align: right;\">\n",
       "      <th></th>\n",
       "      <th>parname</th>\n",
       "      <th>parval1</th>\n",
       "    </tr>\n",
       "  </thead>\n",
       "  <tbody>\n",
       "    <tr>\n",
       "      <th>0</th>\n",
       "      <td>adjmix_rain:hru_5621:mon_1</td>\n",
       "      <td>0.668501</td>\n",
       "    </tr>\n",
       "    <tr>\n",
       "      <th>1</th>\n",
       "      <td>adjmix_rain:hru_5625:mon_1</td>\n",
       "      <td>0.668501</td>\n",
       "    </tr>\n",
       "    <tr>\n",
       "      <th>2</th>\n",
       "      <td>adjmix_rain:hru_5628:mon_1</td>\n",
       "      <td>0.668501</td>\n",
       "    </tr>\n",
       "    <tr>\n",
       "      <th>3</th>\n",
       "      <td>adjmix_rain:hru_5635:mon_1</td>\n",
       "      <td>0.668501</td>\n",
       "    </tr>\n",
       "    <tr>\n",
       "      <th>4</th>\n",
       "      <td>adjmix_rain:hru_5637:mon_1</td>\n",
       "      <td>0.668501</td>\n",
       "    </tr>\n",
       "    <tr>\n",
       "      <th>...</th>\n",
       "      <td>...</td>\n",
       "      <td>...</td>\n",
       "    </tr>\n",
       "    <tr>\n",
       "      <th>199</th>\n",
       "      <td>tmin_cbh_adj:hru_5703:mon_12</td>\n",
       "      <td>1.383938</td>\n",
       "    </tr>\n",
       "    <tr>\n",
       "      <th>200</th>\n",
       "      <td>tmin_cbh_adj:hru_5728:mon_12</td>\n",
       "      <td>3.000000</td>\n",
       "    </tr>\n",
       "    <tr>\n",
       "      <th>201</th>\n",
       "      <td>tmin_cbh_adj:hru_7128:mon_12</td>\n",
       "      <td>0.691790</td>\n",
       "    </tr>\n",
       "    <tr>\n",
       "      <th>202</th>\n",
       "      <td>tmin_cbh_adj:hru_7156:mon_12</td>\n",
       "      <td>2.468683</td>\n",
       "    </tr>\n",
       "    <tr>\n",
       "      <th>203</th>\n",
       "      <td>tmin_cbh_adj:hru_7157:mon_12</td>\n",
       "      <td>2.236548</td>\n",
       "    </tr>\n",
       "  </tbody>\n",
       "</table>\n",
       "<p>2322 rows × 2 columns</p>\n",
       "</div>"
      ],
      "text/plain": [
       "                          parname   parval1\n",
       "0      adjmix_rain:hru_5621:mon_1  0.668501\n",
       "1      adjmix_rain:hru_5625:mon_1  0.668501\n",
       "2      adjmix_rain:hru_5628:mon_1  0.668501\n",
       "3      adjmix_rain:hru_5635:mon_1  0.668501\n",
       "4      adjmix_rain:hru_5637:mon_1  0.668501\n",
       "..                            ...       ...\n",
       "199  tmin_cbh_adj:hru_5703:mon_12  1.383938\n",
       "200  tmin_cbh_adj:hru_5728:mon_12  3.000000\n",
       "201  tmin_cbh_adj:hru_7128:mon_12  0.691790\n",
       "202  tmin_cbh_adj:hru_7156:mon_12  2.468683\n",
       "203  tmin_cbh_adj:hru_7157:mon_12  2.236548\n",
       "\n",
       "[2322 rows x 2 columns]"
      ]
     },
     "execution_count": 13,
     "metadata": {},
     "output_type": "execute_result"
    }
   ],
   "source": [
    "par_starting_vals"
   ]
  },
  {
   "cell_type": "markdown",
   "id": "6e5f7c65",
   "metadata": {},
   "source": [
    "### once we have all the parameter arrays replaced by names, we can write out the template file"
   ]
  },
  {
   "cell_type": "code",
   "execution_count": 14,
   "id": "012dff40",
   "metadata": {},
   "outputs": [],
   "source": [
    "write_to_json_tpl(pars, wkdir / 'test.tpl')\n",
    "par_starting_vals.to_csv(wkdir / 'starting_par_vals.dat', index=None, sep=' ')"
   ]
  }
 ],
 "metadata": {
  "kernelspec": {
   "display_name": "Python 3 (ipykernel)",
   "language": "python",
   "name": "python3"
  },
  "language_info": {
   "codemirror_mode": {
    "name": "ipython",
    "version": 3
   },
   "file_extension": ".py",
   "mimetype": "text/x-python",
   "name": "python",
   "nbconvert_exporter": "python",
   "pygments_lexer": "ipython3",
   "version": "3.10.10"
  }
 },
 "nbformat": 4,
 "nbformat_minor": 5
}
