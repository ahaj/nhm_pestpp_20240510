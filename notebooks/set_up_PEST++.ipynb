{
 "cells": [
  {
   "cell_type": "code",
   "execution_count": null,
   "id": "ebeadd5d",
   "metadata": {},
   "outputs": [],
   "source": [
    "import pynhm\n",
    "import pandas as pd\n",
    "from pathlib import Path as pl\n",
    "import json\n",
    "import numpy as np\n",
    "from pynhm.utils.parameters import JSONParameterEncoder"
   ]
  },
  {
   "cell_type": "code",
   "execution_count": null,
   "id": "8aff9310",
   "metadata": {},
   "outputs": [],
   "source": [
    "def write_to_json_tpl(pars, json_filename):\n",
    "    with open(json_filename, \"w\") as ofp:\n",
    "        ofp.write('ptf ~\\n')\n",
    "        json.dump(\n",
    "            pars,\n",
    "            ofp,\n",
    "            indent=4,\n",
    "            cls=JSONParameterEncoder,\n",
    "        )\n",
    "    # this sucks - should be a more direct way but whatevs. it verks\n",
    "    inlines = open(json_filename, 'r').readlines()\n",
    "    with open(json_filename, 'w') as ofp:\n",
    "        [ofp.write(i.replace('\"~','~').replace('~\"','~')) for i in inlines]"
   ]
  },
  {
   "cell_type": "markdown",
   "id": "14539676",
   "metadata": {},
   "source": [
    "## we will be running on each cutout eventually, but start with one"
   ]
  },
  {
   "cell_type": "code",
   "execution_count": null,
   "id": "669c2eca",
   "metadata": {},
   "outputs": [],
   "source": [
    "wkdir = pl('../NHM_extractions/20230110_pois_haj/01473000/')"
   ]
  },
  {
   "cell_type": "code",
   "execution_count": null,
   "id": "e19bbb97",
   "metadata": {},
   "outputs": [],
   "source": [
    "# read in the oldskool parameter file as nested dictionaries (whatup json?)\n",
    "pardat = pynhm.PrmsParameters.load(wkdir / \"myparam.param\")"
   ]
  },
  {
   "cell_type": "code",
   "execution_count": null,
   "id": "b10b00a1",
   "metadata": {},
   "outputs": [],
   "source": [
    "pars = pardat.parameters"
   ]
  },
  {
   "cell_type": "code",
   "execution_count": null,
   "id": "8347d5ad",
   "metadata": {},
   "outputs": [],
   "source": [
    "pars['nhm_id']"
   ]
  },
  {
   "cell_type": "markdown",
   "id": "3e920a25",
   "metadata": {},
   "source": [
    "## create a template file version of json-style input"
   ]
  },
  {
   "cell_type": "code",
   "execution_count": null,
   "id": "d6d0669d",
   "metadata": {},
   "outputs": [],
   "source": [
    "pars"
   ]
  },
  {
   "cell_type": "code",
   "execution_count": null,
   "id": "2d4b7ac7",
   "metadata": {},
   "outputs": [],
   "source": [
    "# find list of hrus\n",
    "hrus = pars['nhm_id']\n",
    "hrus"
   ]
  },
  {
   "cell_type": "markdown",
   "id": "b44ce0ed",
   "metadata": {},
   "source": [
    "## run through the parameters"
   ]
  },
  {
   "cell_type": "code",
   "execution_count": null,
   "id": "598eaa83",
   "metadata": {},
   "outputs": [],
   "source": [
    "# start with adjmix_rain\n",
    "\n",
    "# how big are you, adjmix_rain?\n",
    "pars['adjmix_rain'].shape"
   ]
  },
  {
   "cell_type": "code",
   "execution_count": null,
   "id": "23a8d611",
   "metadata": {},
   "outputs": [],
   "source": [
    "# make parameter values into meaningful metadata-rich unique strings (i.e. names)\n",
    "adjmix_rain_pars = []\n",
    "for cmonth in range(12):\n",
    "    # oh hi there list comprehension - you are veeeery swanky\n",
    "    adjmix_rain_pars.append(['~{0:^35}~'.format(f'adjmix_rain:hru_{chru}:mon_{cmonth+1}')\n",
    "                             for chru in hrus])\n",
    "# cast into a numpy array cuz the json write will probably 💩 if given a list of lists\n",
    "adjmix_rain_pars = np.array(adjmix_rain_pars)"
   ]
  },
  {
   "cell_type": "code",
   "execution_count": null,
   "id": "95a61509",
   "metadata": {},
   "outputs": [],
   "source": [
    "# reset the pars entry to contain the strings rather than the numerical inputs\n",
    "pars['adjmix_rain'] = adjmix_rain_pars"
   ]
  },
  {
   "cell_type": "markdown",
   "id": "661cf921",
   "metadata": {},
   "source": [
    "### now run through all the other input parameters...."
   ]
  },
  {
   "cell_type": "markdown",
   "id": "6e5f7c65",
   "metadata": {},
   "source": [
    "### once we have all the parameter arrays replaced by names, we can write out the template file"
   ]
  },
  {
   "cell_type": "code",
   "execution_count": null,
   "id": "012dff40",
   "metadata": {},
   "outputs": [],
   "source": [
    "write_to_json_tpl(pars, 'test.tpl')"
   ]
  },
  {
   "cell_type": "code",
   "execution_count": null,
   "id": "433c2986",
   "metadata": {},
   "outputs": [],
   "source": []
  }
 ],
 "metadata": {
  "kernelspec": {
   "display_name": "Python 3 (ipykernel)",
   "language": "python",
   "name": "python3"
  },
  "language_info": {
   "codemirror_mode": {
    "name": "ipython",
    "version": 3
   },
   "file_extension": ".py",
   "mimetype": "text/x-python",
   "name": "python",
   "nbconvert_exporter": "python",
   "pygments_lexer": "ipython3",
   "version": "3.10.8"
  }
 },
 "nbformat": 4,
 "nbformat_minor": 5
}
