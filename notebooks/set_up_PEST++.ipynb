{
 "cells": [
  {
   "cell_type": "code",
   "execution_count": null,
   "id": "ebeadd5d",
   "metadata": {},
   "outputs": [],
   "source": [
    "import pynhm\n",
    "import pandas as pd\n",
    "from pathlib import Path as pl\n",
    "import json\n",
    "import numpy as np"
   ]
  },
  {
   "cell_type": "code",
   "execution_count": null,
   "id": "669c2eca",
   "metadata": {},
   "outputs": [],
   "source": [
    "wkdir = pl('../NHM_extractions/20230110_pois_haj/01473000/')"
   ]
  },
  {
   "cell_type": "code",
   "execution_count": null,
   "id": "e19bbb97",
   "metadata": {},
   "outputs": [],
   "source": [
    "pardat = pynhm.PrmsParameters.load(wkdir / \"myparam.param\")"
   ]
  },
  {
   "cell_type": "code",
   "execution_count": null,
   "id": "b10b00a1",
   "metadata": {},
   "outputs": [],
   "source": [
    "pars = pardat.parameters"
   ]
  },
  {
   "cell_type": "code",
   "execution_count": null,
   "id": "8347d5ad",
   "metadata": {},
   "outputs": [],
   "source": [
    "pars['nhm_id']"
   ]
  },
  {
   "cell_type": "code",
   "execution_count": null,
   "id": "30955e28",
   "metadata": {},
   "outputs": [],
   "source": [
    "pardat.parameters_to_json(wkdir / 'tmp.json')"
   ]
  },
  {
   "cell_type": "code",
   "execution_count": null,
   "id": "275eac16",
   "metadata": {},
   "outputs": [],
   "source": [
    "pars"
   ]
  },
  {
   "cell_type": "code",
   "execution_count": null,
   "id": "e6c57a11",
   "metadata": {},
   "outputs": [],
   "source": [
    "pardat.parameters"
   ]
  },
  {
   "cell_type": "code",
   "execution_count": null,
   "id": "f56e4ac4",
   "metadata": {},
   "outputs": [],
   "source": []
  }
 ],
 "metadata": {
  "kernelspec": {
   "display_name": "Python 3 (ipykernel)",
   "language": "python",
   "name": "python3"
  },
  "language_info": {
   "codemirror_mode": {
    "name": "ipython",
    "version": 3
   },
   "file_extension": ".py",
   "mimetype": "text/x-python",
   "name": "python",
   "nbconvert_exporter": "python",
   "pygments_lexer": "ipython3",
   "version": "3.10.8"
  }
 },
 "nbformat": 4,
 "nbformat_minor": 5
}
